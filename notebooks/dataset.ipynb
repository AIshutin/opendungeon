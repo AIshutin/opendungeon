{
 "cells": [
  {
   "cell_type": "code",
   "execution_count": 1,
   "id": "9b76e0e7",
   "metadata": {},
   "outputs": [],
   "source": [
    "import json\n",
    "import seaborn as sns\n",
    "import os\n",
    "import transformers\n",
    "from tqdm.notebook import tqdm\n",
    "import numpy as np\n",
    "tokenizer = transformers.AutoTokenizer.from_pretrained(\"EleutherAI/gpt-j-6B\", cache_dir=\"mycache\")\n",
    "MAX_INPUT_TOKENS = 2048\n",
    "MAX_INPUT_WORDS = 1500"
   ]
  },
  {
   "cell_type": "code",
   "execution_count": 2,
   "id": "1876c04d",
   "metadata": {},
   "outputs": [
    {
     "data": {
      "text/plain": [
       "'DM: You summon your mental forces and prepare to unleash a weave of raw magica against Farhan. He apparently has not noticed you yet.Knowing you have to go for speed rather than for finesse, you just hope that your mental strength suffices for you not to black out. Then, you banish those distracting thoughts from your mind and concentrate at the work on hand.Within seconds, the weave is completed, and you hurl it with a single word of power against the emissary who dances among the wolves, cutting them down.Your magical force hits him straight into the chest.\\nPlayer: This is not the case.\\nDM: But Farhan simply shrugs off your mental assault.You are shocked by this, and he turns towards you with an evil grin on his face, and cuts his way through the wolves towards you.Horrified, and knowing your mental reserves are depleted entirely, you brandish your own sword, slowly giving way to Farhan. Unrelentlessly, he comes towards you.You turn to flee, knowing you cannot face him in hand to hand combat, and make a run for it, but he is faster.You utter an inhuman scream as the wicked blade he wields bites into your flesh, and you feel your very soul being drawn into the very weapon, feeding both its wielder and its own hunger...\\nPlayer: You have died...\\nDM: An eternity passes in the wake of a second.You are floating in an emptiness even your bodiless mind fails to grasp. It appears as both a darkness so dark as to blind your mental eyes and a light so bright that it is already black at the same time.You see, with eyes not your own, the strands of raw magic that weave the pattern of the universe. There is the searing strand of Fire wherever the pattern forms a living soul, filling it with passion and emotion to differ it from the animals. Air lights up, with light blue strand of magic, whenever joy is felt or beauty grasped. Earth, a rich brown and green, gives life to plants and animals and all things that breathe. Water, the purest of elements, a deep blue that fills life in the hulls Earth is creating. Ice, most mysterious element of all, shines with a bright white, and you grasp that it forms the underlying logic of the pattern, directing all other strands into their destined form.And suddenly you understand.The secrets of life, the wisdom of existence, the riddle of the creation. It is all so easy, so clear.You see the forces of magic, and you also see the other forces, directing them, ordering them. And you see the forces that are directing those.You see what has happened, what will happen, what must happen. The future is just another pattern in the great weave of what you unknowingly called existence, which is yet just the dream of an illusion and at the same time reality.Now you know you can read the pattern, now you know the choices that led you to your doom, and why they did so. You know, you would not choose again wrongly, not this time, if you just had another chance...another chance...And the Fire that is Passion burns brightly within you and engulfs your soul, forming you into the essence that is.\\n'"
      ]
     },
     "execution_count": 2,
     "metadata": {},
     "output_type": "execute_result"
    }
   ],
   "source": [
    "import torch\n",
    "import re\n",
    "import random\n",
    "\n",
    "_RE_COMBINE_WHITESPACE = re.compile(r\"\\s+\")\n",
    "\n",
    "def fix_spaces(s):\n",
    "    return _RE_COMBINE_WHITESPACE.sub(\" \", s).strip()\n",
    "\n",
    "\n",
    "class QuestDataset(torch.utils.data.Dataset):\n",
    "    RETRY_NODE_CNT = 3\n",
    "    MIN_DOC_LENGTH = 600\n",
    "    MAX_DOC_LENGTH = 1900\n",
    "    MIN_PHRASES = 4\n",
    "    BUDGET = 200\n",
    "    \n",
    "    def __init__(self, datadir, tokenizer, player=\"Player\", dm=\"DM\"):\n",
    "        files = [os.path.join(datadir, el) for el in os.listdir(datadir)]\n",
    "        self.states = {}\n",
    "        self.states_list = []\n",
    "        for fn in os.listdir(datadir):\n",
    "            quest = json.load(open(os.path.join(datadir, fn)))\n",
    "            for key, state in quest.items():\n",
    "                state['next_nums'] = [fn + \"/\" + str(el) for el in state['next_nums']]\n",
    "                state['main_text'] = fix_spaces(state['main_text']).strip()\n",
    "                state['query_texts'] = [fix_spaces(el).strip() for el in state['query_texts']]\n",
    "                self.states[fn + \"/\" + key] = state\n",
    "                self.states_list.append(fn + \"/\" + key)\n",
    "        self.player = player\n",
    "        self.dm = dm\n",
    "        self.tokenizer = tokenizer\n",
    "    \n",
    "    def __len__(self):\n",
    "        return len(self.states)\n",
    "    \n",
    "    def check(self, text):\n",
    "        phrases = text.count(self.dm) + text.count(self.player)\n",
    "        length = len(self.tokenizer.encode(text))\n",
    "        return self.MIN_PHRASES <= phrases and self.MIN_DOC_LENGTH <= length <= self.MAX_DOC_LENGTH\n",
    "    \n",
    "    def pick_choices(self, node, text=\"\"):\n",
    "        old_text = text\n",
    "        text = text + self.dm + ': ' + self.states[node]['main_text'] + '\\n'\n",
    "        text_len = len(tokenizer.encode(text))\n",
    "        \n",
    "        if text_len > self.MAX_DOC_LENGTH:\n",
    "            if self.check(old_text):\n",
    "                return old_text\n",
    "        \n",
    "        for _ in range(self.RETRY_NODE_CNT):\n",
    "            self.current_budget -= 1\n",
    "            if self.current_budget <= 0:\n",
    "                if self.check(text):\n",
    "                    return text\n",
    "                else:\n",
    "                    return\n",
    "            i = random.randint(0, len(self.states[node]['next_nums']))\n",
    "            if i == len(self.states[node]['next_nums']):\n",
    "                new_text = text\n",
    "            else:\n",
    "                new_text = text + self.player + \": \" + self.states[node]['query_texts'][i] + '\\n'\n",
    "                new_text = self.pick_choices(self.states[node]['next_nums'][i], new_text)\n",
    "            if new_text is not None and self.check(new_text):\n",
    "                return new_text\n",
    "    \n",
    "    def try_to_extract(self, i, tokenize=False):\n",
    "        for _ in range(self.RETRY_NODE_CNT):\n",
    "            self.current_budget = self.BUDGET\n",
    "            text = self.pick_choices(self.states_list[i])\n",
    "            \n",
    "            if text is not None:\n",
    "                return text\n",
    "    \n",
    "    def __getitem__(self, i):\n",
    "        fails = 0\n",
    "        while True:\n",
    "            text = self.try_to_extract(i, tokenize=True)\n",
    "            if text is None:\n",
    "                i = random.randint(0, len(self) - 1)\n",
    "                fails += 1\n",
    "            else:\n",
    "                print(text)\n",
    "                return tokenizer.encode(text)\n",
    "\n",
    "random.seed(0)\n",
    "mydataset = QuestDataset(\"data_train\", tokenizer)\n",
    "mydataset.try_to_extract(300)"
   ]
  },
  {
   "cell_type": "code",
   "execution_count": null,
   "id": "7d7af091",
   "metadata": {},
   "outputs": [
    {
     "data": {
      "application/json": {
       "ascii": false,
       "bar_format": null,
       "colour": null,
       "elapsed": 0.011456012725830078,
       "initial": 0,
       "n": 0,
       "ncols": null,
       "nrows": 24,
       "postfix": null,
       "prefix": "",
       "rate": null,
       "total": 35277,
       "unit": "it",
       "unit_divisor": 1000,
       "unit_scale": false
      },
      "application/vnd.jupyter.widget-view+json": {
       "model_id": "e018acee4f27451ca39f22170941501d",
       "version_major": 2,
       "version_minor": 0
      },
      "text/plain": [
       "  0%|          | 0/35277 [00:00<?, ?it/s]"
      ]
     },
     "metadata": {},
     "output_type": "display_data"
    },
    {
     "name": "stdout",
     "output_type": "stream",
     "text": [
      "fail cnt 11994\n"
     ]
    },
    {
     "data": {
      "application/json": {
       "ascii": false,
       "bar_format": null,
       "colour": null,
       "elapsed": 0.013309240341186523,
       "initial": 0,
       "n": 0,
       "ncols": null,
       "nrows": 24,
       "postfix": null,
       "prefix": "",
       "rate": null,
       "total": 35277,
       "unit": "it",
       "unit_divisor": 1000,
       "unit_scale": false
      },
      "application/vnd.jupyter.widget-view+json": {
       "model_id": "daa97ff6343649628d3665e8a53d4e0d",
       "version_major": 2,
       "version_minor": 0
      },
      "text/plain": [
       "  0%|          | 0/35277 [00:00<?, ?it/s]"
      ]
     },
     "metadata": {},
     "output_type": "display_data"
    }
   ],
   "source": [
    "from tqdm.notebook import tqdm\n",
    "texts = set()\n",
    "for _ in range(4):\n",
    "    fail_cnt = 0\n",
    "    for i in tqdm(range(0, len(mydataset))):\n",
    "        text = mydataset.try_to_extract(i)\n",
    "        if text is not None:\n",
    "            texts.add((text, mydataset.states_list[i]))\n",
    "        else:\n",
    "            fail_cnt += 1\n",
    "    print('fail cnt', fail_cnt)"
   ]
  },
  {
   "cell_type": "code",
   "execution_count": null,
   "id": "be421430",
   "metadata": {},
   "outputs": [],
   "source": [
    "len(texts)"
   ]
  },
  {
   "cell_type": "code",
   "execution_count": null,
   "id": "0ac6f019",
   "metadata": {},
   "outputs": [],
   "source": [
    "print(len(texts))"
   ]
  },
  {
   "cell_type": "code",
   "execution_count": 96,
   "id": "565a9364",
   "metadata": {},
   "outputs": [],
   "source": [
    "with open('train_collected_data_v2.json', 'w') as file:\n",
    "    json.dump(list(texts), file)"
   ]
  },
  {
   "cell_type": "code",
   "execution_count": null,
   "id": "a1f566f9",
   "metadata": {},
   "outputs": [],
   "source": []
  }
 ],
 "metadata": {
  "kernelspec": {
   "display_name": "Python 3 (ipykernel)",
   "language": "python",
   "name": "python3"
  },
  "language_info": {
   "codemirror_mode": {
    "name": "ipython",
    "version": 3
   },
   "file_extension": ".py",
   "mimetype": "text/x-python",
   "name": "python",
   "nbconvert_exporter": "python",
   "pygments_lexer": "ipython3",
   "version": "3.8.10"
  }
 },
 "nbformat": 4,
 "nbformat_minor": 5
}
