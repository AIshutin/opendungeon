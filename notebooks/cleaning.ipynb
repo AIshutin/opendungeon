{
 "cells": [
  {
   "cell_type": "code",
   "execution_count": 3,
   "id": "752b6d08",
   "metadata": {},
   "outputs": [],
   "source": [
    "import json\n",
    "import seaborn as sns\n",
    "import os\n",
    "import transformers\n",
    "from tqdm.notebook import tqdm\n",
    "import numpy as np\n",
    "tokenizer = transformers.AutoTokenizer.from_pretrained(\"EleutherAI/gpt-j-6B\", cache_dir=\"mycache\")\n",
    "MAX_INPUT_TOKENS = 2048\n",
    "MAX_INPUT_WORDS = 1500"
   ]
  },
  {
   "cell_type": "code",
   "execution_count": 4,
   "id": "5b40cc53",
   "metadata": {},
   "outputs": [
    {
     "data": {
      "application/json": {
       "ascii": false,
       "bar_format": null,
       "colour": null,
       "elapsed": 0.019723892211914062,
       "initial": 0,
       "n": 0,
       "ncols": null,
       "nrows": 24,
       "postfix": null,
       "prefix": "",
       "rate": null,
       "total": 870,
       "unit": "it",
       "unit_divisor": 1000,
       "unit_scale": false
      },
      "application/vnd.jupyter.widget-view+json": {
       "model_id": "b98d154cbc954bbba805a4d1f3b2e765",
       "version_major": 2,
       "version_minor": 0
      },
      "text/plain": [
       "  0%|          | 0/870 [00:00<?, ?it/s]"
      ]
     },
     "metadata": {},
     "output_type": "display_data"
    },
    {
     "name": "stderr",
     "output_type": "stream",
     "text": [
      "Token indices sequence length is longer than the specified maximum sequence length for this model (2104 > 2048). Running this sequence through the model will result in indexing errors\n"
     ]
    },
    {
     "ename": "KeyboardInterrupt",
     "evalue": "",
     "output_type": "error",
     "traceback": [
      "\u001b[0;31m---------------------------------------------------------------------------\u001b[0m",
      "\u001b[0;31mKeyboardInterrupt\u001b[0m                         Traceback (most recent call last)",
      "Cell \u001b[0;32mIn [4], line 13\u001b[0m\n\u001b[1;32m     11\u001b[0m curr_actions \u001b[38;5;241m=\u001b[39m state[\u001b[38;5;124m'\u001b[39m\u001b[38;5;124mquery_texts\u001b[39m\u001b[38;5;124m'\u001b[39m]\n\u001b[1;32m     12\u001b[0m text \u001b[38;5;241m=\u001b[39m state[\u001b[38;5;124m'\u001b[39m\u001b[38;5;124mmain_text\u001b[39m\u001b[38;5;124m'\u001b[39m]\n\u001b[0;32m---> 13\u001b[0m descriptions\u001b[38;5;241m.\u001b[39mappend(\u001b[38;5;28mlen\u001b[39m(\u001b[43mtokenizer\u001b[49m\u001b[38;5;241;43m.\u001b[39;49m\u001b[43mencode\u001b[49m\u001b[43m(\u001b[49m\u001b[43mtext\u001b[49m\u001b[43m)\u001b[49m))\n\u001b[1;32m     14\u001b[0m descriptions_texts\u001b[38;5;241m.\u001b[39mappend((text, \u001b[38;5;28mlen\u001b[39m(tokenizer\u001b[38;5;241m.\u001b[39mencode(text)), el))\n\u001b[1;32m     15\u001b[0m \u001b[38;5;28;01mfor\u001b[39;00m action \u001b[38;5;129;01min\u001b[39;00m curr_actions:\n",
      "File \u001b[0;32m~/.local/lib/python3.8/site-packages/transformers/tokenization_utils_base.py:2176\u001b[0m, in \u001b[0;36mPreTrainedTokenizerBase.encode\u001b[0;34m(self, text, text_pair, add_special_tokens, padding, truncation, max_length, stride, return_tensors, **kwargs)\u001b[0m\n\u001b[1;32m   2138\u001b[0m \u001b[38;5;129m@add_end_docstrings\u001b[39m(\n\u001b[1;32m   2139\u001b[0m     ENCODE_KWARGS_DOCSTRING,\n\u001b[1;32m   2140\u001b[0m     \u001b[38;5;124;03m\"\"\"\u001b[39;00m\n\u001b[0;32m   (...)\u001b[0m\n\u001b[1;32m   2159\u001b[0m     \u001b[38;5;241m*\u001b[39m\u001b[38;5;241m*\u001b[39mkwargs\n\u001b[1;32m   2160\u001b[0m ) \u001b[38;5;241m-\u001b[39m\u001b[38;5;241m>\u001b[39m List[\u001b[38;5;28mint\u001b[39m]:\n\u001b[1;32m   2161\u001b[0m     \u001b[38;5;124;03m\"\"\"\u001b[39;00m\n\u001b[1;32m   2162\u001b[0m \u001b[38;5;124;03m    Converts a string to a sequence of ids (integer), using the tokenizer and vocabulary.\u001b[39;00m\n\u001b[1;32m   2163\u001b[0m \n\u001b[0;32m   (...)\u001b[0m\n\u001b[1;32m   2174\u001b[0m \u001b[38;5;124;03m            ``convert_tokens_to_ids`` method).\u001b[39;00m\n\u001b[1;32m   2175\u001b[0m \u001b[38;5;124;03m    \"\"\"\u001b[39;00m\n\u001b[0;32m-> 2176\u001b[0m     encoded_inputs \u001b[38;5;241m=\u001b[39m \u001b[38;5;28;43mself\u001b[39;49m\u001b[38;5;241;43m.\u001b[39;49m\u001b[43mencode_plus\u001b[49m\u001b[43m(\u001b[49m\n\u001b[1;32m   2177\u001b[0m \u001b[43m        \u001b[49m\u001b[43mtext\u001b[49m\u001b[43m,\u001b[49m\n\u001b[1;32m   2178\u001b[0m \u001b[43m        \u001b[49m\u001b[43mtext_pair\u001b[49m\u001b[38;5;241;43m=\u001b[39;49m\u001b[43mtext_pair\u001b[49m\u001b[43m,\u001b[49m\n\u001b[1;32m   2179\u001b[0m \u001b[43m        \u001b[49m\u001b[43madd_special_tokens\u001b[49m\u001b[38;5;241;43m=\u001b[39;49m\u001b[43madd_special_tokens\u001b[49m\u001b[43m,\u001b[49m\n\u001b[1;32m   2180\u001b[0m \u001b[43m        \u001b[49m\u001b[43mpadding\u001b[49m\u001b[38;5;241;43m=\u001b[39;49m\u001b[43mpadding\u001b[49m\u001b[43m,\u001b[49m\n\u001b[1;32m   2181\u001b[0m \u001b[43m        \u001b[49m\u001b[43mtruncation\u001b[49m\u001b[38;5;241;43m=\u001b[39;49m\u001b[43mtruncation\u001b[49m\u001b[43m,\u001b[49m\n\u001b[1;32m   2182\u001b[0m \u001b[43m        \u001b[49m\u001b[43mmax_length\u001b[49m\u001b[38;5;241;43m=\u001b[39;49m\u001b[43mmax_length\u001b[49m\u001b[43m,\u001b[49m\n\u001b[1;32m   2183\u001b[0m \u001b[43m        \u001b[49m\u001b[43mstride\u001b[49m\u001b[38;5;241;43m=\u001b[39;49m\u001b[43mstride\u001b[49m\u001b[43m,\u001b[49m\n\u001b[1;32m   2184\u001b[0m \u001b[43m        \u001b[49m\u001b[43mreturn_tensors\u001b[49m\u001b[38;5;241;43m=\u001b[39;49m\u001b[43mreturn_tensors\u001b[49m\u001b[43m,\u001b[49m\n\u001b[1;32m   2185\u001b[0m \u001b[43m        \u001b[49m\u001b[38;5;241;43m*\u001b[39;49m\u001b[38;5;241;43m*\u001b[39;49m\u001b[43mkwargs\u001b[49m\u001b[43m,\u001b[49m\n\u001b[1;32m   2186\u001b[0m \u001b[43m    \u001b[49m\u001b[43m)\u001b[49m\n\u001b[1;32m   2188\u001b[0m     \u001b[38;5;28;01mreturn\u001b[39;00m encoded_inputs[\u001b[38;5;124m\"\u001b[39m\u001b[38;5;124minput_ids\u001b[39m\u001b[38;5;124m\"\u001b[39m]\n",
      "File \u001b[0;32m~/.local/lib/python3.8/site-packages/transformers/tokenization_utils_base.py:2503\u001b[0m, in \u001b[0;36mPreTrainedTokenizerBase.encode_plus\u001b[0;34m(self, text, text_pair, add_special_tokens, padding, truncation, max_length, stride, is_split_into_words, pad_to_multiple_of, return_tensors, return_token_type_ids, return_attention_mask, return_overflowing_tokens, return_special_tokens_mask, return_offsets_mapping, return_length, verbose, **kwargs)\u001b[0m\n\u001b[1;32m   2493\u001b[0m \u001b[38;5;66;03m# Backward compatibility for 'truncation_strategy', 'pad_to_max_length'\u001b[39;00m\n\u001b[1;32m   2494\u001b[0m padding_strategy, truncation_strategy, max_length, kwargs \u001b[38;5;241m=\u001b[39m \u001b[38;5;28mself\u001b[39m\u001b[38;5;241m.\u001b[39m_get_padding_truncation_strategies(\n\u001b[1;32m   2495\u001b[0m     padding\u001b[38;5;241m=\u001b[39mpadding,\n\u001b[1;32m   2496\u001b[0m     truncation\u001b[38;5;241m=\u001b[39mtruncation,\n\u001b[0;32m   (...)\u001b[0m\n\u001b[1;32m   2500\u001b[0m     \u001b[38;5;241m*\u001b[39m\u001b[38;5;241m*\u001b[39mkwargs,\n\u001b[1;32m   2501\u001b[0m )\n\u001b[0;32m-> 2503\u001b[0m \u001b[38;5;28;01mreturn\u001b[39;00m \u001b[38;5;28;43mself\u001b[39;49m\u001b[38;5;241;43m.\u001b[39;49m\u001b[43m_encode_plus\u001b[49m\u001b[43m(\u001b[49m\n\u001b[1;32m   2504\u001b[0m \u001b[43m    \u001b[49m\u001b[43mtext\u001b[49m\u001b[38;5;241;43m=\u001b[39;49m\u001b[43mtext\u001b[49m\u001b[43m,\u001b[49m\n\u001b[1;32m   2505\u001b[0m \u001b[43m    \u001b[49m\u001b[43mtext_pair\u001b[49m\u001b[38;5;241;43m=\u001b[39;49m\u001b[43mtext_pair\u001b[49m\u001b[43m,\u001b[49m\n\u001b[1;32m   2506\u001b[0m \u001b[43m    \u001b[49m\u001b[43madd_special_tokens\u001b[49m\u001b[38;5;241;43m=\u001b[39;49m\u001b[43madd_special_tokens\u001b[49m\u001b[43m,\u001b[49m\n\u001b[1;32m   2507\u001b[0m \u001b[43m    \u001b[49m\u001b[43mpadding_strategy\u001b[49m\u001b[38;5;241;43m=\u001b[39;49m\u001b[43mpadding_strategy\u001b[49m\u001b[43m,\u001b[49m\n\u001b[1;32m   2508\u001b[0m \u001b[43m    \u001b[49m\u001b[43mtruncation_strategy\u001b[49m\u001b[38;5;241;43m=\u001b[39;49m\u001b[43mtruncation_strategy\u001b[49m\u001b[43m,\u001b[49m\n\u001b[1;32m   2509\u001b[0m \u001b[43m    \u001b[49m\u001b[43mmax_length\u001b[49m\u001b[38;5;241;43m=\u001b[39;49m\u001b[43mmax_length\u001b[49m\u001b[43m,\u001b[49m\n\u001b[1;32m   2510\u001b[0m \u001b[43m    \u001b[49m\u001b[43mstride\u001b[49m\u001b[38;5;241;43m=\u001b[39;49m\u001b[43mstride\u001b[49m\u001b[43m,\u001b[49m\n\u001b[1;32m   2511\u001b[0m \u001b[43m    \u001b[49m\u001b[43mis_split_into_words\u001b[49m\u001b[38;5;241;43m=\u001b[39;49m\u001b[43mis_split_into_words\u001b[49m\u001b[43m,\u001b[49m\n\u001b[1;32m   2512\u001b[0m \u001b[43m    \u001b[49m\u001b[43mpad_to_multiple_of\u001b[49m\u001b[38;5;241;43m=\u001b[39;49m\u001b[43mpad_to_multiple_of\u001b[49m\u001b[43m,\u001b[49m\n\u001b[1;32m   2513\u001b[0m \u001b[43m    \u001b[49m\u001b[43mreturn_tensors\u001b[49m\u001b[38;5;241;43m=\u001b[39;49m\u001b[43mreturn_tensors\u001b[49m\u001b[43m,\u001b[49m\n\u001b[1;32m   2514\u001b[0m \u001b[43m    \u001b[49m\u001b[43mreturn_token_type_ids\u001b[49m\u001b[38;5;241;43m=\u001b[39;49m\u001b[43mreturn_token_type_ids\u001b[49m\u001b[43m,\u001b[49m\n\u001b[1;32m   2515\u001b[0m \u001b[43m    \u001b[49m\u001b[43mreturn_attention_mask\u001b[49m\u001b[38;5;241;43m=\u001b[39;49m\u001b[43mreturn_attention_mask\u001b[49m\u001b[43m,\u001b[49m\n\u001b[1;32m   2516\u001b[0m \u001b[43m    \u001b[49m\u001b[43mreturn_overflowing_tokens\u001b[49m\u001b[38;5;241;43m=\u001b[39;49m\u001b[43mreturn_overflowing_tokens\u001b[49m\u001b[43m,\u001b[49m\n\u001b[1;32m   2517\u001b[0m \u001b[43m    \u001b[49m\u001b[43mreturn_special_tokens_mask\u001b[49m\u001b[38;5;241;43m=\u001b[39;49m\u001b[43mreturn_special_tokens_mask\u001b[49m\u001b[43m,\u001b[49m\n\u001b[1;32m   2518\u001b[0m \u001b[43m    \u001b[49m\u001b[43mreturn_offsets_mapping\u001b[49m\u001b[38;5;241;43m=\u001b[39;49m\u001b[43mreturn_offsets_mapping\u001b[49m\u001b[43m,\u001b[49m\n\u001b[1;32m   2519\u001b[0m \u001b[43m    \u001b[49m\u001b[43mreturn_length\u001b[49m\u001b[38;5;241;43m=\u001b[39;49m\u001b[43mreturn_length\u001b[49m\u001b[43m,\u001b[49m\n\u001b[1;32m   2520\u001b[0m \u001b[43m    \u001b[49m\u001b[43mverbose\u001b[49m\u001b[38;5;241;43m=\u001b[39;49m\u001b[43mverbose\u001b[49m\u001b[43m,\u001b[49m\n\u001b[1;32m   2521\u001b[0m \u001b[43m    \u001b[49m\u001b[38;5;241;43m*\u001b[39;49m\u001b[38;5;241;43m*\u001b[39;49m\u001b[43mkwargs\u001b[49m\u001b[43m,\u001b[49m\n\u001b[1;32m   2522\u001b[0m \u001b[43m\u001b[49m\u001b[43m)\u001b[49m\n",
      "File \u001b[0;32m~/.local/lib/python3.8/site-packages/transformers/models/gpt2/tokenization_gpt2_fast.py:173\u001b[0m, in \u001b[0;36mGPT2TokenizerFast._encode_plus\u001b[0;34m(self, *args, **kwargs)\u001b[0m\n\u001b[1;32m    166\u001b[0m is_split_into_words \u001b[38;5;241m=\u001b[39m kwargs\u001b[38;5;241m.\u001b[39mget(\u001b[38;5;124m\"\u001b[39m\u001b[38;5;124mis_split_into_words\u001b[39m\u001b[38;5;124m\"\u001b[39m, \u001b[38;5;28;01mFalse\u001b[39;00m)\n\u001b[1;32m    168\u001b[0m \u001b[38;5;28;01massert\u001b[39;00m \u001b[38;5;28mself\u001b[39m\u001b[38;5;241m.\u001b[39madd_prefix_space \u001b[38;5;129;01mor\u001b[39;00m \u001b[38;5;129;01mnot\u001b[39;00m is_split_into_words, (\n\u001b[1;32m    169\u001b[0m     \u001b[38;5;124mf\u001b[39m\u001b[38;5;124m\"\u001b[39m\u001b[38;5;124mYou need to instantiate \u001b[39m\u001b[38;5;132;01m{\u001b[39;00m\u001b[38;5;28mself\u001b[39m\u001b[38;5;241m.\u001b[39m\u001b[38;5;18m__class__\u001b[39m\u001b[38;5;241m.\u001b[39m\u001b[38;5;18m__name__\u001b[39m\u001b[38;5;132;01m}\u001b[39;00m\u001b[38;5;124m with add_prefix_space=True \u001b[39m\u001b[38;5;124m\"\u001b[39m\n\u001b[1;32m    170\u001b[0m     \u001b[38;5;124m\"\u001b[39m\u001b[38;5;124mto use it with pretokenized inputs.\u001b[39m\u001b[38;5;124m\"\u001b[39m\n\u001b[1;32m    171\u001b[0m )\n\u001b[0;32m--> 173\u001b[0m \u001b[38;5;28;01mreturn\u001b[39;00m \u001b[38;5;28;43msuper\u001b[39;49m\u001b[43m(\u001b[49m\u001b[43m)\u001b[49m\u001b[38;5;241;43m.\u001b[39;49m\u001b[43m_encode_plus\u001b[49m\u001b[43m(\u001b[49m\u001b[38;5;241;43m*\u001b[39;49m\u001b[43margs\u001b[49m\u001b[43m,\u001b[49m\u001b[43m \u001b[49m\u001b[38;5;241;43m*\u001b[39;49m\u001b[38;5;241;43m*\u001b[39;49m\u001b[43mkwargs\u001b[49m\u001b[43m)\u001b[49m\n",
      "File \u001b[0;32m~/.local/lib/python3.8/site-packages/transformers/tokenization_utils_fast.py:479\u001b[0m, in \u001b[0;36mPreTrainedTokenizerFast._encode_plus\u001b[0;34m(self, text, text_pair, add_special_tokens, padding_strategy, truncation_strategy, max_length, stride, is_split_into_words, pad_to_multiple_of, return_tensors, return_token_type_ids, return_attention_mask, return_overflowing_tokens, return_special_tokens_mask, return_offsets_mapping, return_length, verbose, **kwargs)\u001b[0m\n\u001b[1;32m    456\u001b[0m \u001b[38;5;28;01mdef\u001b[39;00m \u001b[38;5;21m_encode_plus\u001b[39m(\n\u001b[1;32m    457\u001b[0m     \u001b[38;5;28mself\u001b[39m,\n\u001b[1;32m    458\u001b[0m     text: Union[TextInput, PreTokenizedInput],\n\u001b[0;32m   (...)\u001b[0m\n\u001b[1;32m    475\u001b[0m     \u001b[38;5;241m*\u001b[39m\u001b[38;5;241m*\u001b[39mkwargs\n\u001b[1;32m    476\u001b[0m ) \u001b[38;5;241m-\u001b[39m\u001b[38;5;241m>\u001b[39m BatchEncoding:\n\u001b[1;32m    478\u001b[0m     batched_input \u001b[38;5;241m=\u001b[39m [(text, text_pair)] \u001b[38;5;28;01mif\u001b[39;00m text_pair \u001b[38;5;28;01melse\u001b[39;00m [text]\n\u001b[0;32m--> 479\u001b[0m     batched_output \u001b[38;5;241m=\u001b[39m \u001b[38;5;28;43mself\u001b[39;49m\u001b[38;5;241;43m.\u001b[39;49m\u001b[43m_batch_encode_plus\u001b[49m\u001b[43m(\u001b[49m\n\u001b[1;32m    480\u001b[0m \u001b[43m        \u001b[49m\u001b[43mbatched_input\u001b[49m\u001b[43m,\u001b[49m\n\u001b[1;32m    481\u001b[0m \u001b[43m        \u001b[49m\u001b[43mis_split_into_words\u001b[49m\u001b[38;5;241;43m=\u001b[39;49m\u001b[43mis_split_into_words\u001b[49m\u001b[43m,\u001b[49m\n\u001b[1;32m    482\u001b[0m \u001b[43m        \u001b[49m\u001b[43madd_special_tokens\u001b[49m\u001b[38;5;241;43m=\u001b[39;49m\u001b[43madd_special_tokens\u001b[49m\u001b[43m,\u001b[49m\n\u001b[1;32m    483\u001b[0m \u001b[43m        \u001b[49m\u001b[43mpadding_strategy\u001b[49m\u001b[38;5;241;43m=\u001b[39;49m\u001b[43mpadding_strategy\u001b[49m\u001b[43m,\u001b[49m\n\u001b[1;32m    484\u001b[0m \u001b[43m        \u001b[49m\u001b[43mtruncation_strategy\u001b[49m\u001b[38;5;241;43m=\u001b[39;49m\u001b[43mtruncation_strategy\u001b[49m\u001b[43m,\u001b[49m\n\u001b[1;32m    485\u001b[0m \u001b[43m        \u001b[49m\u001b[43mmax_length\u001b[49m\u001b[38;5;241;43m=\u001b[39;49m\u001b[43mmax_length\u001b[49m\u001b[43m,\u001b[49m\n\u001b[1;32m    486\u001b[0m \u001b[43m        \u001b[49m\u001b[43mstride\u001b[49m\u001b[38;5;241;43m=\u001b[39;49m\u001b[43mstride\u001b[49m\u001b[43m,\u001b[49m\n\u001b[1;32m    487\u001b[0m \u001b[43m        \u001b[49m\u001b[43mpad_to_multiple_of\u001b[49m\u001b[38;5;241;43m=\u001b[39;49m\u001b[43mpad_to_multiple_of\u001b[49m\u001b[43m,\u001b[49m\n\u001b[1;32m    488\u001b[0m \u001b[43m        \u001b[49m\u001b[43mreturn_tensors\u001b[49m\u001b[38;5;241;43m=\u001b[39;49m\u001b[43mreturn_tensors\u001b[49m\u001b[43m,\u001b[49m\n\u001b[1;32m    489\u001b[0m \u001b[43m        \u001b[49m\u001b[43mreturn_token_type_ids\u001b[49m\u001b[38;5;241;43m=\u001b[39;49m\u001b[43mreturn_token_type_ids\u001b[49m\u001b[43m,\u001b[49m\n\u001b[1;32m    490\u001b[0m \u001b[43m        \u001b[49m\u001b[43mreturn_attention_mask\u001b[49m\u001b[38;5;241;43m=\u001b[39;49m\u001b[43mreturn_attention_mask\u001b[49m\u001b[43m,\u001b[49m\n\u001b[1;32m    491\u001b[0m \u001b[43m        \u001b[49m\u001b[43mreturn_overflowing_tokens\u001b[49m\u001b[38;5;241;43m=\u001b[39;49m\u001b[43mreturn_overflowing_tokens\u001b[49m\u001b[43m,\u001b[49m\n\u001b[1;32m    492\u001b[0m \u001b[43m        \u001b[49m\u001b[43mreturn_special_tokens_mask\u001b[49m\u001b[38;5;241;43m=\u001b[39;49m\u001b[43mreturn_special_tokens_mask\u001b[49m\u001b[43m,\u001b[49m\n\u001b[1;32m    493\u001b[0m \u001b[43m        \u001b[49m\u001b[43mreturn_offsets_mapping\u001b[49m\u001b[38;5;241;43m=\u001b[39;49m\u001b[43mreturn_offsets_mapping\u001b[49m\u001b[43m,\u001b[49m\n\u001b[1;32m    494\u001b[0m \u001b[43m        \u001b[49m\u001b[43mreturn_length\u001b[49m\u001b[38;5;241;43m=\u001b[39;49m\u001b[43mreturn_length\u001b[49m\u001b[43m,\u001b[49m\n\u001b[1;32m    495\u001b[0m \u001b[43m        \u001b[49m\u001b[43mverbose\u001b[49m\u001b[38;5;241;43m=\u001b[39;49m\u001b[43mverbose\u001b[49m\u001b[43m,\u001b[49m\n\u001b[1;32m    496\u001b[0m \u001b[43m        \u001b[49m\u001b[38;5;241;43m*\u001b[39;49m\u001b[38;5;241;43m*\u001b[39;49m\u001b[43mkwargs\u001b[49m\u001b[43m,\u001b[49m\n\u001b[1;32m    497\u001b[0m \u001b[43m    \u001b[49m\u001b[43m)\u001b[49m\n\u001b[1;32m    499\u001b[0m     \u001b[38;5;66;03m# Return tensor is None, then we can remove the leading batch axis\u001b[39;00m\n\u001b[1;32m    500\u001b[0m     \u001b[38;5;66;03m# Overflowing tokens are returned as a batch of output so we keep them in this case\u001b[39;00m\n\u001b[1;32m    501\u001b[0m     \u001b[38;5;28;01mif\u001b[39;00m return_tensors \u001b[38;5;129;01mis\u001b[39;00m \u001b[38;5;28;01mNone\u001b[39;00m \u001b[38;5;129;01mand\u001b[39;00m \u001b[38;5;129;01mnot\u001b[39;00m return_overflowing_tokens:\n",
      "File \u001b[0;32m~/.local/lib/python3.8/site-packages/transformers/models/gpt2/tokenization_gpt2_fast.py:163\u001b[0m, in \u001b[0;36mGPT2TokenizerFast._batch_encode_plus\u001b[0;34m(self, *args, **kwargs)\u001b[0m\n\u001b[1;32m    157\u001b[0m is_split_into_words \u001b[38;5;241m=\u001b[39m kwargs\u001b[38;5;241m.\u001b[39mget(\u001b[38;5;124m\"\u001b[39m\u001b[38;5;124mis_split_into_words\u001b[39m\u001b[38;5;124m\"\u001b[39m, \u001b[38;5;28;01mFalse\u001b[39;00m)\n\u001b[1;32m    158\u001b[0m \u001b[38;5;28;01massert\u001b[39;00m \u001b[38;5;28mself\u001b[39m\u001b[38;5;241m.\u001b[39madd_prefix_space \u001b[38;5;129;01mor\u001b[39;00m \u001b[38;5;129;01mnot\u001b[39;00m is_split_into_words, (\n\u001b[1;32m    159\u001b[0m     \u001b[38;5;124mf\u001b[39m\u001b[38;5;124m\"\u001b[39m\u001b[38;5;124mYou need to instantiate \u001b[39m\u001b[38;5;132;01m{\u001b[39;00m\u001b[38;5;28mself\u001b[39m\u001b[38;5;241m.\u001b[39m\u001b[38;5;18m__class__\u001b[39m\u001b[38;5;241m.\u001b[39m\u001b[38;5;18m__name__\u001b[39m\u001b[38;5;132;01m}\u001b[39;00m\u001b[38;5;124m with add_prefix_space=True \u001b[39m\u001b[38;5;124m\"\u001b[39m\n\u001b[1;32m    160\u001b[0m     \u001b[38;5;124m\"\u001b[39m\u001b[38;5;124mto use it with pretokenized inputs.\u001b[39m\u001b[38;5;124m\"\u001b[39m\n\u001b[1;32m    161\u001b[0m )\n\u001b[0;32m--> 163\u001b[0m \u001b[38;5;28;01mreturn\u001b[39;00m \u001b[38;5;28;43msuper\u001b[39;49m\u001b[43m(\u001b[49m\u001b[43m)\u001b[49m\u001b[38;5;241;43m.\u001b[39;49m\u001b[43m_batch_encode_plus\u001b[49m\u001b[43m(\u001b[49m\u001b[38;5;241;43m*\u001b[39;49m\u001b[43margs\u001b[49m\u001b[43m,\u001b[49m\u001b[43m \u001b[49m\u001b[38;5;241;43m*\u001b[39;49m\u001b[38;5;241;43m*\u001b[39;49m\u001b[43mkwargs\u001b[49m\u001b[43m)\u001b[49m\n",
      "File \u001b[0;32m~/.local/lib/python3.8/site-packages/transformers/tokenization_utils_fast.py:406\u001b[0m, in \u001b[0;36mPreTrainedTokenizerFast._batch_encode_plus\u001b[0;34m(self, batch_text_or_text_pairs, add_special_tokens, padding_strategy, truncation_strategy, max_length, stride, is_split_into_words, pad_to_multiple_of, return_tensors, return_token_type_ids, return_attention_mask, return_overflowing_tokens, return_special_tokens_mask, return_offsets_mapping, return_length, verbose)\u001b[0m\n\u001b[1;32m    397\u001b[0m \u001b[38;5;66;03m# Set the truncation and padding strategy and restore the initial configuration\u001b[39;00m\n\u001b[1;32m    398\u001b[0m \u001b[38;5;28mself\u001b[39m\u001b[38;5;241m.\u001b[39mset_truncation_and_padding(\n\u001b[1;32m    399\u001b[0m     padding_strategy\u001b[38;5;241m=\u001b[39mpadding_strategy,\n\u001b[1;32m    400\u001b[0m     truncation_strategy\u001b[38;5;241m=\u001b[39mtruncation_strategy,\n\u001b[0;32m   (...)\u001b[0m\n\u001b[1;32m    403\u001b[0m     pad_to_multiple_of\u001b[38;5;241m=\u001b[39mpad_to_multiple_of,\n\u001b[1;32m    404\u001b[0m )\n\u001b[0;32m--> 406\u001b[0m encodings \u001b[38;5;241m=\u001b[39m \u001b[38;5;28;43mself\u001b[39;49m\u001b[38;5;241;43m.\u001b[39;49m\u001b[43m_tokenizer\u001b[49m\u001b[38;5;241;43m.\u001b[39;49m\u001b[43mencode_batch\u001b[49m\u001b[43m(\u001b[49m\n\u001b[1;32m    407\u001b[0m \u001b[43m    \u001b[49m\u001b[43mbatch_text_or_text_pairs\u001b[49m\u001b[43m,\u001b[49m\n\u001b[1;32m    408\u001b[0m \u001b[43m    \u001b[49m\u001b[43madd_special_tokens\u001b[49m\u001b[38;5;241;43m=\u001b[39;49m\u001b[43madd_special_tokens\u001b[49m\u001b[43m,\u001b[49m\n\u001b[1;32m    409\u001b[0m \u001b[43m    \u001b[49m\u001b[43mis_pretokenized\u001b[49m\u001b[38;5;241;43m=\u001b[39;49m\u001b[43mis_split_into_words\u001b[49m\u001b[43m,\u001b[49m\n\u001b[1;32m    410\u001b[0m \u001b[43m\u001b[49m\u001b[43m)\u001b[49m\n\u001b[1;32m    412\u001b[0m \u001b[38;5;66;03m# Convert encoding to dict\u001b[39;00m\n\u001b[1;32m    413\u001b[0m \u001b[38;5;66;03m# `Tokens` has type: Tuple[\u001b[39;00m\n\u001b[1;32m    414\u001b[0m \u001b[38;5;66;03m#                       List[Dict[str, List[List[int]]]] or List[Dict[str, 2D-Tensor]],\u001b[39;00m\n\u001b[1;32m    415\u001b[0m \u001b[38;5;66;03m#                       List[EncodingFast]\u001b[39;00m\n\u001b[1;32m    416\u001b[0m \u001b[38;5;66;03m#                    ]\u001b[39;00m\n\u001b[1;32m    417\u001b[0m \u001b[38;5;66;03m# with nested dimensions corresponding to batch, overflows, sequence length\u001b[39;00m\n\u001b[1;32m    418\u001b[0m tokens_and_encodings \u001b[38;5;241m=\u001b[39m [\n\u001b[1;32m    419\u001b[0m     \u001b[38;5;28mself\u001b[39m\u001b[38;5;241m.\u001b[39m_convert_encoding(\n\u001b[1;32m    420\u001b[0m         encoding\u001b[38;5;241m=\u001b[39mencoding,\n\u001b[0;32m   (...)\u001b[0m\n\u001b[1;32m    429\u001b[0m     \u001b[38;5;28;01mfor\u001b[39;00m encoding \u001b[38;5;129;01min\u001b[39;00m encodings\n\u001b[1;32m    430\u001b[0m ]\n",
      "\u001b[0;31mKeyboardInterrupt\u001b[0m: "
     ]
    }
   ],
   "source": [
    "files = [os.path.join('data', el) for el in os.listdir('data')]\n",
    "\n",
    "descriptions = []\n",
    "actions = []\n",
    "actions_texts = []\n",
    "descriptions_texts = []\n",
    "\n",
    "for el in tqdm(files):\n",
    "    j = json.load(open(el))\n",
    "    for key, state in j.items():\n",
    "        curr_actions = state['query_texts']\n",
    "        text = state['main_text']\n",
    "        descriptions.append(len(tokenizer.encode(text)))\n",
    "        descriptions_texts.append((text, len(tokenizer.encode(text)), el))\n",
    "        for action in curr_actions:\n",
    "            actions.append(len(tokenizer.encode(action)))\n",
    "            actions_texts.append((action, len(tokenizer.encode(action)), el))"
   ]
  },
  {
   "cell_type": "markdown",
   "id": "a4989c48",
   "metadata": {},
   "source": [
    "### Tricky actions:\n",
    "- I will cast a minor spell which allows the air to carry the sound to my ear. [You can do that even without being specialized in Air.]\n",
    "- \"Let’s arrange a marriage of our children. How about one of your kids gets to marry one of mine?\" (unofficial, informal, and politically inconsequential understanding usually ignored outside of the enjoined kingdoms)\n",
    "- \"Let’s swear to a military alliance between us two.\" (peace agreement + provide troops and other military aid to the other as needed, an internationally recognized edict which tends to increase war and violent conflict)\n",
    "- Fire your ballistae at and destroy Minâ€™s own ballistae installations; once his ballistae are eliminated, advance your cloud ladders, carrying a mix of infantry and archers, to storm the walls and capture the keep\n",
    "- NOOOOOOOOO! I DIED! CURSE YOU SENTINELPENGUIN!!!\n",
    "- Needles wonâ€™t puncture his skin, so he squirts it out his eye ducts\n",
    "- The Epirus-Rome War (280-279BC) - MEDIUM DIFFICULTY\n",
    "- 2: The Athens-Sparta War (432-418BC) - HARD DIFFICULTY\n",
    "- Don’t care, you need to drink – get some of the water from under the pier\n",
    "- “It’s OK, I’m just passing through,” you reply truthfully\n",
    "- 4th British defenders\n",
    "- Evidence: Attorneys Badge\n",
    "- , Ko e fasi 'o e tu'i 'o e 'Otu Tonga\n",
    "- Dossier: Double Trouble\n",
    "- List of Noted Sailors of the Three Kingdoms\n",
    "- MAIN MENU\n",
    "- Synopsis mode. (Was there something you wanted to know? Click here!) *Spoiler Alert!*\n",
    "- HARD: You are an eighteen year old, up-and-coming female model in India. A company called Pond's has asked you if you'd like to do a commerical with them. You are at their office, waiting to discuss the potential contract. data/are-you-happy-with-your-choices~3f.json\n",
    "- (Intelligence) Rhode is a hypocrite. She might brag about her years in the arena, but she’s never surrendered to an honourable death. I point out as much, no matter what punishment it might get me. data/The-Price-of-Freedom~3a-Innocence-Lost.json\n",
    "- \"So, that's Pegasi Station - an impressive piece of technology,\" the captain said. \"Lieutenant Gregari, other than humans, which species inhabit this station?\" (Turn to Section - 54)\n",
    "-  Zorek isn’t interested in the bureaucracy. He will go and find someone in charge\n",
    "- If you think it's best to stay put and wait for Andrade's return, turn to page 115. data/Marooned-on-Giri-Minor.json\n",
    "- Accept the King of Merrywed's marriage proposal in exchange for protection: go to section 8a if you sent soldiers with the messengers data/Survive-or-Conquer.json"
   ]
  },
  {
   "cell_type": "code",
   "execution_count": null,
   "id": "8e4c355c",
   "metadata": {},
   "outputs": [],
   "source": [
    "banned = [\"are-you-happy-with-your-choices~3f.json\", \"Warlords~3a-Strategic-Conquest.json\", \n",
    "          \"Survive-or-Conquer.json\", \"Maintenance-Systems.json\", \"Algebra-Game.json\",\n",
    "          \"Tower-of-Doom.json\", \"Practice-Simple-Italian.json\"]\n",
    "phrase_ban = [\"Synopsis\", \"MENU\", \"HARD\", \"EASY\", \"MEDIUM\", \"Turn to Section\", \"go to section\", \n",
    "              \"turn to page\", \"go to page\", \"\t\t\t\t\t\", \"Start over\", \"END THE GAME\", \"Rating:\",\n",
    "             \"Rank:\"]\n",
    "\n",
    "for text, l, src in actions_texts:\n",
    "    is_banned = False\n",
    "    for ban in banned:\n",
    "        if ban in src:\n",
    "            is_banned = True\n",
    "    for phrase in phrase_ban:\n",
    "        if phrase in text:\n",
    "            is_banned = True\n",
    "    if is_banned:\n",
    "        continue\n",
    "    if l < 20:\n",
    "        continue\n",
    "    print(l, len(text), text, src)"
   ]
  },
  {
   "cell_type": "markdown",
   "id": "782d10a1",
   "metadata": {},
   "source": [
    "### Tricky descriptions:\n",
    "- "
   ]
  },
  {
   "cell_type": "code",
   "execution_count": null,
   "id": "f58e6b41",
   "metadata": {
    "scrolled": true
   },
   "outputs": [],
   "source": [
    "banned = [\"are-you-happy-with-your-choices~3f.json\", \"Warlords~3a-Strategic-Conquest.json\", \n",
    "          \"Survive-or-Conquer.json\", \"Maintenance-Systems.json\", \"Sixteen-Words.json\", \n",
    "          \"How-well-do-you-know-your-British~2dEnglish~3f.json\", \"Harry-Potter-and-the-Deathly-Hallows-Quiz.json\",\n",
    "         \"Monster-Trivia.json\", \"Z~2dDAY-Survival-Quiz.json\", \"Battlefield-Commander~3a-Ancient-Warfare.json\", \n",
    "         \"Algebra-Game.json\", \"Tower-of-Doom.json\", \"Practice-Simple-Italian.json\", \"ENG4U1-Seminar-Game.json\",\n",
    "         \"Eating-Disorders-Midterm.json\"]\n",
    "# todo ban any quiz\n",
    "phrase_ban = [\"Synopsis\", \"MENU\", \"HARD\", \"EASY\", \"MEDIUM\", \"Turn to Section\", \"go to section\", \n",
    "              \"turn to page\", \"go to page\", \"\t\t\t\t\t\", \"Start over\", \"END THE GAME\", \"Rating:\",\n",
    "             \"Rank:\", \"THE END\", \"The end\", \"The End\", \"Please play again\", \"YOUR HEALTH\", \n",
    "              \"Your score was\", \"Your score is\"]\n",
    "from time import sleep\n",
    "\n",
    "for text, l, src in descriptions_texts:\n",
    "    if \"quiz\" in src.lower():\n",
    "        continue\n",
    "    is_banned = False\n",
    "    for ban in banned:\n",
    "        if ban in src:\n",
    "            is_banned = True\n",
    "    has_phrase = False\n",
    "    for phrase in phrase_ban:\n",
    "        if phrase in text:\n",
    "            has_phrase = True\n",
    "    if is_banned:\n",
    "        continue\n",
    "    if has_phrase:\n",
    "        continue\n",
    "    if l < 400:\n",
    "        continue\n",
    "    print(l, len(text), text, src)\n",
    "    sleep(1)"
   ]
  },
  {
   "cell_type": "code",
   "execution_count": 40,
   "id": "313a82df",
   "metadata": {
    "scrolled": true
   },
   "outputs": [
    {
     "data": {
      "application/json": {
       "ascii": false,
       "bar_format": null,
       "colour": null,
       "elapsed": 0.013645172119140625,
       "initial": 0,
       "n": 0,
       "ncols": null,
       "nrows": 24,
       "postfix": null,
       "prefix": "",
       "rate": null,
       "total": 870,
       "unit": "it",
       "unit_divisor": 1000,
       "unit_scale": false
      },
      "application/vnd.jupyter.widget-view+json": {
       "model_id": "698cba24d8c245d0a06f9961fee2b632",
       "version_major": 2,
       "version_minor": 0
      },
      "text/plain": [
       "  0%|          | 0/870 [00:00<?, ?it/s]"
      ]
     },
     "metadata": {},
     "output_type": "display_data"
    },
    {
     "name": "stdout",
     "output_type": "stream",
     "text": [
      "File: Facts-About-the-Planet-and-the-Solar-System.json Nodes banned: 10/48 Actions banned: 12/77\n",
      "File: A-Hero-is-Born,-Episode-2.json Nodes banned: 16/59 Actions banned: 15/58\n",
      "File: CYBERMONKEY.json Nodes banned: 4/17 Actions banned: 3/16\n",
      "File: Warped.json Nodes banned: 62/230 Actions banned: 95/266\n",
      "File: Reanimation-2.json Nodes banned: 15/72 Actions banned: 14/220\n",
      "File: Would-You-Survive-Daniel-Wilson's-Robopocalypse~3f.json Nodes banned: 5/23 Actions banned: 3/26\n",
      "File: De-Milite-Inprudenti.json Nodes banned: 25/94 Actions banned: 21/137\n",
      "File: The-Price-of-Freedom~3a-Innocence-Lost.json Nodes banned: 103/490 Actions banned: 126/871\n",
      "File: Edithe-Zilonis.json Nodes banned: 16/73 Actions banned: 16/73\n",
      "File: The-Witcher~3a-The-First-Wish.json Nodes banned: 24/83 Actions banned: 39/155\n",
      "File: A-Hero-is-Born~2e~2e.json Nodes banned: 4/14 Actions banned: 3/14\n",
      "File: Archangel.json Nodes banned: 8/33 Actions banned: 10/47\n",
      "File: Failing-.json Nodes banned: 27/119 Actions banned: 25/135\n",
      "File: The-Wasteland-Chronicles~3a-The-Story-of-Aether-Frost.json Nodes banned: 10/35 Actions banned: 6/36\n",
      "File: Solstice.json Nodes banned: 24/83 Actions banned: 25/95\n",
      "File: Hunting-the-Alphabet-Killer.json Nodes banned: 28/131 Actions banned: 52/231\n",
      "File: The-Unravelling-of-Order.json Nodes banned: 25/92 Actions banned: 25/128\n",
      "File: Why-I-left-you.json Nodes banned: 3/11 Actions banned: 3/13\n",
      "File: Live-the-Life-of-a-Cat.json Nodes banned: 5/24 Actions banned: 4/25\n",
      "File: A-Super-Tale.json Nodes banned: 35/145 Actions banned: 29/202\n",
      "File: A-Zombie-Night.json Nodes banned: 4/20 Actions banned: 11/32\n",
      "File: In-The-Deep-Of-Night.json Nodes banned: 22/80 Actions banned: 20/78\n",
      "File: Rings-of-Stone.json Nodes banned: 23/106 Actions banned: 31/201\n",
      "File: American-Outlaws~3a-The-Wild-Bunch.json Nodes banned: 48/204 Actions banned: 43/272\n",
      "File: Basement-Rats.json Nodes banned: 14/50 Actions banned: 17/54\n",
      "File: The-Cursed-Night.json Nodes banned: 22/85 Actions banned: 26/113\n",
      "File: Epoch-Coda-.json Nodes banned: 9/40 Actions banned: 11/45\n",
      "File: Shostakovich.json Nodes banned: 3/14 Actions banned: 3/14\n",
      "File: The-Veil.json Nodes banned: 67/235 Actions banned: 48/472\n",
      "File: Life-In-The-Fast-Lane.json Nodes banned: 6/25 Actions banned: 6/25\n",
      "File: Temple-of-Spades.json Nodes banned: 14/59 Actions banned: 22/110\n",
      "File: Personal-Demons.json Nodes banned: 31/129 Actions banned: 32/141\n",
      "File: Isotope-239.json Nodes banned: 17/85 Actions banned: 25/121\n",
      "File: A-UFO-at-School.json Nodes banned: 4/16 Actions banned: 4/19\n",
      "File: One-Tiny-but-Mighty-Pilchangk-Adventure.json Nodes banned: 12/56 Actions banned: 20/103\n",
      "File: A-Hero's-Odyssey.json Nodes banned: 45/193 Actions banned: 32/249\n",
      "File: Shadows-and-Blood-(or-What-Is-It-Like-to-Be-a-Vampire-Bat).json Nodes banned: 6/28 Actions banned: 6/30\n",
      "File: Cryogenic-Failure.json Nodes banned: 15/75 Actions banned: 22/137\n",
      "File: house-among-the-thorns.json Nodes banned: 6/27 Actions banned: 4/39\n",
      "File: Harry-Potter~3a-The-Last-Riddle.json Nodes banned: 35/136 Actions banned: 38/229\n",
      "File: Landslide.json Nodes banned: 9/31 Actions banned: 7/36\n",
      "File: Where-in-the-World-Is-Carmen-Sandiego~3f.json Nodes banned: 66/277 Actions banned: 228/1030\n",
      "File: Day-of-the-Dead~2d~2dOne-Soul's-All-Souls-Procession.json Nodes banned: 3/15 Actions banned: 1/17\n",
      "File: Battlefield-Commander~3a-The-Trojan-War.json Nodes banned: 21/73 Actions banned: 14/65\n",
      "File: Fallout-~3a-Seattle-under-Siege.json Nodes banned: 5/21 Actions banned: 2/62\n",
      "File: The-Spanish-Armada.json Nodes banned: 16/59 Actions banned: 33/78\n",
      "File: A-Knight's-Pursuit.json Nodes banned: 8/30 Actions banned: 10/32\n",
      "File: Engineered-Desires.json Nodes banned: 4/20 Actions banned: 7/25\n",
      "File: Mercenary-Queen-(Part-3)~3a-The-Hemlock-Band.json Nodes banned: 20/83 Actions banned: 26/111\n",
      "File: Vapula.json Nodes banned: 16/66 Actions banned: 26/87\n",
      "File: Cannibal-Apocalypse.json Nodes banned: 3/15 Actions banned: 3/16\n",
      "File: Halfway-Decent.json Nodes banned: 7/31 Actions banned: 10/36\n",
      "File: Through-The-Dragon-Lair.json Nodes banned: 5/19 Actions banned: 4/21\n",
      "File: Airport-Nightmare.json Nodes banned: 19/81 Actions banned: 19/102\n",
      "File: A-Mutt's-Purpose.json Nodes banned: 5/25 Actions banned: 9/41\n",
      "File: Save-Your-Dragon-.json Nodes banned: 21/95 Actions banned: 17/100\n",
      "File: The-Search-For-The-Craxil.json Nodes banned: 39/144 Actions banned: 20/156\n",
      "File: The-Lost-Expedition-(2).json Nodes banned: 11/55 Actions banned: 14/80\n",
      "File: Tower-of-Riddles.json Nodes banned: 73/336 Actions banned: 189/634\n",
      "File: Surviving-Pre~2dSchool.json Nodes banned: 12/60 Actions banned: 16/91\n",
      "File: A-British-Shipwright-Immigrant's-Life-in-Canada-(1830).json Nodes banned: 6/24 Actions banned: 8/32\n",
      "0.7206896551724138 627 870\n"
     ]
    }
   ],
   "source": [
    "import re\n",
    "import random\n",
    "_RE_COMBINE_WHITESPACE = re.compile(r\"\\s+\")\n",
    "\n",
    "\n",
    "def fix_spaces(s):\n",
    "    return _RE_COMBINE_WHITESPACE.sub(\" \", s).strip()\n",
    "\n",
    "def normalize_text(s):\n",
    "    s = s.strip()\n",
    "    s = fix_spaces(s)\n",
    "    s = s.replace('”', '\"')\n",
    "    s = s.replace('“', '\"')\n",
    "    s = s.replace('‘', \"'\")\n",
    "    s = s.replace('’', \"'\")\n",
    "    s = s.replace('—', '-')\n",
    "    s = s.replace('–', '-')\n",
    "    s = s.replace('…', '...')\n",
    "    s = s.replace('„', '\"')\n",
    "    return s\n",
    "\n",
    "def is_non_english(s):\n",
    "    return any(ord(el) > 256 and el not in {'‘', '’'} for el in s)\n",
    "\n",
    "class DatasetCleaner:\n",
    "    def __init__(self, max_text_tokens=400, banned=None, banned_phrases=None):\n",
    "        self.max_text_tokens = max_text_tokens\n",
    "        if banned is None:\n",
    "            self.banned = [\"are-you-happy-with-your-choices~3f.json\", \"Warlords~3a-Strategic-Conquest.json\", \n",
    "                        \"Survive-or-Conquer.json\", \"Maintenance-Systems.json\", \"Sixteen-Words.json\", \n",
    "                        \"How-well-do-you-know-your-British~2dEnglish~3f.json\",\n",
    "                        \"Harry-Potter-and-the-Deathly-Hallows-Quiz.json\",\n",
    "                        \"Monster-Trivia.json\", \"Z~2dDAY-Survival-Quiz.json\", \n",
    "                        \"Battlefield-Commander~3a-Ancient-Warfare.json\", \n",
    "                        \"Algebra-Game.json\", \"Tower-of-Doom.json\", \"Practice-Simple-Italian.json\", \n",
    "                        \"ENG4U1-Seminar-Game.json\", \"Eating-Disorders-Midterm.json\",\n",
    "                          \"Strategy-Simulator.json\", \"You~21.json\", \"WWII-Grand-Strategy.json\", \"Attack: 10|100|00|00\"]\n",
    "        else:\n",
    "            self.banned = banned\n",
    "        \n",
    "        if banned_phrases is None:\n",
    "            self.banned_phrases = [\"Synopsis\", \"MENU\", \"HARD\", \"EASY\", \"MEDIUM\", \"Turn to Section\", \"go to section\", \n",
    "              \"turn to page\", \"go to page\", \"\t\t\t\", \"Start over\", \"END THE GAME\", \"Rating:\",\n",
    "             \"Rank:\", \"THE END\", \"The end\", \"The End\", \"Please play again\", \"YOUR HEALTH\", \n",
    "              \"Your score was\", \"Your score is\"] \n",
    "        else:\n",
    "            self.banned_phrases = banned_phrases       \n",
    "    \n",
    "    def process(self, input_dir, output_dir):\n",
    "        files = [el for el in os.listdir(input_dir)]\n",
    "        written = 0\n",
    "        for el in tqdm(files):\n",
    "            if any(ban in el for ban in self.banned):\n",
    "                continue\n",
    "            j = json.load(open(os.path.join(input_dir, el)))\n",
    "            allowed_nodes = dict()      \n",
    "            bad_nodes = 0\n",
    "            bad_actions = 0\n",
    "            total_actions = 0\n",
    "            for key, state in j.items():\n",
    "                curr_actions = [normalize_text(t) for t in state['query_texts']]\n",
    "                text = normalize_text(state['main_text'])\n",
    "                if any(ban in el for ban in self.banned_phrases) or \\\n",
    "                   len(tokenizer.encode(text)) > self.max_text_tokens:\n",
    "                    bad_nodes += 1\n",
    "                    continue\n",
    "                if is_non_english(text):\n",
    "                    bad_nodes += 1\n",
    "                    continue\n",
    "                total_actions += len(curr_actions)\n",
    "                allowed_actions = []\n",
    "                allowed_nums = []\n",
    "                for action, state in zip(curr_actions, state[\"next_nums\"]):\n",
    "                    if any(ban in action for ban in self.banned_phrases):\n",
    "                        bad_actions += 1\n",
    "                    if is_non_english(action):\n",
    "                        continue\n",
    "                    if str(state) not in j:\n",
    "                        continue\n",
    "                    allowed_actions.append(action)\n",
    "                    allowed_nums.append(str(state))\n",
    "                \n",
    "                node = {\n",
    "                    \"query_texts\": allowed_actions,\n",
    "                    \"next_nums\": allowed_nums,\n",
    "                    \"main_text\": text,\n",
    "                }\n",
    "                allowed_nodes[str(key)] = node\n",
    "            \n",
    "            for t in allowed_nodes:\n",
    "                allowed_actions = []\n",
    "                allowed_nums = []\n",
    "                for action, state in zip(allowed_nodes[t]['query_texts'], allowed_nodes[t][\"next_nums\"]):\n",
    "                    if state not in allowed_nodes:\n",
    "                        bad_actions += 1\n",
    "                        continue\n",
    "                    allowed_actions.append(action)\n",
    "                    allowed_nums.append(state)\n",
    "                allowed_nodes[t]['query_texts'] = allowed_actions\n",
    "                allowed_nodes[t]['next_nums'] = allowed_nums\n",
    "                \n",
    "            if bad_nodes / len(j) >= 0.3:\n",
    "                continue\n",
    "            if bad_nodes / len(j) >= 0.2:\n",
    "                print(f\"File: {el} Nodes banned: {bad_nodes}/{len(j)} Actions banned: {bad_actions}/{total_actions}\")\n",
    "            with open(os.path.join(output_dir, el), \"w\") as file:\n",
    "                json.dump(allowed_nodes, fp=file)\n",
    "                written += 1\n",
    "        print(written/len(files), written, len(files))\n",
    "\n",
    "DatasetCleaner().process(\"data\", \"data_cleaned\")"
   ]
  },
  {
   "cell_type": "code",
   "execution_count": 46,
   "id": "061be575",
   "metadata": {},
   "outputs": [],
   "source": [
    "train_k = 8\n",
    "val_k = 1\n",
    "test_k = 1\n",
    "total_k = train_k + val_k + test_k\n",
    "train_dir = \"data_train\"\n",
    "val_dir = \"data_val\"\n",
    "test_dir = \"data_test\"\n",
    "files = sorted(os.listdir(\"data_cleaned\"))\n",
    "random.seed(42)\n",
    "for file in files:\n",
    "    c = random.randint(1, total_k)\n",
    "    if c <= train_k:\n",
    "        os.system(f'cp \"{os.path.join(\"data_cleaned\", file)}\" \"{os.path.join(train_dir, file)}\"')\n",
    "    elif c <= train_k + val_k:\n",
    "        os.system(f'cp \"{os.path.join(\"data_cleaned\", file)}\" \"{os.path.join(val_dir, file)}\"')\n",
    "    else:\n",
    "        os.system(f'cp \"{os.path.join(\"data_cleaned\", file)}\" \"{os.path.join(test_dir, file)}\"')\n",
    "        "
   ]
  },
  {
   "cell_type": "code",
   "execution_count": 43,
   "id": "8e936802",
   "metadata": {},
   "outputs": [
    {
     "name": "stdout",
     "output_type": "stream",
     "text": [
      "huggingface/tokenizers: The current process just got forked, after parallelism has already been used. Disabling parallelism to avoid deadlocks...\n",
      "To disable this warning, you can either:\n",
      "\t- Avoid using `tokenizers` before the fork if possible\n",
      "\t- Explicitly set the environment variable TOKENIZERS_PARALLELISM=(true | false)\n"
     ]
    }
   ],
   "source": [
    "!mkdir data_test"
   ]
  },
  {
   "cell_type": "code",
   "execution_count": 39,
   "id": "40a4fd62",
   "metadata": {},
   "outputs": [
    {
     "name": "stdout",
     "output_type": "stream",
     "text": [
      "huggingface/tokenizers: The current process just got forked, after parallelism has already been used. Disabling parallelism to avoid deadlocks...\n",
      "To disable this warning, you can either:\n",
      "\t- Avoid using `tokenizers` before the fork if possible\n",
      "\t- Explicitly set the environment variable TOKENIZERS_PARALLELISM=(true | false)\n"
     ]
    }
   ],
   "source": [
    "!rm data_cleaned/*"
   ]
  },
  {
   "cell_type": "markdown",
   "id": "e37af555",
   "metadata": {},
   "source": [
    "left - thr\n",
    "\n",
    "0.75 - 0.35\n",
    "\n",
    "0.72 - 0.3\n",
    "\n",
    "0.701 - 0.25\n",
    "\n",
    "0.6517 - 0.2\n",
    "\n",
    "0.605 - 0.15"
   ]
  },
  {
   "cell_type": "code",
   "execution_count": 9,
   "id": "e5c676fb",
   "metadata": {},
   "outputs": [
    {
     "data": {
      "text/plain": [
       "<AxesSubplot: ylabel='Count'>"
      ]
     },
     "execution_count": 9,
     "metadata": {},
     "output_type": "execute_result"
    },
    {
     "data": {
      "image/png": "[encoded data removed]",
      "text/plain": [
       "<Figure size 640x480 with 1 Axes>"
      ]
     },
     "metadata": {},
     "output_type": "display_data"
    }
   ],
   "source": [
    "sns.histplot(x=np.array(descriptions), binwidth=100)"
   ]
  },
  {
   "cell_type": "code",
   "execution_count": null,
   "id": "b0124e56",
   "metadata": {},
   "outputs": [],
   "source": []
  }
 ],
 "metadata": {
  "kernelspec": {
   "display_name": "Python 3 (ipykernel)",
   "language": "python",
   "name": "python3"
  },
  "language_info": {
   "codemirror_mode": {
    "name": "ipython",
    "version": 3
   },
   "file_extension": ".py",
   "mimetype": "text/x-python",
   "name": "python",
   "nbconvert_exporter": "python",
   "pygments_lexer": "ipython3",
   "version": "3.8.10"
  }
 },
 "nbformat": 4,
 "nbformat_minor": 5
}
