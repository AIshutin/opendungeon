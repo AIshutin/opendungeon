{
  "cells": [
    {
      "cell_type": "code",
      "execution_count": null,
      "metadata": {
        "colab": {
          "base_uri": "https://localhost:8080/"
        },
        "id": "FiZDVXfMHGA9",
        "outputId": "07eba13a-75af-41e6-96e5-4072c5640732"
      },
      "outputs": [
        {
          "name": "stdout",
          "output_type": "stream",
          "text": [
            "\u001b[K     |████████████████████████████████| 62.5 MB 1.2 MB/s \n",
            "\u001b[K     |████████████████████████████████| 5.5 MB 46.2 MB/s \n",
            "\u001b[K     |████████████████████████████████| 451 kB 61.6 MB/s \n",
            "\u001b[K     |████████████████████████████████| 175 kB 66.7 MB/s \n",
            "\u001b[K     |████████████████████████████████| 1.9 MB 45.7 MB/s \n",
            "\u001b[K     |████████████████████████████████| 182 kB 50.2 MB/s \n",
            "\u001b[K     |████████████████████████████████| 7.6 MB 36.6 MB/s \n",
            "\u001b[K     |████████████████████████████████| 115 kB 68.2 MB/s \n",
            "\u001b[K     |████████████████████████████████| 212 kB 72.6 MB/s \n",
            "\u001b[K     |████████████████████████████████| 127 kB 67.8 MB/s \n",
            "\u001b[K     |████████████████████████████████| 168 kB 60.7 MB/s \n",
            "\u001b[K     |████████████████████████████████| 182 kB 57.1 MB/s \n",
            "\u001b[K     |████████████████████████████████| 63 kB 2.1 MB/s \n",
            "\u001b[K     |████████████████████████████████| 166 kB 71.5 MB/s \n",
            "\u001b[K     |████████████████████████████████| 166 kB 72.3 MB/s \n",
            "\u001b[K     |████████████████████████████████| 162 kB 75.9 MB/s \n",
            "\u001b[K     |████████████████████████████████| 162 kB 69.0 MB/s \n",
            "\u001b[K     |████████████████████████████████| 158 kB 72.2 MB/s \n",
            "\u001b[K     |████████████████████████████████| 157 kB 28.3 MB/s \n",
            "\u001b[K     |████████████████████████████████| 157 kB 74.4 MB/s \n",
            "\u001b[K     |████████████████████████████████| 157 kB 73.2 MB/s \n",
            "\u001b[K     |████████████████████████████████| 157 kB 66.8 MB/s \n",
            "\u001b[K     |████████████████████████████████| 157 kB 75.9 MB/s \n",
            "\u001b[K     |████████████████████████████████| 157 kB 72.3 MB/s \n",
            "\u001b[K     |████████████████████████████████| 157 kB 76.0 MB/s \n",
            "\u001b[K     |████████████████████████████████| 156 kB 70.8 MB/s \n",
            "\u001b[?25h  Building wheel for pathtools (setup.py) ... \u001b[?25l\u001b[?25hdone\n"
          ]
        }
      ],
      "source": [
        "%pip install --quiet bitsandbytes transformers datasets accelerate wandb"
      ]
    },
    {
      "cell_type": "code",
      "execution_count": null,
      "metadata": {
        "colab": {
          "base_uri": "https://localhost:8080/",
          "height": 35
        },
        "id": "Aep1KMF6dqdm",
        "outputId": "a9b2b939-addf-4b01-bcc5-92fc3b893fad"
      },
      "outputs": [
        {
          "data": {
            "application/vnd.google.colaboratory.intrinsic+json": {
              "type": "string"
            },
            "text/plain": [
              "'1.12.1+cu113'"
            ]
          },
          "execution_count": 5,
          "metadata": {},
          "output_type": "execute_result"
        }
      ],
      "source": [
        "import torch\n",
        "torch.__version__"
      ]
    },
    {
      "cell_type": "code",
      "execution_count": null,
      "metadata": {
        "colab": {
          "base_uri": "https://localhost:8080/",
          "height": 35
        },
        "id": "DW07LRCzb_O7",
        "outputId": "226271b5-64fd-425d-f70a-efc95c5ca61d"
      },
      "outputs": [
        {
          "data": {
            "application/vnd.google.colaboratory.intrinsic+json": {
              "type": "string"
            },
            "text/plain": [
              "'4.24.0'"
            ]
          },
          "execution_count": 6,
          "metadata": {},
          "output_type": "execute_result"
        }
      ],
      "source": [
        "import transformers\n",
        "transformers.__version__"
      ]
    },
    {
      "cell_type": "code",
      "execution_count": null,
      "metadata": {
        "colab": {
          "base_uri": "https://localhost:8080/"
        },
        "id": "inG6B55S5Bd2",
        "outputId": "abae12ce-f055-4de4-b292-10015ff1d5ed"
      },
      "outputs": [
        {
          "name": "stdout",
          "output_type": "stream",
          "text": [
            "--2022-11-16 15:45:37--  https://raw.githubusercontent.com/AIshutin/opendungeon/master/questdataset.py\n",
            "Resolving raw.githubusercontent.com (raw.githubusercontent.com)... 185.199.110.133, 185.199.111.133, 185.199.108.133, ...\n",
            "Connecting to raw.githubusercontent.com (raw.githubusercontent.com)|185.199.110.133|:443... connected.\n",
            "HTTP request sent, awaiting response... 200 OK\n",
            "Length: 5751 (5.6K) [text/plain]\n",
            "Saving to: ‘questdataset.py’\n",
            "\n",
            "\rquestdataset.py       0%[                    ]       0  --.-KB/s               \rquestdataset.py     100%[===================>]   5.62K  --.-KB/s    in 0s      \n",
            "\n",
            "2022-11-16 15:45:37 (76.6 MB/s) - ‘questdataset.py’ saved [5751/5751]\n",
            "\n",
            "--2022-11-16 15:45:37--  https://huggingface.co/datasets/OpenDungeon/chooseyourstory/resolve/main/data_train_mxlen1000.pkl\n",
            "Resolving huggingface.co (huggingface.co)... 34.200.207.32, 34.227.196.80, 2600:1f18:147f:e800:7a81:37eb:4345:da2, ...\n",
            "Connecting to huggingface.co (huggingface.co)|34.200.207.32|:443... connected.\n",
            "HTTP request sent, awaiting response... 302 Found\n",
            "Location: https://cdn-lfs.huggingface.co/repos/06/9c/069c33a1513b330ab6a042027003abad449fc0f7bfabedc18b0d136e5d8fb75a/1f53273e179d7fdb1c600353880a8f0aed286eee0ec2278102abb3a2bd00cb1b?response-content-disposition=attachment%3B%20filename%3D%22data_train_mxlen1000.pkl%22&Expires=1668872738&Policy=eyJTdGF0ZW1lbnQiOlt7IlJlc291cmNlIjoiaHR0cHM6Ly9jZG4tbGZzLmh1Z2dpbmdmYWNlLmNvL3JlcG9zLzA2LzljLzA2OWMzM2ExNTEzYjMzMGFiNmEwNDIwMjcwMDNhYmFkNDQ5ZmMwZjdiZmFiZWRjMThiMGQxMzZlNWQ4ZmI3NWEvMWY1MzI3M2UxNzlkN2ZkYjFjNjAwMzUzODgwYThmMGFlZDI4NmVlZTBlYzIyNzgxMDJhYmIzYTJiZDAwY2IxYj9yZXNwb25zZS1jb250ZW50LWRpc3Bvc2l0aW9uPWF0dGFjaG1lbnQlM0IlMjBmaWxlbmFtZSUzRCUyMmRhdGFfdHJhaW5fbXhsZW4xMDAwLnBrbCUyMiIsIkNvbmRpdGlvbiI6eyJEYXRlTGVzc1RoYW4iOnsiQVdTOkVwb2NoVGltZSI6MTY2ODg3MjczOH19fV19&Signature=PuQYZxDOC4tCAqPzSFtXjOzg5USM6sv5EReSAGUKITTmXz8zL2Zg02zmihPQz7Lo-o-STgaY-jrLOeAbwcg8XXLubx2CxJibHDx0uwoQjWanMdowyCv1IQXmrMMVEYrGajiHjWbbByy2VI592T3oSlQgc5mhrjM~Z9PZAk~U6WRWU2so5wMNC4xDicWdk53UzGQSNvS03OBxSqsBJvexryQVSEwCJ1QmYpLZ89t6EUqA89jmVNPZlToIHiTYi9RkNCIVGeWrwRNCdPch5bVX7MD7WyKbpp0z4cBeEf7otO~qnKPagoxlnAorXFp~G8k5SiC~cG5~s3OWXVLmC8Txsg__&Key-Pair-Id=KVTP0A1DKRTAX [following]\n",
            "--2022-11-16 15:45:37--  https://cdn-lfs.huggingface.co/repos/06/9c/069c33a1513b330ab6a042027003abad449fc0f7bfabedc18b0d136e5d8fb75a/1f53273e179d7fdb1c600353880a8f0aed286eee0ec2278102abb3a2bd00cb1b?response-content-disposition=attachment%3B%20filename%3D%22data_train_mxlen1000.pkl%22&Expires=1668872738&Policy=eyJTdGF0ZW1lbnQiOlt7IlJlc291cmNlIjoiaHR0cHM6Ly9jZG4tbGZzLmh1Z2dpbmdmYWNlLmNvL3JlcG9zLzA2LzljLzA2OWMzM2ExNTEzYjMzMGFiNmEwNDIwMjcwMDNhYmFkNDQ5ZmMwZjdiZmFiZWRjMThiMGQxMzZlNWQ4ZmI3NWEvMWY1MzI3M2UxNzlkN2ZkYjFjNjAwMzUzODgwYThmMGFlZDI4NmVlZTBlYzIyNzgxMDJhYmIzYTJiZDAwY2IxYj9yZXNwb25zZS1jb250ZW50LWRpc3Bvc2l0aW9uPWF0dGFjaG1lbnQlM0IlMjBmaWxlbmFtZSUzRCUyMmRhdGFfdHJhaW5fbXhsZW4xMDAwLnBrbCUyMiIsIkNvbmRpdGlvbiI6eyJEYXRlTGVzc1RoYW4iOnsiQVdTOkVwb2NoVGltZSI6MTY2ODg3MjczOH19fV19&Signature=PuQYZxDOC4tCAqPzSFtXjOzg5USM6sv5EReSAGUKITTmXz8zL2Zg02zmihPQz7Lo-o-STgaY-jrLOeAbwcg8XXLubx2CxJibHDx0uwoQjWanMdowyCv1IQXmrMMVEYrGajiHjWbbByy2VI592T3oSlQgc5mhrjM~Z9PZAk~U6WRWU2so5wMNC4xDicWdk53UzGQSNvS03OBxSqsBJvexryQVSEwCJ1QmYpLZ89t6EUqA89jmVNPZlToIHiTYi9RkNCIVGeWrwRNCdPch5bVX7MD7WyKbpp0z4cBeEf7otO~qnKPagoxlnAorXFp~G8k5SiC~cG5~s3OWXVLmC8Txsg__&Key-Pair-Id=KVTP0A1DKRTAX\n",
            "Resolving cdn-lfs.huggingface.co (cdn-lfs.huggingface.co)... 108.156.60.44, 108.156.60.109, 108.156.60.37, ...\n",
            "Connecting to cdn-lfs.huggingface.co (cdn-lfs.huggingface.co)|108.156.60.44|:443... connected.\n",
            "HTTP request sent, awaiting response... 200 OK\n",
            "Length: 117438353 (112M) [binary/octet-stream]\n",
            "Saving to: ‘data_train_mxlen1000.pkl’\n",
            "\n",
            "data_train_mxlen100 100%[===================>] 112.00M  32.1MB/s    in 3.5s    \n",
            "\n",
            "2022-11-16 15:45:41 (32.1 MB/s) - ‘data_train_mxlen1000.pkl’ saved [117438353/117438353]\n",
            "\n",
            "--2022-11-16 15:45:42--  https://huggingface.co/datasets/OpenDungeon/chooseyourstory/resolve/main/data_test_mxlen1000.pkl\n",
            "Resolving huggingface.co (huggingface.co)... 34.200.207.32, 34.227.196.80, 2600:1f18:147f:e800:7a81:37eb:4345:da2, ...\n",
            "Connecting to huggingface.co (huggingface.co)|34.200.207.32|:443... connected.\n",
            "HTTP request sent, awaiting response... 302 Found\n",
            "Location: https://cdn-lfs.huggingface.co/repos/06/9c/069c33a1513b330ab6a042027003abad449fc0f7bfabedc18b0d136e5d8fb75a/b4a9cd7ffedc4bd9557343e8e8c3ff250e7897969909cd5d4b34512ccef8fd4b?response-content-disposition=attachment%3B%20filename%3D%22data_test_mxlen1000.pkl%22&Expires=1668872742&Policy=eyJTdGF0ZW1lbnQiOlt7IlJlc291cmNlIjoiaHR0cHM6Ly9jZG4tbGZzLmh1Z2dpbmdmYWNlLmNvL3JlcG9zLzA2LzljLzA2OWMzM2ExNTEzYjMzMGFiNmEwNDIwMjcwMDNhYmFkNDQ5ZmMwZjdiZmFiZWRjMThiMGQxMzZlNWQ4ZmI3NWEvYjRhOWNkN2ZmZWRjNGJkOTU1NzM0M2U4ZThjM2ZmMjUwZTc4OTc5Njk5MDljZDVkNGIzNDUxMmNjZWY4ZmQ0Yj9yZXNwb25zZS1jb250ZW50LWRpc3Bvc2l0aW9uPWF0dGFjaG1lbnQlM0IlMjBmaWxlbmFtZSUzRCUyMmRhdGFfdGVzdF9teGxlbjEwMDAucGtsJTIyIiwiQ29uZGl0aW9uIjp7IkRhdGVMZXNzVGhhbiI6eyJBV1M6RXBvY2hUaW1lIjoxNjY4ODcyNzQyfX19XX0_&Signature=lknAk3Lo39rmyh97Piw5RjisZby8gTXo6RMLixWGlHuVqh4X86-NrCknEaL4Q7Eoh8S48Oh2ir~eR1WtDQ2YNqnQBu3v4JWB4~T0sEZt2dDnptVGv81a-m~WmE2ytqlAh-pZAyrrqoVav55bq-5wv5XU02mLiF8cHm8J08dc3nFdhPRfcK4r2DaogpTDAxwN-0PVlXUkuN~q5LH7d2ohe2d4HSdkLkhrBHTH6oPXgHSgYwK0t06thXHnU-zyZt5o2yy0Bji6Oy-ovYrXyw9vtx099yD-XlQEtpnDRIJngoXK94wtwtvS5HJyrAO126ASFNOXIo9Vg1fFrGQ9WuZTvA__&Key-Pair-Id=KVTP0A1DKRTAX [following]\n",
            "--2022-11-16 15:45:42--  https://cdn-lfs.huggingface.co/repos/06/9c/069c33a1513b330ab6a042027003abad449fc0f7bfabedc18b0d136e5d8fb75a/b4a9cd7ffedc4bd9557343e8e8c3ff250e7897969909cd5d4b34512ccef8fd4b?response-content-disposition=attachment%3B%20filename%3D%22data_test_mxlen1000.pkl%22&Expires=1668872742&Policy=eyJTdGF0ZW1lbnQiOlt7IlJlc291cmNlIjoiaHR0cHM6Ly9jZG4tbGZzLmh1Z2dpbmdmYWNlLmNvL3JlcG9zLzA2LzljLzA2OWMzM2ExNTEzYjMzMGFiNmEwNDIwMjcwMDNhYmFkNDQ5ZmMwZjdiZmFiZWRjMThiMGQxMzZlNWQ4ZmI3NWEvYjRhOWNkN2ZmZWRjNGJkOTU1NzM0M2U4ZThjM2ZmMjUwZTc4OTc5Njk5MDljZDVkNGIzNDUxMmNjZWY4ZmQ0Yj9yZXNwb25zZS1jb250ZW50LWRpc3Bvc2l0aW9uPWF0dGFjaG1lbnQlM0IlMjBmaWxlbmFtZSUzRCUyMmRhdGFfdGVzdF9teGxlbjEwMDAucGtsJTIyIiwiQ29uZGl0aW9uIjp7IkRhdGVMZXNzVGhhbiI6eyJBV1M6RXBvY2hUaW1lIjoxNjY4ODcyNzQyfX19XX0_&Signature=lknAk3Lo39rmyh97Piw5RjisZby8gTXo6RMLixWGlHuVqh4X86-NrCknEaL4Q7Eoh8S48Oh2ir~eR1WtDQ2YNqnQBu3v4JWB4~T0sEZt2dDnptVGv81a-m~WmE2ytqlAh-pZAyrrqoVav55bq-5wv5XU02mLiF8cHm8J08dc3nFdhPRfcK4r2DaogpTDAxwN-0PVlXUkuN~q5LH7d2ohe2d4HSdkLkhrBHTH6oPXgHSgYwK0t06thXHnU-zyZt5o2yy0Bji6Oy-ovYrXyw9vtx099yD-XlQEtpnDRIJngoXK94wtwtvS5HJyrAO126ASFNOXIo9Vg1fFrGQ9WuZTvA__&Key-Pair-Id=KVTP0A1DKRTAX\n",
            "Resolving cdn-lfs.huggingface.co (cdn-lfs.huggingface.co)... 108.156.60.44, 108.156.60.109, 108.156.60.37, ...\n",
            "Connecting to cdn-lfs.huggingface.co (cdn-lfs.huggingface.co)|108.156.60.44|:443... connected.\n",
            "HTTP request sent, awaiting response... 200 OK\n",
            "Length: 18913444 (18M) [binary/octet-stream]\n",
            "Saving to: ‘data_test_mxlen1000.pkl’\n",
            "\n",
            "data_test_mxlen1000 100%[===================>]  18.04M  17.7MB/s    in 1.0s    \n",
            "\n",
            "2022-11-16 15:45:44 (17.7 MB/s) - ‘data_test_mxlen1000.pkl’ saved [18913444/18913444]\n",
            "\n",
            "--2022-11-16 15:45:44--  https://huggingface.co/datasets/OpenDungeon/chooseyourstory/resolve/main/data_val_mxlen1000.pkl\n",
            "Resolving huggingface.co (huggingface.co)... 34.200.207.32, 34.227.196.80, 2600:1f18:147f:e800:7a81:37eb:4345:da2, ...\n",
            "Connecting to huggingface.co (huggingface.co)|34.200.207.32|:443... connected.\n",
            "HTTP request sent, awaiting response... 302 Found\n",
            "Location: https://cdn-lfs.huggingface.co/repos/06/9c/069c33a1513b330ab6a042027003abad449fc0f7bfabedc18b0d136e5d8fb75a/40a4ff0da05d6661f3a60bb870184538ac39710ae052a685ad32d984d9346b42?response-content-disposition=attachment%3B%20filename%3D%22data_val_mxlen1000.pkl%22&Expires=1668872744&Policy=eyJTdGF0ZW1lbnQiOlt7IlJlc291cmNlIjoiaHR0cHM6Ly9jZG4tbGZzLmh1Z2dpbmdmYWNlLmNvL3JlcG9zLzA2LzljLzA2OWMzM2ExNTEzYjMzMGFiNmEwNDIwMjcwMDNhYmFkNDQ5ZmMwZjdiZmFiZWRjMThiMGQxMzZlNWQ4ZmI3NWEvNDBhNGZmMGRhMDVkNjY2MWYzYTYwYmI4NzAxODQ1MzhhYzM5NzEwYWUwNTJhNjg1YWQzMmQ5ODRkOTM0NmI0Mj9yZXNwb25zZS1jb250ZW50LWRpc3Bvc2l0aW9uPWF0dGFjaG1lbnQlM0IlMjBmaWxlbmFtZSUzRCUyMmRhdGFfdmFsX214bGVuMTAwMC5wa2wlMjIiLCJDb25kaXRpb24iOnsiRGF0ZUxlc3NUaGFuIjp7IkFXUzpFcG9jaFRpbWUiOjE2Njg4NzI3NDR9fX1dfQ__&Signature=Wlrc4lGgn9mAOMc768noJTrRmn3xDu2UjPJGmb8nPcYo0-bJnCaa0wX1uBhzyQRSXfQgcdri4S9j~KVfW0n8JC6zeodqyFj1vgG4jcxe5oZnGRksR1jVhKJsAvWFUCuKSH2Bl1Wlibogt~LC8AeRqETRmewI8WwQPfUbjL2QTvuIFlMA8c0~4wG-3nTn~kc61IuHqIOl0E96wePwvwLmrvAdyT9MNOeksPSEBmROFhOSy2G2EZs0k~p4yRmQhRb5I5UevUBu26B-BCjHEcevL9-lvT6r~Ml3rtQpcwCdr7ibsT1-hX2i2iSZgF3E3CxJtehgaPlmP1RwFEF~SU-yAQ__&Key-Pair-Id=KVTP0A1DKRTAX [following]\n",
            "--2022-11-16 15:45:44--  https://cdn-lfs.huggingface.co/repos/06/9c/069c33a1513b330ab6a042027003abad449fc0f7bfabedc18b0d136e5d8fb75a/40a4ff0da05d6661f3a60bb870184538ac39710ae052a685ad32d984d9346b42?response-content-disposition=attachment%3B%20filename%3D%22data_val_mxlen1000.pkl%22&Expires=1668872744&Policy=eyJTdGF0ZW1lbnQiOlt7IlJlc291cmNlIjoiaHR0cHM6Ly9jZG4tbGZzLmh1Z2dpbmdmYWNlLmNvL3JlcG9zLzA2LzljLzA2OWMzM2ExNTEzYjMzMGFiNmEwNDIwMjcwMDNhYmFkNDQ5ZmMwZjdiZmFiZWRjMThiMGQxMzZlNWQ4ZmI3NWEvNDBhNGZmMGRhMDVkNjY2MWYzYTYwYmI4NzAxODQ1MzhhYzM5NzEwYWUwNTJhNjg1YWQzMmQ5ODRkOTM0NmI0Mj9yZXNwb25zZS1jb250ZW50LWRpc3Bvc2l0aW9uPWF0dGFjaG1lbnQlM0IlMjBmaWxlbmFtZSUzRCUyMmRhdGFfdmFsX214bGVuMTAwMC5wa2wlMjIiLCJDb25kaXRpb24iOnsiRGF0ZUxlc3NUaGFuIjp7IkFXUzpFcG9jaFRpbWUiOjE2Njg4NzI3NDR9fX1dfQ__&Signature=Wlrc4lGgn9mAOMc768noJTrRmn3xDu2UjPJGmb8nPcYo0-bJnCaa0wX1uBhzyQRSXfQgcdri4S9j~KVfW0n8JC6zeodqyFj1vgG4jcxe5oZnGRksR1jVhKJsAvWFUCuKSH2Bl1Wlibogt~LC8AeRqETRmewI8WwQPfUbjL2QTvuIFlMA8c0~4wG-3nTn~kc61IuHqIOl0E96wePwvwLmrvAdyT9MNOeksPSEBmROFhOSy2G2EZs0k~p4yRmQhRb5I5UevUBu26B-BCjHEcevL9-lvT6r~Ml3rtQpcwCdr7ibsT1-hX2i2iSZgF3E3CxJtehgaPlmP1RwFEF~SU-yAQ__&Key-Pair-Id=KVTP0A1DKRTAX\n",
            "Resolving cdn-lfs.huggingface.co (cdn-lfs.huggingface.co)... 108.156.60.44, 108.156.60.109, 108.156.60.37, ...\n",
            "Connecting to cdn-lfs.huggingface.co (cdn-lfs.huggingface.co)|108.156.60.44|:443... connected.\n",
            "HTTP request sent, awaiting response... 200 OK\n",
            "Length: 12038436 (11M) [binary/octet-stream]\n",
            "Saving to: ‘data_val_mxlen1000.pkl’\n",
            "\n",
            "data_val_mxlen1000. 100%[===================>]  11.48M  3.24MB/s    in 4.0s    \n",
            "\n",
            "2022-11-16 15:45:49 (2.91 MB/s) - ‘data_val_mxlen1000.pkl’ saved [12038436/12038436]\n",
            "\n"
          ]
        }
      ],
      "source": [
        "!wget https://raw.githubusercontent.com/AIshutin/opendungeon/master/questdataset.py\n",
        "!wget https://huggingface.co/datasets/OpenDungeon/chooseyourstory/resolve/main/data_train_mxlen1000.pkl\n",
        "!wget https://huggingface.co/datasets/OpenDungeon/chooseyourstory/resolve/main/data_test_mxlen1000.pkl\n",
        "!wget https://huggingface.co/datasets/OpenDungeon/chooseyourstory/resolve/main/data_val_mxlen1000.pkl"
      ]
    },
    {
      "cell_type": "code",
      "execution_count": null,
      "metadata": {
        "colab": {
          "base_uri": "https://localhost:8080/",
          "height": 86
        },
        "id": "nLhzv4Dqe3OO",
        "outputId": "0193f196-b69e-41af-f419-ead62510acc5"
      },
      "outputs": [
        {
          "name": "stderr",
          "output_type": "stream",
          "text": [
            "ERROR:wandb.jupyter:Failed to detect the name of this notebook, you can set it manually with the WANDB_NOTEBOOK_NAME environment variable to enable code saving.\n"
          ]
        },
        {
          "data": {
            "application/javascript": [
              "\n",
              "        window._wandbApiKey = new Promise((resolve, reject) => {\n",
              "            function loadScript(url) {\n",
              "            return new Promise(function(resolve, reject) {\n",
              "                let newScript = document.createElement(\"script\");\n",
              "                newScript.onerror = reject;\n",
              "                newScript.onload = resolve;\n",
              "                document.body.appendChild(newScript);\n",
              "                newScript.src = url;\n",
              "            });\n",
              "            }\n",
              "            loadScript(\"https://cdn.jsdelivr.net/npm/postmate/build/postmate.min.js\").then(() => {\n",
              "            const iframe = document.createElement('iframe')\n",
              "            iframe.style.cssText = \"width:0;height:0;border:none\"\n",
              "            document.body.appendChild(iframe)\n",
              "            const handshake = new Postmate({\n",
              "                container: iframe,\n",
              "                url: 'https://wandb.ai/authorize'\n",
              "            });\n",
              "            const timeout = setTimeout(() => reject(\"Couldn't auto authenticate\"), 5000)\n",
              "            handshake.then(function(child) {\n",
              "                child.on('authorize', data => {\n",
              "                    clearTimeout(timeout)\n",
              "                    resolve(data)\n",
              "                });\n",
              "            });\n",
              "            })\n",
              "        });\n",
              "    "
            ],
            "text/plain": [
              "<IPython.core.display.Javascript object>"
            ]
          },
          "metadata": {},
          "output_type": "display_data"
        },
        {
          "name": "stderr",
          "output_type": "stream",
          "text": [
            "\u001b[34m\u001b[1mwandb\u001b[0m: Appending key for api.wandb.ai to your netrc file: /root/.netrc\n"
          ]
        },
        {
          "data": {
            "text/plain": [
              "True"
            ]
          },
          "execution_count": 8,
          "metadata": {},
          "output_type": "execute_result"
        }
      ],
      "source": [
        "import wandb\n",
        "wandb.login()"
      ]
    },
    {
      "cell_type": "code",
      "execution_count": null,
      "metadata": {
        "colab": {
          "base_uri": "https://localhost:8080/",
          "height": 145,
          "referenced_widgets": [
            "aec38f0368644114b3934bcfdcd1fce9",
            "583ad622295d4a8085dcd264f1cbd3dc",
            "c2fef254c6e14e4aa4f1ea05b867e1d1",
            "aabe01735c7b44cb99bf46a65da1290f",
            "523ccee996314ac0a41a2d4fff5f6b53",
            "8513d1534a29418fb71b42961f3dccf9",
            "7971a6d808fb42cf87f5a62ab7ba7c79",
            "cac0cf3fdd2c48728e52dfd516feacf5",
            "3be0f61b8aa841929a4752a96fceed96",
            "36a0404f12e241dea3e50a853e6f8474",
            "ba841e0a1c564706b6eeb28527865e8b",
            "924442dcb9594bb0942b4aac9d32a40b",
            "24e1441bb02847aebed8b2931654aac1",
            "52c6af29fca64f91aaedc82c7b100839",
            "e590681f8b4b422e8a845d05175ccbd0",
            "73225fb7cd5647f1b4d3b5a28aee9408",
            "2b6312ed12a84aac879a72613d706d1e",
            "0f5be08576cf4c4d90518cd80c72d06f",
            "cf4eb31cecca42f8bb4fb6047023520f",
            "0166595bb15a44fc9a019dcc4e6c8705",
            "c47092ef366743148affdd1efac7c86a",
            "f2cf21e062224266a374b1c5156da830",
            "50e34a4260ee4d36a3a3d754f3849d44",
            "e6160d8722f34ddead6bdbd76afedb43",
            "fc4be26d2a8747f2aeda4d68ea5a1312",
            "fdbfff76f521422d90d3bcfaa5b4cc4c",
            "8d16f37a741e463f81fe00bd5c2e44b9",
            "5cf71706daac4dd9b977a568c67baf16",
            "7a33f796fe944518b21457a76f164f7b",
            "db42c5c91c8b40b5874e92853fb31bf6",
            "96ebb52de9fc4ecb85ea4fa0e5aa412c",
            "c909832d20164122acad2e4068a77a61",
            "299535620de547fda8c1af1fc24fde16",
            "e20b9eddb7d94a24ac3338f920d7aa93",
            "72880e3ad16d4ad894878b23a1715487",
            "b26d16e23c624c23900c7b0deed41162",
            "17ca47c4124a47d783e499fa3396f50a",
            "bb5142537bcd4863aec56d0b591de874",
            "50ae8b98086b445cbc23d67f9b49fb18",
            "32841060a43a4b66a36b769bf9ac213a",
            "29da2f6ec1d14836b154f5033945c474",
            "ece93eb115e44aa08ed1b7f4559ca05d",
            "a67a63070aa14e8e9c1f917c61209ddb",
            "162f1421fb6c42a9bf8f6ec1ecf8c23b"
          ]
        },
        "id": "cg3fiQOvmI3Q",
        "outputId": "695c3785-6c88-41f6-983f-78b2a373c1fd"
      },
      "outputs": [
        {
          "data": {
            "application/vnd.jupyter.widget-view+json": {
              "model_id": "aec38f0368644114b3934bcfdcd1fce9",
              "version_major": 2,
              "version_minor": 0
            },
            "text/plain": [
              "Downloading:   0%|          | 0.00/685 [00:00<?, ?B/s]"
            ]
          },
          "metadata": {},
          "output_type": "display_data"
        },
        {
          "data": {
            "application/vnd.jupyter.widget-view+json": {
              "model_id": "924442dcb9594bb0942b4aac9d32a40b",
              "version_major": 2,
              "version_minor": 0
            },
            "text/plain": [
              "Downloading:   0%|          | 0.00/899k [00:00<?, ?B/s]"
            ]
          },
          "metadata": {},
          "output_type": "display_data"
        },
        {
          "data": {
            "application/vnd.jupyter.widget-view+json": {
              "model_id": "50e34a4260ee4d36a3a3d754f3849d44",
              "version_major": 2,
              "version_minor": 0
            },
            "text/plain": [
              "Downloading:   0%|          | 0.00/456k [00:00<?, ?B/s]"
            ]
          },
          "metadata": {},
          "output_type": "display_data"
        },
        {
          "data": {
            "application/vnd.jupyter.widget-view+json": {
              "model_id": "e20b9eddb7d94a24ac3338f920d7aa93",
              "version_major": 2,
              "version_minor": 0
            },
            "text/plain": [
              "Downloading:   0%|          | 0.00/441 [00:00<?, ?B/s]"
            ]
          },
          "metadata": {},
          "output_type": "display_data"
        }
      ],
      "source": [
        "import torch\n",
        "import torch.nn as nn\n",
        "import bitsandbytes as bnb\n",
        "from transformers import AutoTokenizer, AutoConfig, AutoModelForCausalLM\n",
        "\n",
        "MODEL_NAME = \"EleutherAI/gpt-j-6B\"\n",
        "\n",
        "model = AutoModelForCausalLM.from_pretrained(\n",
        "  MODEL_NAME, device_map='auto', load_in_8bit=True,\n",
        "  low_cpu_mem_usage=True, torch_dtype=torch.float16, offload_state_dict=True)\n",
        "\n",
        "# I have no idea which of the from_pretrained params are necessary ~.~\n",
        "# If you are reading this and you not in (Tim,Younes,Felix), we messed up\n",
        "\n",
        "tokenizer = AutoTokenizer.from_pretrained(MODEL_NAME)\n",
        "tokenizer.add_special_tokens({'pad_token': tokenizer.eos_token})\n",
        "\n",
        "for module in model.modules():\n",
        "    if isinstance(module, bnb.nn.Linear8bitLt):\n",
        "        module.state.memory_efficient_backward = True\n",
        "\n",
        "for param in model.parameters():\n",
        "  param.requires_grad = False  # freeze the model - train adapters later\n",
        "  if param.ndim == 1:\n",
        "    # cast the small parameters (e.g. layernorm) to fp32 for stability\n",
        "    param.data = param.data.to(torch.float32)\n",
        "\n",
        "model.gradient_checkpointing_enable()  # reduce number of stored activations\n",
        "model.model.decoder.project_in = lambda x: x.requires_grad_(True)\n",
        "\n",
        "# cast model outputs to float32 to unfuck the top-k sampler\n",
        "class CastOutputToFloat(nn.Sequential):\n",
        "  def forward(self, x): return super().forward(x).to(torch.float32)\n",
        "model.lm_head = CastOutputToFloat(model.lm_head)"
      ]
    },
    {
      "cell_type": "code",
      "execution_count": null,
      "metadata": {
        "colab": {
          "base_uri": "https://localhost:8080/"
        },
        "id": "gGfyeM-vdq5o",
        "outputId": "656ae386-58d9-42c1-da2f-0c9a04075432"
      },
      "outputs": [
        {
          "name": "stderr",
          "output_type": "stream",
          "text": [
            "/usr/local/lib/python3.7/dist-packages/transformers/generation_utils.py:1449: UserWarning: You are calling .generate() with the `input_ids` being on a device type different than your model's device. `input_ids` is on cpu, whereas the model is on cuda. You may experience unexpected behaviors or slower generation. Please make sure that you have put `input_ids` to the correct device by calling for example input_ids = input_ids.to('cuda') before running `.generate()`.\n",
            "  UserWarning,\n",
            "/usr/local/lib/python3.7/dist-packages/bitsandbytes/autograd/_functions.py:231: UserWarning: MatMul8bitLt: inputs will be cast from torch.float32 to float16 during quantization\n",
            "  warnings.warn(f\"MatMul8bitLt: inputs will be cast from {A.dtype} to float16 during quantization\")\n"
          ]
        },
        {
          "name": "stdout",
          "output_type": "stream",
          "text": [
            "\n",
            "\n",
            " </s>Mark Zuckerberg is a cunt. I'd put this on my car and just leave. I don't want to give them money.\n",
            "\"I\n"
          ]
        }
      ],
      "source": [
        "batch = tokenizer(\"Mark Zuckerberg is\", return_tensors='pt')\n",
        "# note to self: find a less controversial example\n",
        "\n",
        "with torch.cuda.amp.autocast():\n",
        "  output_tokens = model.generate(**batch, min_length=30, max_length=30, do_sample=True)\n",
        "\n",
        "print('\\n\\n', tokenizer.decode(output_tokens[0].numpy()))"
      ]
    },
    {
      "cell_type": "markdown",
      "metadata": {
        "id": "KwOTr7B3NlM3"
      },
      "source": [
        "### Apply LoRA"
      ]
    },
    {
      "cell_type": "code",
      "execution_count": null,
      "metadata": {
        "id": "4W1j6lxaNnxC"
      },
      "outputs": [],
      "source": [
        "class LoRALayer(nn.Module):\n",
        "    \"\"\"Wraps a linear layer with LoRA-like adapter\"\"\"\n",
        "    def __init__(self, module: nn.Module, rank: int):\n",
        "        super().__init__()\n",
        "        self.module = module\n",
        "        self.adapter = nn.Sequential(nn.Linear(module.in_features, rank, bias=False),\n",
        "                                     nn.Linear(rank, module.out_features, bias=False))\n",
        "        small_std = (2. / (5 * min(module.in_features, module.out_features))) ** 0.5\n",
        "        nn.init.normal_(self.adapter[0].weight, std=small_std)\n",
        "        nn.init.zeros_(self.adapter[1].weight)\n",
        "        self.adapter.to(module.weight.device)\n",
        "\n",
        "    def forward(self, input, *args, **kwargs):\n",
        "        return self.module(input, *args, **kwargs) + self.adapter(input)\n"
      ]
    },
    {
      "cell_type": "code",
      "execution_count": null,
      "metadata": {
        "id": "4iwHGzKBN6wk"
      },
      "outputs": [],
      "source": [
        "for name, module in model.named_modules():\n",
        "  if 'OPTAttention' in repr(type(module)):\n",
        "    module.q_proj = LoRALayer(module.q_proj, rank=16)\n",
        "    module.k_proj = LoRALayer(module.k_proj, rank=16)\n",
        "    module.v_proj = LoRALayer(module.v_proj, rank=16)\n",
        "\n",
        "assert sum(isinstance(module, LoRALayer) for module in model.modules()) == 96"
      ]
    },
    {
      "cell_type": "code",
      "execution_count": null,
      "metadata": {
        "id": "M9GiOJ4vdxqI"
      },
      "outputs": [],
      "source": [
        "# test a single training step, make sure we get meaningful gradients\n",
        "with torch.cuda.amp.autocast():\n",
        "  out = model.forward(**batch)\n",
        "  out.logits.norm().backward()\n",
        "\n",
        "for module in model.modules():\n",
        "  if isinstance(module, LoRALayer):\n",
        "    assert module.adapter[1].weight.grad is not None\n",
        "    assert module.adapter[1].weight.grad.norm().item() > 0\n",
        "\n",
        "model.zero_grad(set_to_none=True)"
      ]
    },
    {
      "cell_type": "code",
      "execution_count": null,
      "metadata": {
        "colab": {
          "base_uri": "https://localhost:8080/"
        },
        "id": "q7sbwlqXmNjC",
        "outputId": "17b9954f-fc85-4808-9419-479a16c5c993"
      },
      "outputs": [
        {
          "name": "stdout",
          "output_type": "stream",
          "text": [
            "CUSTOM STATE DICT USED\n"
          ]
        }
      ],
      "source": [
        "import transformers\n",
        "\n",
        "\n",
        "class MyModelWrapperThatSaves(nn.Module):\n",
        "    def __init__(self, model):\n",
        "        super().__init__()\n",
        "        self.model = model\n",
        "\n",
        "    def forward(self, input_ids, attention_mask, *args, **kwargs):\n",
        "        return self.model(input_ids, attention_mask, *args, **kwargs)\n",
        "\n",
        "    def state_dict(self):\n",
        "        print('CUSTOM STATE DICT USED')\n",
        "        adapters = {}\n",
        "        for name, module in self.model.named_modules():\n",
        "          if isinstance(module, LoRALayer):\n",
        "            for key, w in module.adapter.state_dict().items():\n",
        "              adapters[name + '.adapter.' + key] = w\n",
        "        return adapters\n",
        "\n",
        "    def load_state_dict(self, state_dict_adapters_only):\n",
        "        fixed_layers = {}\n",
        "        for el in state_dict_adapters_only:\n",
        "          assert(el in self.model.state_dict())\n",
        "        self.model.load_state_dict(state_dict_adapters_only, strict=False)\n",
        "        return self\n",
        "\n",
        "model_wrapped_for_trainer = MyModelWrapperThatSaves(model)\n",
        "state_dict_adapters_only = model_wrapped_for_trainer.state_dict()\n",
        "model_wrapped_for_trainer.load_state_dict(state_dict_adapters_only)\n",
        "assert not isinstance(model_wrapped_for_trainer, transformers.PreTrainedModel)\n",
        "assert isinstance(model_wrapped_for_trainer.model, transformers.PreTrainedModel)"
      ]
    },
    {
      "cell_type": "markdown",
      "metadata": {
        "id": "QdjWif4CVXR6"
      },
      "source": [
        "### Training"
      ]
    },
    {
      "cell_type": "markdown",
      "metadata": {
        "id": "0oFqJEgEgcQh"
      },
      "source": [
        "QuestDataset"
      ]
    },
    {
      "cell_type": "code",
      "execution_count": null,
      "metadata": {
        "colab": {
          "base_uri": "https://localhost:8080/"
        },
        "id": "-4TZDhNhgkRT",
        "outputId": "42335254-6cb4-45af-c9bc-941dbf53a426"
      },
      "outputs": [
        {
          "name": "stdout",
          "output_type": "stream",
          "text": [
            "['input_ids', 'attention_mask']\n",
            "['input_ids', 'attention_mask']\n"
          ]
        }
      ],
      "source": [
        "%load_ext autoreload\n",
        "%autoreload 2\n",
        "import questdataset\n",
        "import transformers\n",
        "import random\n",
        "import pickle\n",
        "\n",
        "train_dataset = questdataset.PresampledDataset(pickle.load(open('data_train_mxlen1000.pkl', 'rb')), tokenizer)\n",
        "val_dataset = questdataset.PresampledDataset(pickle.load(open('data_val_mxlen1000.pkl', 'rb')), tokenizer)"
      ]
    },
    {
      "cell_type": "code",
      "execution_count": null,
      "metadata": {
        "colab": {
          "base_uri": "https://localhost:8080/"
        },
        "id": "fU58GkvlcRAh",
        "outputId": "2549bf30-ba21-4bb3-b4de-a4e4d4fd05dc"
      },
      "outputs": [
        {
          "data": {
            "text/plain": [
              "3761"
            ]
          },
          "execution_count": 8,
          "metadata": {},
          "output_type": "execute_result"
        }
      ],
      "source": [
        "len(val_dataset)"
      ]
    },
    {
      "cell_type": "code",
      "execution_count": null,
      "metadata": {
        "id": "-pKo4NdX45aB"
      },
      "outputs": [],
      "source": [
        "def compute_metrics(eval_preds):\n",
        "  logits, labels, inputs = eval_preds\n",
        "  top1 = 0\n",
        "  top10 = 0\n",
        "  total = 0\n",
        "  logits = torch.tensor(logits)\n",
        "\n",
        "  DM_id = tokenizer.encode(\"DM\")[0]\n",
        "  P_id = tokenizer.encode(\"Player\")[0]\n",
        "\n",
        "  for si in range(inputs.shape[0]):\n",
        "    c = (inputs[si] != 1).sum()\n",
        "    middle = c // 2 + 1\n",
        "    mx = c - 1\n",
        "    state = 1\n",
        "\n",
        "    for tj in range(0, mx):\n",
        "      if inputs[si, tj] == DM_id:\n",
        "        state = 0\n",
        "      elif inputs[si, tj] == P_id:\n",
        "        state = 1\n",
        "      if tj < middle:\n",
        "        continue\n",
        "      if state != 0:\n",
        "        continue\n",
        "      total += 1\n",
        "      top1 += logits[si, tj].argmax() == inputs[si, tj]\n",
        "      top10 += inputs[si, tj] in logits[si, tj].topk(10).indices #.topk(10)\n",
        "  return {\"acc-top1\": top1 / total, \"acc-top10\": top10 / total}"
      ]
    },
    {
      "cell_type": "code",
      "execution_count": null,
      "metadata": {
        "colab": {
          "background_save": true,
          "base_uri": "https://localhost:8080/",
          "height": 425
        },
        "id": "AQ_HCYruWIHU",
        "outputId": "d6c6d1ed-92ed-49b7-ab70-d1631c37590e"
      },
      "outputs": [
        {
          "name": "stderr",
          "output_type": "stream",
          "text": [
            "Using cuda_amp half precision backend\n",
            "/usr/local/lib/python3.7/dist-packages/transformers/optimization.py:310: FutureWarning: This implementation of AdamW is deprecated and will be removed in a future version. Use the PyTorch implementation torch.optim.AdamW instead, or set `no_deprecation_warning=True` to disable this warning\n",
            "  FutureWarning,\n",
            "***** Running training *****\n",
            "  Num examples = 32804\n",
            "  Num Epochs = 50\n",
            "  Instantaneous batch size per device = 1\n",
            "  Total train batch size (w. parallel, distributed & accumulation) = 16\n",
            "  Gradient Accumulation steps = 16\n",
            "  Total optimization steps = 102500\n",
            "  Number of trainable parameters = 12582912\n",
            "Automatic Weights & Biases logging enabled, to disable set os.environ[\"WANDB_DISABLED\"] = \"true\"\n",
            "ERROR:wandb.jupyter:Failed to detect the name of this notebook, you can set it manually with the WANDB_NOTEBOOK_NAME environment variable to enable code saving.\n",
            "\u001b[34m\u001b[1mwandb\u001b[0m: Currently logged in as: \u001b[33maishutin\u001b[0m. Use \u001b[1m`wandb login --relogin`\u001b[0m to force relogin\n"
          ]
        },
        {
          "data": {
            "text/html": [
              "Tracking run with wandb version 0.13.5"
            ],
            "text/plain": [
              "<IPython.core.display.HTML object>"
            ]
          },
          "metadata": {},
          "output_type": "display_data"
        },
        {
          "data": {
            "text/html": [
              "Run data is saved locally in <code>/content/wandb/run-20221116_160042-2uhmf5d7</code>"
            ],
            "text/plain": [
              "<IPython.core.display.HTML object>"
            ]
          },
          "metadata": {},
          "output_type": "display_data"
        },
        {
          "data": {
            "text/html": [
              "Syncing run <strong><a href=\"https://wandb.ai/aishutin/huggingface/runs/2uhmf5d7\" target=\"_blank\">outputs</a></strong> to <a href=\"https://wandb.ai/aishutin/huggingface\" target=\"_blank\">Weights & Biases</a> (<a href=\"https://wandb.me/run\" target=\"_blank\">docs</a>)<br/>"
            ],
            "text/plain": [
              "<IPython.core.display.HTML object>"
            ]
          },
          "metadata": {},
          "output_type": "display_data"
        },
        {
          "name": "stderr",
          "output_type": "stream",
          "text": [
            "/usr/local/lib/python3.7/dist-packages/bitsandbytes/autograd/_functions.py:231: UserWarning: MatMul8bitLt: inputs will be cast from torch.float32 to float16 during quantization\n",
            "  warnings.warn(f\"MatMul8bitLt: inputs will be cast from {A.dtype} to float16 during quantization\")\n"
          ]
        },
        {
          "data": {
            "text/html": [
              "\n",
              "    <div>\n",
              "      \n",
              "      <progress value='5' max='102500' style='width:300px; height:20px; vertical-align: middle;'></progress>\n",
              "      [     5/102500 13:02 < 7422:59:35, 0.00 it/s, Epoch 0.00/50]\n",
              "    </div>\n",
              "    <table border=\"1\" class=\"dataframe\">\n",
              "  <thead>\n",
              " <tr style=\"text-align: left;\">\n",
              "      <th>Step</th>\n",
              "      <th>Training Loss</th>\n",
              "      <th>Validation Loss</th>\n",
              "    </tr>\n",
              "  </thead>\n",
              "  <tbody>\n",
              "  </tbody>\n",
              "</table><p>"
            ],
            "text/plain": [
              "<IPython.core.display.HTML object>"
            ]
          },
          "metadata": {},
          "output_type": "display_data"
        },
        {
          "ename": "KeyboardInterrupt",
          "evalue": "ignored",
          "output_type": "error",
          "traceback": [
            "\u001b[0;31m---------------------------------------------------------------------------\u001b[0m",
            "\u001b[0;31mKeyboardInterrupt\u001b[0m                         Traceback (most recent call last)",
            "\u001b[0;32m<ipython-input-10-d462075148af>\u001b[0m in \u001b[0;36m<module>\u001b[0;34m\u001b[0m\n\u001b[1;32m     18\u001b[0m )\n\u001b[1;32m     19\u001b[0m \u001b[0mmodel\u001b[0m\u001b[0;34m.\u001b[0m\u001b[0mconfig\u001b[0m\u001b[0;34m.\u001b[0m\u001b[0muse_cache\u001b[0m \u001b[0;34m=\u001b[0m \u001b[0;32mFalse\u001b[0m  \u001b[0;31m# silence the warnings. Please re-enable for inference!\u001b[0m\u001b[0;34m\u001b[0m\u001b[0;34m\u001b[0m\u001b[0m\n\u001b[0;32m---> 20\u001b[0;31m \u001b[0mtrainer\u001b[0m\u001b[0;34m.\u001b[0m\u001b[0mtrain\u001b[0m\u001b[0;34m(\u001b[0m\u001b[0;34m)\u001b[0m\u001b[0;34m\u001b[0m\u001b[0;34m\u001b[0m\u001b[0m\n\u001b[0m\u001b[1;32m     21\u001b[0m \u001b[0mwandb\u001b[0m\u001b[0;34m.\u001b[0m\u001b[0mfinish\u001b[0m\u001b[0;34m(\u001b[0m\u001b[0;34m)\u001b[0m\u001b[0;34m\u001b[0m\u001b[0;34m\u001b[0m\u001b[0m\n",
            "\u001b[0;32m/usr/local/lib/python3.7/dist-packages/transformers/trainer.py\u001b[0m in \u001b[0;36mtrain\u001b[0;34m(self, resume_from_checkpoint, trial, ignore_keys_for_eval, **kwargs)\u001b[0m\n\u001b[1;32m   1503\u001b[0m             \u001b[0mresume_from_checkpoint\u001b[0m\u001b[0;34m=\u001b[0m\u001b[0mresume_from_checkpoint\u001b[0m\u001b[0;34m,\u001b[0m\u001b[0;34m\u001b[0m\u001b[0;34m\u001b[0m\u001b[0m\n\u001b[1;32m   1504\u001b[0m             \u001b[0mtrial\u001b[0m\u001b[0;34m=\u001b[0m\u001b[0mtrial\u001b[0m\u001b[0;34m,\u001b[0m\u001b[0;34m\u001b[0m\u001b[0;34m\u001b[0m\u001b[0m\n\u001b[0;32m-> 1505\u001b[0;31m             \u001b[0mignore_keys_for_eval\u001b[0m\u001b[0;34m=\u001b[0m\u001b[0mignore_keys_for_eval\u001b[0m\u001b[0;34m,\u001b[0m\u001b[0;34m\u001b[0m\u001b[0;34m\u001b[0m\u001b[0m\n\u001b[0m\u001b[1;32m   1506\u001b[0m         )\n\u001b[1;32m   1507\u001b[0m \u001b[0;34m\u001b[0m\u001b[0m\n",
            "\u001b[0;32m/usr/local/lib/python3.7/dist-packages/transformers/trainer.py\u001b[0m in \u001b[0;36m_inner_training_loop\u001b[0;34m(self, batch_size, args, resume_from_checkpoint, trial, ignore_keys_for_eval)\u001b[0m\n\u001b[1;32m   1747\u001b[0m                         \u001b[0mtr_loss_step\u001b[0m \u001b[0;34m=\u001b[0m \u001b[0mself\u001b[0m\u001b[0;34m.\u001b[0m\u001b[0mtraining_step\u001b[0m\u001b[0;34m(\u001b[0m\u001b[0mmodel\u001b[0m\u001b[0;34m,\u001b[0m \u001b[0minputs\u001b[0m\u001b[0;34m)\u001b[0m\u001b[0;34m\u001b[0m\u001b[0;34m\u001b[0m\u001b[0m\n\u001b[1;32m   1748\u001b[0m                 \u001b[0;32melse\u001b[0m\u001b[0;34m:\u001b[0m\u001b[0;34m\u001b[0m\u001b[0;34m\u001b[0m\u001b[0m\n\u001b[0;32m-> 1749\u001b[0;31m                     \u001b[0mtr_loss_step\u001b[0m \u001b[0;34m=\u001b[0m \u001b[0mself\u001b[0m\u001b[0;34m.\u001b[0m\u001b[0mtraining_step\u001b[0m\u001b[0;34m(\u001b[0m\u001b[0mmodel\u001b[0m\u001b[0;34m,\u001b[0m \u001b[0minputs\u001b[0m\u001b[0;34m)\u001b[0m\u001b[0;34m\u001b[0m\u001b[0;34m\u001b[0m\u001b[0m\n\u001b[0m\u001b[1;32m   1750\u001b[0m \u001b[0;34m\u001b[0m\u001b[0m\n\u001b[1;32m   1751\u001b[0m                 if (\n",
            "\u001b[0;32m/usr/local/lib/python3.7/dist-packages/transformers/trainer.py\u001b[0m in \u001b[0;36mtraining_step\u001b[0;34m(self, model, inputs)\u001b[0m\n\u001b[1;32m   2516\u001b[0m \u001b[0;34m\u001b[0m\u001b[0m\n\u001b[1;32m   2517\u001b[0m         \u001b[0;32mif\u001b[0m \u001b[0mself\u001b[0m\u001b[0;34m.\u001b[0m\u001b[0mdo_grad_scaling\u001b[0m\u001b[0;34m:\u001b[0m\u001b[0;34m\u001b[0m\u001b[0;34m\u001b[0m\u001b[0m\n\u001b[0;32m-> 2518\u001b[0;31m             \u001b[0mself\u001b[0m\u001b[0;34m.\u001b[0m\u001b[0mscaler\u001b[0m\u001b[0;34m.\u001b[0m\u001b[0mscale\u001b[0m\u001b[0;34m(\u001b[0m\u001b[0mloss\u001b[0m\u001b[0;34m)\u001b[0m\u001b[0;34m.\u001b[0m\u001b[0mbackward\u001b[0m\u001b[0;34m(\u001b[0m\u001b[0;34m)\u001b[0m\u001b[0;34m\u001b[0m\u001b[0;34m\u001b[0m\u001b[0m\n\u001b[0m\u001b[1;32m   2519\u001b[0m         \u001b[0;32melif\u001b[0m \u001b[0mself\u001b[0m\u001b[0;34m.\u001b[0m\u001b[0muse_apex\u001b[0m\u001b[0;34m:\u001b[0m\u001b[0;34m\u001b[0m\u001b[0;34m\u001b[0m\u001b[0m\n\u001b[1;32m   2520\u001b[0m             \u001b[0;32mwith\u001b[0m \u001b[0mamp\u001b[0m\u001b[0;34m.\u001b[0m\u001b[0mscale_loss\u001b[0m\u001b[0;34m(\u001b[0m\u001b[0mloss\u001b[0m\u001b[0;34m,\u001b[0m \u001b[0mself\u001b[0m\u001b[0;34m.\u001b[0m\u001b[0moptimizer\u001b[0m\u001b[0;34m)\u001b[0m \u001b[0;32mas\u001b[0m \u001b[0mscaled_loss\u001b[0m\u001b[0;34m:\u001b[0m\u001b[0;34m\u001b[0m\u001b[0;34m\u001b[0m\u001b[0m\n",
            "\u001b[0;32m/usr/local/lib/python3.7/dist-packages/torch/_tensor.py\u001b[0m in \u001b[0;36mbackward\u001b[0;34m(self, gradient, retain_graph, create_graph, inputs)\u001b[0m\n\u001b[1;32m    394\u001b[0m                 \u001b[0mcreate_graph\u001b[0m\u001b[0;34m=\u001b[0m\u001b[0mcreate_graph\u001b[0m\u001b[0;34m,\u001b[0m\u001b[0;34m\u001b[0m\u001b[0;34m\u001b[0m\u001b[0m\n\u001b[1;32m    395\u001b[0m                 inputs=inputs)\n\u001b[0;32m--> 396\u001b[0;31m         \u001b[0mtorch\u001b[0m\u001b[0;34m.\u001b[0m\u001b[0mautograd\u001b[0m\u001b[0;34m.\u001b[0m\u001b[0mbackward\u001b[0m\u001b[0;34m(\u001b[0m\u001b[0mself\u001b[0m\u001b[0;34m,\u001b[0m \u001b[0mgradient\u001b[0m\u001b[0;34m,\u001b[0m \u001b[0mretain_graph\u001b[0m\u001b[0;34m,\u001b[0m \u001b[0mcreate_graph\u001b[0m\u001b[0;34m,\u001b[0m \u001b[0minputs\u001b[0m\u001b[0;34m=\u001b[0m\u001b[0minputs\u001b[0m\u001b[0;34m)\u001b[0m\u001b[0;34m\u001b[0m\u001b[0;34m\u001b[0m\u001b[0m\n\u001b[0m\u001b[1;32m    397\u001b[0m \u001b[0;34m\u001b[0m\u001b[0m\n\u001b[1;32m    398\u001b[0m     \u001b[0;32mdef\u001b[0m \u001b[0mregister_hook\u001b[0m\u001b[0;34m(\u001b[0m\u001b[0mself\u001b[0m\u001b[0;34m,\u001b[0m \u001b[0mhook\u001b[0m\u001b[0;34m)\u001b[0m\u001b[0;34m:\u001b[0m\u001b[0;34m\u001b[0m\u001b[0;34m\u001b[0m\u001b[0m\n",
            "\u001b[0;32m/usr/local/lib/python3.7/dist-packages/torch/autograd/__init__.py\u001b[0m in \u001b[0;36mbackward\u001b[0;34m(tensors, grad_tensors, retain_graph, create_graph, grad_variables, inputs)\u001b[0m\n\u001b[1;32m    173\u001b[0m     Variable._execution_engine.run_backward(  # Calls into the C++ engine to run the backward pass\n\u001b[1;32m    174\u001b[0m         \u001b[0mtensors\u001b[0m\u001b[0;34m,\u001b[0m \u001b[0mgrad_tensors_\u001b[0m\u001b[0;34m,\u001b[0m \u001b[0mretain_graph\u001b[0m\u001b[0;34m,\u001b[0m \u001b[0mcreate_graph\u001b[0m\u001b[0;34m,\u001b[0m \u001b[0minputs\u001b[0m\u001b[0;34m,\u001b[0m\u001b[0;34m\u001b[0m\u001b[0;34m\u001b[0m\u001b[0m\n\u001b[0;32m--> 175\u001b[0;31m         allow_unreachable=True, accumulate_grad=True)  # Calls into the C++ engine to run the backward pass\n\u001b[0m\u001b[1;32m    176\u001b[0m \u001b[0;34m\u001b[0m\u001b[0m\n\u001b[1;32m    177\u001b[0m def grad(\n",
            "\u001b[0;31mKeyboardInterrupt\u001b[0m: "
          ]
        }
      ],
      "source": [
        "import transformers\n",
        "\n",
        "STEPS = 1000 # if bs=16 this is 2 times per epoch.\n",
        "\n",
        "trainer = transformers.Trainer(\n",
        "  model=model_wrapped_for_trainer, train_dataset=train_dataset, eval_dataset=val_dataset,\n",
        "  args=transformers.TrainingArguments(\n",
        "    per_device_train_batch_size=1, gradient_accumulation_steps=16,\n",
        "    warmup_steps=250000 / 500, num_train_epochs=50, learning_rate=2e-4, fp16=True, # maybe 10k * 2 / 32k ~ 1 epoch will be enough; 2e-4 (default and the only) lora lr; warmup steps = 500. \n",
        "    logging_steps=STEPS, \n",
        "    output_dir='outputs', report_to=\"wandb\",\n",
        "    save_strategy=\"steps\", save_steps=STEPS,\n",
        "    evaluation_strategy=\"steps\", eval_steps=STEPS,\n",
        "    include_inputs_for_metrics=True\n",
        "  ),\n",
        "  data_collator=transformers.DataCollatorForLanguageModeling(tokenizer, mlm=False), \n",
        "  compute_metrics=compute_metrics,\n",
        ")\n",
        "model.config.use_cache = False  # silence the warnings. Please re-enable for inference!\n",
        "trainer.train()\n",
        "wandb.finish()"
      ]
    },
    {
      "cell_type": "markdown",
      "metadata": {
        "id": "MHYljmTjj5wX"
      },
      "source": [
        "### Optimize for inference (forever!)\n",
        "\n",
        "This converts training-optimized 8bit weights into inference-optimized layout. It should result in significantly faster inference in the same memory foorptint. \n",
        "However, if you do this, you can no longer run training --\n",
        " there is no way to un-convert after the first optimized forward pass!"
      ]
    },
    {
      "cell_type": "code",
      "execution_count": null,
      "metadata": {
        "id": "td8VEVpkZUQi"
      },
      "outputs": [],
      "source": [
        "model.config.use_cache = True\n",
        "\n",
        "for module in model.modules():\n",
        "    if isinstance(module, bnb.nn.Linear8bitLt):\n",
        "        module.state.memory_efficient_backward = False"
      ]
    }
  ],
  "metadata": {
    "accelerator": "GPU",
    "colab": {
      "provenance": []
    },
    "gpuClass": "standard",
    "kernelspec": {
      "display_name": "Python 3",
      "name": "python3"
    },
    "language_info": {
      "name": "python"
    },
    "widgets": {
      "application/vnd.jupyter.widget-state+json": {
        "0166595bb15a44fc9a019dcc4e6c8705": {
          "model_module": "@jupyter-widgets/controls",
          "model_module_version": "1.5.0",
          "model_name": "ProgressStyleModel",
          "state": {
            "_model_module": "@jupyter-widgets/controls",
            "_model_module_version": "1.5.0",
            "_model_name": "ProgressStyleModel",
            "_view_count": null,
            "_view_module": "@jupyter-widgets/base",
            "_view_module_version": "1.2.0",
            "_view_name": "StyleView",
            "bar_color": null,
            "description_width": ""
          }
        },
        "0f5be08576cf4c4d90518cd80c72d06f": {
          "model_module": "@jupyter-widgets/controls",
          "model_module_version": "1.5.0",
          "model_name": "DescriptionStyleModel",
          "state": {
            "_model_module": "@jupyter-widgets/controls",
            "_model_module_version": "1.5.0",
            "_model_name": "DescriptionStyleModel",
            "_view_count": null,
            "_view_module": "@jupyter-widgets/base",
            "_view_module_version": "1.2.0",
            "_view_name": "StyleView",
            "description_width": ""
          }
        },
        "162f1421fb6c42a9bf8f6ec1ecf8c23b": {
          "model_module": "@jupyter-widgets/controls",
          "model_module_version": "1.5.0",
          "model_name": "DescriptionStyleModel",
          "state": {
            "_model_module": "@jupyter-widgets/controls",
            "_model_module_version": "1.5.0",
            "_model_name": "DescriptionStyleModel",
            "_view_count": null,
            "_view_module": "@jupyter-widgets/base",
            "_view_module_version": "1.2.0",
            "_view_name": "StyleView",
            "description_width": ""
          }
        },
        "17ca47c4124a47d783e499fa3396f50a": {
          "model_module": "@jupyter-widgets/controls",
          "model_module_version": "1.5.0",
          "model_name": "HTMLModel",
          "state": {
            "_dom_classes": [],
            "_model_module": "@jupyter-widgets/controls",
            "_model_module_version": "1.5.0",
            "_model_name": "HTMLModel",
            "_view_count": null,
            "_view_module": "@jupyter-widgets/controls",
            "_view_module_version": "1.5.0",
            "_view_name": "HTMLView",
            "description": "",
            "description_tooltip": null,
            "layout": "IPY_MODEL_a67a63070aa14e8e9c1f917c61209ddb",
            "placeholder": "​",
            "style": "IPY_MODEL_162f1421fb6c42a9bf8f6ec1ecf8c23b",
            "value": " 441/441 [00:00&lt;00:00, 11.1kB/s]"
          }
        },
        "24e1441bb02847aebed8b2931654aac1": {
          "model_module": "@jupyter-widgets/controls",
          "model_module_version": "1.5.0",
          "model_name": "HTMLModel",
          "state": {
            "_dom_classes": [],
            "_model_module": "@jupyter-widgets/controls",
            "_model_module_version": "1.5.0",
            "_model_name": "HTMLModel",
            "_view_count": null,
            "_view_module": "@jupyter-widgets/controls",
            "_view_module_version": "1.5.0",
            "_view_name": "HTMLView",
            "description": "",
            "description_tooltip": null,
            "layout": "IPY_MODEL_2b6312ed12a84aac879a72613d706d1e",
            "placeholder": "​",
            "style": "IPY_MODEL_0f5be08576cf4c4d90518cd80c72d06f",
            "value": "Downloading: 100%"
          }
        },
        "299535620de547fda8c1af1fc24fde16": {
          "model_module": "@jupyter-widgets/controls",
          "model_module_version": "1.5.0",
          "model_name": "DescriptionStyleModel",
          "state": {
            "_model_module": "@jupyter-widgets/controls",
            "_model_module_version": "1.5.0",
            "_model_name": "DescriptionStyleModel",
            "_view_count": null,
            "_view_module": "@jupyter-widgets/base",
            "_view_module_version": "1.2.0",
            "_view_name": "StyleView",
            "description_width": ""
          }
        },
        "29da2f6ec1d14836b154f5033945c474": {
          "model_module": "@jupyter-widgets/base",
          "model_module_version": "1.2.0",
          "model_name": "LayoutModel",
          "state": {
            "_model_module": "@jupyter-widgets/base",
            "_model_module_version": "1.2.0",
            "_model_name": "LayoutModel",
            "_view_count": null,
            "_view_module": "@jupyter-widgets/base",
            "_view_module_version": "1.2.0",
            "_view_name": "LayoutView",
            "align_content": null,
            "align_items": null,
            "align_self": null,
            "border": null,
            "bottom": null,
            "display": null,
            "flex": null,
            "flex_flow": null,
            "grid_area": null,
            "grid_auto_columns": null,
            "grid_auto_flow": null,
            "grid_auto_rows": null,
            "grid_column": null,
            "grid_gap": null,
            "grid_row": null,
            "grid_template_areas": null,
            "grid_template_columns": null,
            "grid_template_rows": null,
            "height": null,
            "justify_content": null,
            "justify_items": null,
            "left": null,
            "margin": null,
            "max_height": null,
            "max_width": null,
            "min_height": null,
            "min_width": null,
            "object_fit": null,
            "object_position": null,
            "order": null,
            "overflow": null,
            "overflow_x": null,
            "overflow_y": null,
            "padding": null,
            "right": null,
            "top": null,
            "visibility": null,
            "width": null
          }
        },
        "2b6312ed12a84aac879a72613d706d1e": {
          "model_module": "@jupyter-widgets/base",
          "model_module_version": "1.2.0",
          "model_name": "LayoutModel",
          "state": {
            "_model_module": "@jupyter-widgets/base",
            "_model_module_version": "1.2.0",
            "_model_name": "LayoutModel",
            "_view_count": null,
            "_view_module": "@jupyter-widgets/base",
            "_view_module_version": "1.2.0",
            "_view_name": "LayoutView",
            "align_content": null,
            "align_items": null,
            "align_self": null,
            "border": null,
            "bottom": null,
            "display": null,
            "flex": null,
            "flex_flow": null,
            "grid_area": null,
            "grid_auto_columns": null,
            "grid_auto_flow": null,
            "grid_auto_rows": null,
            "grid_column": null,
            "grid_gap": null,
            "grid_row": null,
            "grid_template_areas": null,
            "grid_template_columns": null,
            "grid_template_rows": null,
            "height": null,
            "justify_content": null,
            "justify_items": null,
            "left": null,
            "margin": null,
            "max_height": null,
            "max_width": null,
            "min_height": null,
            "min_width": null,
            "object_fit": null,
            "object_position": null,
            "order": null,
            "overflow": null,
            "overflow_x": null,
            "overflow_y": null,
            "padding": null,
            "right": null,
            "top": null,
            "visibility": null,
            "width": null
          }
        },
        "32841060a43a4b66a36b769bf9ac213a": {
          "model_module": "@jupyter-widgets/controls",
          "model_module_version": "1.5.0",
          "model_name": "DescriptionStyleModel",
          "state": {
            "_model_module": "@jupyter-widgets/controls",
            "_model_module_version": "1.5.0",
            "_model_name": "DescriptionStyleModel",
            "_view_count": null,
            "_view_module": "@jupyter-widgets/base",
            "_view_module_version": "1.2.0",
            "_view_name": "StyleView",
            "description_width": ""
          }
        },
        "36a0404f12e241dea3e50a853e6f8474": {
          "model_module": "@jupyter-widgets/base",
          "model_module_version": "1.2.0",
          "model_name": "LayoutModel",
          "state": {
            "_model_module": "@jupyter-widgets/base",
            "_model_module_version": "1.2.0",
            "_model_name": "LayoutModel",
            "_view_count": null,
            "_view_module": "@jupyter-widgets/base",
            "_view_module_version": "1.2.0",
            "_view_name": "LayoutView",
            "align_content": null,
            "align_items": null,
            "align_self": null,
            "border": null,
            "bottom": null,
            "display": null,
            "flex": null,
            "flex_flow": null,
            "grid_area": null,
            "grid_auto_columns": null,
            "grid_auto_flow": null,
            "grid_auto_rows": null,
            "grid_column": null,
            "grid_gap": null,
            "grid_row": null,
            "grid_template_areas": null,
            "grid_template_columns": null,
            "grid_template_rows": null,
            "height": null,
            "justify_content": null,
            "justify_items": null,
            "left": null,
            "margin": null,
            "max_height": null,
            "max_width": null,
            "min_height": null,
            "min_width": null,
            "object_fit": null,
            "object_position": null,
            "order": null,
            "overflow": null,
            "overflow_x": null,
            "overflow_y": null,
            "padding": null,
            "right": null,
            "top": null,
            "visibility": null,
            "width": null
          }
        },
        "3be0f61b8aa841929a4752a96fceed96": {
          "model_module": "@jupyter-widgets/controls",
          "model_module_version": "1.5.0",
          "model_name": "ProgressStyleModel",
          "state": {
            "_model_module": "@jupyter-widgets/controls",
            "_model_module_version": "1.5.0",
            "_model_name": "ProgressStyleModel",
            "_view_count": null,
            "_view_module": "@jupyter-widgets/base",
            "_view_module_version": "1.2.0",
            "_view_name": "StyleView",
            "bar_color": null,
            "description_width": ""
          }
        },
        "50ae8b98086b445cbc23d67f9b49fb18": {
          "model_module": "@jupyter-widgets/base",
          "model_module_version": "1.2.0",
          "model_name": "LayoutModel",
          "state": {
            "_model_module": "@jupyter-widgets/base",
            "_model_module_version": "1.2.0",
            "_model_name": "LayoutModel",
            "_view_count": null,
            "_view_module": "@jupyter-widgets/base",
            "_view_module_version": "1.2.0",
            "_view_name": "LayoutView",
            "align_content": null,
            "align_items": null,
            "align_self": null,
            "border": null,
            "bottom": null,
            "display": null,
            "flex": null,
            "flex_flow": null,
            "grid_area": null,
            "grid_auto_columns": null,
            "grid_auto_flow": null,
            "grid_auto_rows": null,
            "grid_column": null,
            "grid_gap": null,
            "grid_row": null,
            "grid_template_areas": null,
            "grid_template_columns": null,
            "grid_template_rows": null,
            "height": null,
            "justify_content": null,
            "justify_items": null,
            "left": null,
            "margin": null,
            "max_height": null,
            "max_width": null,
            "min_height": null,
            "min_width": null,
            "object_fit": null,
            "object_position": null,
            "order": null,
            "overflow": null,
            "overflow_x": null,
            "overflow_y": null,
            "padding": null,
            "right": null,
            "top": null,
            "visibility": null,
            "width": null
          }
        },
        "50e34a4260ee4d36a3a3d754f3849d44": {
          "model_module": "@jupyter-widgets/controls",
          "model_module_version": "1.5.0",
          "model_name": "HBoxModel",
          "state": {
            "_dom_classes": [],
            "_model_module": "@jupyter-widgets/controls",
            "_model_module_version": "1.5.0",
            "_model_name": "HBoxModel",
            "_view_count": null,
            "_view_module": "@jupyter-widgets/controls",
            "_view_module_version": "1.5.0",
            "_view_name": "HBoxView",
            "box_style": "",
            "children": [
              "IPY_MODEL_e6160d8722f34ddead6bdbd76afedb43",
              "IPY_MODEL_fc4be26d2a8747f2aeda4d68ea5a1312",
              "IPY_MODEL_fdbfff76f521422d90d3bcfaa5b4cc4c"
            ],
            "layout": "IPY_MODEL_8d16f37a741e463f81fe00bd5c2e44b9"
          }
        },
        "523ccee996314ac0a41a2d4fff5f6b53": {
          "model_module": "@jupyter-widgets/base",
          "model_module_version": "1.2.0",
          "model_name": "LayoutModel",
          "state": {
            "_model_module": "@jupyter-widgets/base",
            "_model_module_version": "1.2.0",
            "_model_name": "LayoutModel",
            "_view_count": null,
            "_view_module": "@jupyter-widgets/base",
            "_view_module_version": "1.2.0",
            "_view_name": "LayoutView",
            "align_content": null,
            "align_items": null,
            "align_self": null,
            "border": null,
            "bottom": null,
            "display": null,
            "flex": null,
            "flex_flow": null,
            "grid_area": null,
            "grid_auto_columns": null,
            "grid_auto_flow": null,
            "grid_auto_rows": null,
            "grid_column": null,
            "grid_gap": null,
            "grid_row": null,
            "grid_template_areas": null,
            "grid_template_columns": null,
            "grid_template_rows": null,
            "height": null,
            "justify_content": null,
            "justify_items": null,
            "left": null,
            "margin": null,
            "max_height": null,
            "max_width": null,
            "min_height": null,
            "min_width": null,
            "object_fit": null,
            "object_position": null,
            "order": null,
            "overflow": null,
            "overflow_x": null,
            "overflow_y": null,
            "padding": null,
            "right": null,
            "top": null,
            "visibility": null,
            "width": null
          }
        },
        "52c6af29fca64f91aaedc82c7b100839": {
          "model_module": "@jupyter-widgets/controls",
          "model_module_version": "1.5.0",
          "model_name": "FloatProgressModel",
          "state": {
            "_dom_classes": [],
            "_model_module": "@jupyter-widgets/controls",
            "_model_module_version": "1.5.0",
            "_model_name": "FloatProgressModel",
            "_view_count": null,
            "_view_module": "@jupyter-widgets/controls",
            "_view_module_version": "1.5.0",
            "_view_name": "ProgressView",
            "bar_style": "success",
            "description": "",
            "description_tooltip": null,
            "layout": "IPY_MODEL_cf4eb31cecca42f8bb4fb6047023520f",
            "max": 898822,
            "min": 0,
            "orientation": "horizontal",
            "style": "IPY_MODEL_0166595bb15a44fc9a019dcc4e6c8705",
            "value": 898822
          }
        },
        "583ad622295d4a8085dcd264f1cbd3dc": {
          "model_module": "@jupyter-widgets/controls",
          "model_module_version": "1.5.0",
          "model_name": "HTMLModel",
          "state": {
            "_dom_classes": [],
            "_model_module": "@jupyter-widgets/controls",
            "_model_module_version": "1.5.0",
            "_model_name": "HTMLModel",
            "_view_count": null,
            "_view_module": "@jupyter-widgets/controls",
            "_view_module_version": "1.5.0",
            "_view_name": "HTMLView",
            "description": "",
            "description_tooltip": null,
            "layout": "IPY_MODEL_8513d1534a29418fb71b42961f3dccf9",
            "placeholder": "​",
            "style": "IPY_MODEL_7971a6d808fb42cf87f5a62ab7ba7c79",
            "value": "Downloading: 100%"
          }
        },
        "5cf71706daac4dd9b977a568c67baf16": {
          "model_module": "@jupyter-widgets/base",
          "model_module_version": "1.2.0",
          "model_name": "LayoutModel",
          "state": {
            "_model_module": "@jupyter-widgets/base",
            "_model_module_version": "1.2.0",
            "_model_name": "LayoutModel",
            "_view_count": null,
            "_view_module": "@jupyter-widgets/base",
            "_view_module_version": "1.2.0",
            "_view_name": "LayoutView",
            "align_content": null,
            "align_items": null,
            "align_self": null,
            "border": null,
            "bottom": null,
            "display": null,
            "flex": null,
            "flex_flow": null,
            "grid_area": null,
            "grid_auto_columns": null,
            "grid_auto_flow": null,
            "grid_auto_rows": null,
            "grid_column": null,
            "grid_gap": null,
            "grid_row": null,
            "grid_template_areas": null,
            "grid_template_columns": null,
            "grid_template_rows": null,
            "height": null,
            "justify_content": null,
            "justify_items": null,
            "left": null,
            "margin": null,
            "max_height": null,
            "max_width": null,
            "min_height": null,
            "min_width": null,
            "object_fit": null,
            "object_position": null,
            "order": null,
            "overflow": null,
            "overflow_x": null,
            "overflow_y": null,
            "padding": null,
            "right": null,
            "top": null,
            "visibility": null,
            "width": null
          }
        },
        "72880e3ad16d4ad894878b23a1715487": {
          "model_module": "@jupyter-widgets/controls",
          "model_module_version": "1.5.0",
          "model_name": "HTMLModel",
          "state": {
            "_dom_classes": [],
            "_model_module": "@jupyter-widgets/controls",
            "_model_module_version": "1.5.0",
            "_model_name": "HTMLModel",
            "_view_count": null,
            "_view_module": "@jupyter-widgets/controls",
            "_view_module_version": "1.5.0",
            "_view_name": "HTMLView",
            "description": "",
            "description_tooltip": null,
            "layout": "IPY_MODEL_50ae8b98086b445cbc23d67f9b49fb18",
            "placeholder": "​",
            "style": "IPY_MODEL_32841060a43a4b66a36b769bf9ac213a",
            "value": "Downloading: 100%"
          }
        },
        "73225fb7cd5647f1b4d3b5a28aee9408": {
          "model_module": "@jupyter-widgets/base",
          "model_module_version": "1.2.0",
          "model_name": "LayoutModel",
          "state": {
            "_model_module": "@jupyter-widgets/base",
            "_model_module_version": "1.2.0",
            "_model_name": "LayoutModel",
            "_view_count": null,
            "_view_module": "@jupyter-widgets/base",
            "_view_module_version": "1.2.0",
            "_view_name": "LayoutView",
            "align_content": null,
            "align_items": null,
            "align_self": null,
            "border": null,
            "bottom": null,
            "display": null,
            "flex": null,
            "flex_flow": null,
            "grid_area": null,
            "grid_auto_columns": null,
            "grid_auto_flow": null,
            "grid_auto_rows": null,
            "grid_column": null,
            "grid_gap": null,
            "grid_row": null,
            "grid_template_areas": null,
            "grid_template_columns": null,
            "grid_template_rows": null,
            "height": null,
            "justify_content": null,
            "justify_items": null,
            "left": null,
            "margin": null,
            "max_height": null,
            "max_width": null,
            "min_height": null,
            "min_width": null,
            "object_fit": null,
            "object_position": null,
            "order": null,
            "overflow": null,
            "overflow_x": null,
            "overflow_y": null,
            "padding": null,
            "right": null,
            "top": null,
            "visibility": null,
            "width": null
          }
        },
        "7971a6d808fb42cf87f5a62ab7ba7c79": {
          "model_module": "@jupyter-widgets/controls",
          "model_module_version": "1.5.0",
          "model_name": "DescriptionStyleModel",
          "state": {
            "_model_module": "@jupyter-widgets/controls",
            "_model_module_version": "1.5.0",
            "_model_name": "DescriptionStyleModel",
            "_view_count": null,
            "_view_module": "@jupyter-widgets/base",
            "_view_module_version": "1.2.0",
            "_view_name": "StyleView",
            "description_width": ""
          }
        },
        "7a33f796fe944518b21457a76f164f7b": {
          "model_module": "@jupyter-widgets/controls",
          "model_module_version": "1.5.0",
          "model_name": "DescriptionStyleModel",
          "state": {
            "_model_module": "@jupyter-widgets/controls",
            "_model_module_version": "1.5.0",
            "_model_name": "DescriptionStyleModel",
            "_view_count": null,
            "_view_module": "@jupyter-widgets/base",
            "_view_module_version": "1.2.0",
            "_view_name": "StyleView",
            "description_width": ""
          }
        },
        "8513d1534a29418fb71b42961f3dccf9": {
          "model_module": "@jupyter-widgets/base",
          "model_module_version": "1.2.0",
          "model_name": "LayoutModel",
          "state": {
            "_model_module": "@jupyter-widgets/base",
            "_model_module_version": "1.2.0",
            "_model_name": "LayoutModel",
            "_view_count": null,
            "_view_module": "@jupyter-widgets/base",
            "_view_module_version": "1.2.0",
            "_view_name": "LayoutView",
            "align_content": null,
            "align_items": null,
            "align_self": null,
            "border": null,
            "bottom": null,
            "display": null,
            "flex": null,
            "flex_flow": null,
            "grid_area": null,
            "grid_auto_columns": null,
            "grid_auto_flow": null,
            "grid_auto_rows": null,
            "grid_column": null,
            "grid_gap": null,
            "grid_row": null,
            "grid_template_areas": null,
            "grid_template_columns": null,
            "grid_template_rows": null,
            "height": null,
            "justify_content": null,
            "justify_items": null,
            "left": null,
            "margin": null,
            "max_height": null,
            "max_width": null,
            "min_height": null,
            "min_width": null,
            "object_fit": null,
            "object_position": null,
            "order": null,
            "overflow": null,
            "overflow_x": null,
            "overflow_y": null,
            "padding": null,
            "right": null,
            "top": null,
            "visibility": null,
            "width": null
          }
        },
        "8d16f37a741e463f81fe00bd5c2e44b9": {
          "model_module": "@jupyter-widgets/base",
          "model_module_version": "1.2.0",
          "model_name": "LayoutModel",
          "state": {
            "_model_module": "@jupyter-widgets/base",
            "_model_module_version": "1.2.0",
            "_model_name": "LayoutModel",
            "_view_count": null,
            "_view_module": "@jupyter-widgets/base",
            "_view_module_version": "1.2.0",
            "_view_name": "LayoutView",
            "align_content": null,
            "align_items": null,
            "align_self": null,
            "border": null,
            "bottom": null,
            "display": null,
            "flex": null,
            "flex_flow": null,
            "grid_area": null,
            "grid_auto_columns": null,
            "grid_auto_flow": null,
            "grid_auto_rows": null,
            "grid_column": null,
            "grid_gap": null,
            "grid_row": null,
            "grid_template_areas": null,
            "grid_template_columns": null,
            "grid_template_rows": null,
            "height": null,
            "justify_content": null,
            "justify_items": null,
            "left": null,
            "margin": null,
            "max_height": null,
            "max_width": null,
            "min_height": null,
            "min_width": null,
            "object_fit": null,
            "object_position": null,
            "order": null,
            "overflow": null,
            "overflow_x": null,
            "overflow_y": null,
            "padding": null,
            "right": null,
            "top": null,
            "visibility": null,
            "width": null
          }
        },
        "924442dcb9594bb0942b4aac9d32a40b": {
          "model_module": "@jupyter-widgets/controls",
          "model_module_version": "1.5.0",
          "model_name": "HBoxModel",
          "state": {
            "_dom_classes": [],
            "_model_module": "@jupyter-widgets/controls",
            "_model_module_version": "1.5.0",
            "_model_name": "HBoxModel",
            "_view_count": null,
            "_view_module": "@jupyter-widgets/controls",
            "_view_module_version": "1.5.0",
            "_view_name": "HBoxView",
            "box_style": "",
            "children": [
              "IPY_MODEL_24e1441bb02847aebed8b2931654aac1",
              "IPY_MODEL_52c6af29fca64f91aaedc82c7b100839",
              "IPY_MODEL_e590681f8b4b422e8a845d05175ccbd0"
            ],
            "layout": "IPY_MODEL_73225fb7cd5647f1b4d3b5a28aee9408"
          }
        },
        "96ebb52de9fc4ecb85ea4fa0e5aa412c": {
          "model_module": "@jupyter-widgets/controls",
          "model_module_version": "1.5.0",
          "model_name": "ProgressStyleModel",
          "state": {
            "_model_module": "@jupyter-widgets/controls",
            "_model_module_version": "1.5.0",
            "_model_name": "ProgressStyleModel",
            "_view_count": null,
            "_view_module": "@jupyter-widgets/base",
            "_view_module_version": "1.2.0",
            "_view_name": "StyleView",
            "bar_color": null,
            "description_width": ""
          }
        },
        "a67a63070aa14e8e9c1f917c61209ddb": {
          "model_module": "@jupyter-widgets/base",
          "model_module_version": "1.2.0",
          "model_name": "LayoutModel",
          "state": {
            "_model_module": "@jupyter-widgets/base",
            "_model_module_version": "1.2.0",
            "_model_name": "LayoutModel",
            "_view_count": null,
            "_view_module": "@jupyter-widgets/base",
            "_view_module_version": "1.2.0",
            "_view_name": "LayoutView",
            "align_content": null,
            "align_items": null,
            "align_self": null,
            "border": null,
            "bottom": null,
            "display": null,
            "flex": null,
            "flex_flow": null,
            "grid_area": null,
            "grid_auto_columns": null,
            "grid_auto_flow": null,
            "grid_auto_rows": null,
            "grid_column": null,
            "grid_gap": null,
            "grid_row": null,
            "grid_template_areas": null,
            "grid_template_columns": null,
            "grid_template_rows": null,
            "height": null,
            "justify_content": null,
            "justify_items": null,
            "left": null,
            "margin": null,
            "max_height": null,
            "max_width": null,
            "min_height": null,
            "min_width": null,
            "object_fit": null,
            "object_position": null,
            "order": null,
            "overflow": null,
            "overflow_x": null,
            "overflow_y": null,
            "padding": null,
            "right": null,
            "top": null,
            "visibility": null,
            "width": null
          }
        },
        "aabe01735c7b44cb99bf46a65da1290f": {
          "model_module": "@jupyter-widgets/controls",
          "model_module_version": "1.5.0",
          "model_name": "HTMLModel",
          "state": {
            "_dom_classes": [],
            "_model_module": "@jupyter-widgets/controls",
            "_model_module_version": "1.5.0",
            "_model_name": "HTMLModel",
            "_view_count": null,
            "_view_module": "@jupyter-widgets/controls",
            "_view_module_version": "1.5.0",
            "_view_name": "HTMLView",
            "description": "",
            "description_tooltip": null,
            "layout": "IPY_MODEL_36a0404f12e241dea3e50a853e6f8474",
            "placeholder": "​",
            "style": "IPY_MODEL_ba841e0a1c564706b6eeb28527865e8b",
            "value": " 685/685 [00:00&lt;00:00, 16.9kB/s]"
          }
        },
        "aec38f0368644114b3934bcfdcd1fce9": {
          "model_module": "@jupyter-widgets/controls",
          "model_module_version": "1.5.0",
          "model_name": "HBoxModel",
          "state": {
            "_dom_classes": [],
            "_model_module": "@jupyter-widgets/controls",
            "_model_module_version": "1.5.0",
            "_model_name": "HBoxModel",
            "_view_count": null,
            "_view_module": "@jupyter-widgets/controls",
            "_view_module_version": "1.5.0",
            "_view_name": "HBoxView",
            "box_style": "",
            "children": [
              "IPY_MODEL_583ad622295d4a8085dcd264f1cbd3dc",
              "IPY_MODEL_c2fef254c6e14e4aa4f1ea05b867e1d1",
              "IPY_MODEL_aabe01735c7b44cb99bf46a65da1290f"
            ],
            "layout": "IPY_MODEL_523ccee996314ac0a41a2d4fff5f6b53"
          }
        },
        "b26d16e23c624c23900c7b0deed41162": {
          "model_module": "@jupyter-widgets/controls",
          "model_module_version": "1.5.0",
          "model_name": "FloatProgressModel",
          "state": {
            "_dom_classes": [],
            "_model_module": "@jupyter-widgets/controls",
            "_model_module_version": "1.5.0",
            "_model_name": "FloatProgressModel",
            "_view_count": null,
            "_view_module": "@jupyter-widgets/controls",
            "_view_module_version": "1.5.0",
            "_view_name": "ProgressView",
            "bar_style": "success",
            "description": "",
            "description_tooltip": null,
            "layout": "IPY_MODEL_29da2f6ec1d14836b154f5033945c474",
            "max": 441,
            "min": 0,
            "orientation": "horizontal",
            "style": "IPY_MODEL_ece93eb115e44aa08ed1b7f4559ca05d",
            "value": 441
          }
        },
        "ba841e0a1c564706b6eeb28527865e8b": {
          "model_module": "@jupyter-widgets/controls",
          "model_module_version": "1.5.0",
          "model_name": "DescriptionStyleModel",
          "state": {
            "_model_module": "@jupyter-widgets/controls",
            "_model_module_version": "1.5.0",
            "_model_name": "DescriptionStyleModel",
            "_view_count": null,
            "_view_module": "@jupyter-widgets/base",
            "_view_module_version": "1.2.0",
            "_view_name": "StyleView",
            "description_width": ""
          }
        },
        "bb5142537bcd4863aec56d0b591de874": {
          "model_module": "@jupyter-widgets/base",
          "model_module_version": "1.2.0",
          "model_name": "LayoutModel",
          "state": {
            "_model_module": "@jupyter-widgets/base",
            "_model_module_version": "1.2.0",
            "_model_name": "LayoutModel",
            "_view_count": null,
            "_view_module": "@jupyter-widgets/base",
            "_view_module_version": "1.2.0",
            "_view_name": "LayoutView",
            "align_content": null,
            "align_items": null,
            "align_self": null,
            "border": null,
            "bottom": null,
            "display": null,
            "flex": null,
            "flex_flow": null,
            "grid_area": null,
            "grid_auto_columns": null,
            "grid_auto_flow": null,
            "grid_auto_rows": null,
            "grid_column": null,
            "grid_gap": null,
            "grid_row": null,
            "grid_template_areas": null,
            "grid_template_columns": null,
            "grid_template_rows": null,
            "height": null,
            "justify_content": null,
            "justify_items": null,
            "left": null,
            "margin": null,
            "max_height": null,
            "max_width": null,
            "min_height": null,
            "min_width": null,
            "object_fit": null,
            "object_position": null,
            "order": null,
            "overflow": null,
            "overflow_x": null,
            "overflow_y": null,
            "padding": null,
            "right": null,
            "top": null,
            "visibility": null,
            "width": null
          }
        },
        "c2fef254c6e14e4aa4f1ea05b867e1d1": {
          "model_module": "@jupyter-widgets/controls",
          "model_module_version": "1.5.0",
          "model_name": "FloatProgressModel",
          "state": {
            "_dom_classes": [],
            "_model_module": "@jupyter-widgets/controls",
            "_model_module_version": "1.5.0",
            "_model_name": "FloatProgressModel",
            "_view_count": null,
            "_view_module": "@jupyter-widgets/controls",
            "_view_module_version": "1.5.0",
            "_view_name": "ProgressView",
            "bar_style": "success",
            "description": "",
            "description_tooltip": null,
            "layout": "IPY_MODEL_cac0cf3fdd2c48728e52dfd516feacf5",
            "max": 685,
            "min": 0,
            "orientation": "horizontal",
            "style": "IPY_MODEL_3be0f61b8aa841929a4752a96fceed96",
            "value": 685
          }
        },
        "c47092ef366743148affdd1efac7c86a": {
          "model_module": "@jupyter-widgets/base",
          "model_module_version": "1.2.0",
          "model_name": "LayoutModel",
          "state": {
            "_model_module": "@jupyter-widgets/base",
            "_model_module_version": "1.2.0",
            "_model_name": "LayoutModel",
            "_view_count": null,
            "_view_module": "@jupyter-widgets/base",
            "_view_module_version": "1.2.0",
            "_view_name": "LayoutView",
            "align_content": null,
            "align_items": null,
            "align_self": null,
            "border": null,
            "bottom": null,
            "display": null,
            "flex": null,
            "flex_flow": null,
            "grid_area": null,
            "grid_auto_columns": null,
            "grid_auto_flow": null,
            "grid_auto_rows": null,
            "grid_column": null,
            "grid_gap": null,
            "grid_row": null,
            "grid_template_areas": null,
            "grid_template_columns": null,
            "grid_template_rows": null,
            "height": null,
            "justify_content": null,
            "justify_items": null,
            "left": null,
            "margin": null,
            "max_height": null,
            "max_width": null,
            "min_height": null,
            "min_width": null,
            "object_fit": null,
            "object_position": null,
            "order": null,
            "overflow": null,
            "overflow_x": null,
            "overflow_y": null,
            "padding": null,
            "right": null,
            "top": null,
            "visibility": null,
            "width": null
          }
        },
        "c909832d20164122acad2e4068a77a61": {
          "model_module": "@jupyter-widgets/base",
          "model_module_version": "1.2.0",
          "model_name": "LayoutModel",
          "state": {
            "_model_module": "@jupyter-widgets/base",
            "_model_module_version": "1.2.0",
            "_model_name": "LayoutModel",
            "_view_count": null,
            "_view_module": "@jupyter-widgets/base",
            "_view_module_version": "1.2.0",
            "_view_name": "LayoutView",
            "align_content": null,
            "align_items": null,
            "align_self": null,
            "border": null,
            "bottom": null,
            "display": null,
            "flex": null,
            "flex_flow": null,
            "grid_area": null,
            "grid_auto_columns": null,
            "grid_auto_flow": null,
            "grid_auto_rows": null,
            "grid_column": null,
            "grid_gap": null,
            "grid_row": null,
            "grid_template_areas": null,
            "grid_template_columns": null,
            "grid_template_rows": null,
            "height": null,
            "justify_content": null,
            "justify_items": null,
            "left": null,
            "margin": null,
            "max_height": null,
            "max_width": null,
            "min_height": null,
            "min_width": null,
            "object_fit": null,
            "object_position": null,
            "order": null,
            "overflow": null,
            "overflow_x": null,
            "overflow_y": null,
            "padding": null,
            "right": null,
            "top": null,
            "visibility": null,
            "width": null
          }
        },
        "cac0cf3fdd2c48728e52dfd516feacf5": {
          "model_module": "@jupyter-widgets/base",
          "model_module_version": "1.2.0",
          "model_name": "LayoutModel",
          "state": {
            "_model_module": "@jupyter-widgets/base",
            "_model_module_version": "1.2.0",
            "_model_name": "LayoutModel",
            "_view_count": null,
            "_view_module": "@jupyter-widgets/base",
            "_view_module_version": "1.2.0",
            "_view_name": "LayoutView",
            "align_content": null,
            "align_items": null,
            "align_self": null,
            "border": null,
            "bottom": null,
            "display": null,
            "flex": null,
            "flex_flow": null,
            "grid_area": null,
            "grid_auto_columns": null,
            "grid_auto_flow": null,
            "grid_auto_rows": null,
            "grid_column": null,
            "grid_gap": null,
            "grid_row": null,
            "grid_template_areas": null,
            "grid_template_columns": null,
            "grid_template_rows": null,
            "height": null,
            "justify_content": null,
            "justify_items": null,
            "left": null,
            "margin": null,
            "max_height": null,
            "max_width": null,
            "min_height": null,
            "min_width": null,
            "object_fit": null,
            "object_position": null,
            "order": null,
            "overflow": null,
            "overflow_x": null,
            "overflow_y": null,
            "padding": null,
            "right": null,
            "top": null,
            "visibility": null,
            "width": null
          }
        },
        "cf4eb31cecca42f8bb4fb6047023520f": {
          "model_module": "@jupyter-widgets/base",
          "model_module_version": "1.2.0",
          "model_name": "LayoutModel",
          "state": {
            "_model_module": "@jupyter-widgets/base",
            "_model_module_version": "1.2.0",
            "_model_name": "LayoutModel",
            "_view_count": null,
            "_view_module": "@jupyter-widgets/base",
            "_view_module_version": "1.2.0",
            "_view_name": "LayoutView",
            "align_content": null,
            "align_items": null,
            "align_self": null,
            "border": null,
            "bottom": null,
            "display": null,
            "flex": null,
            "flex_flow": null,
            "grid_area": null,
            "grid_auto_columns": null,
            "grid_auto_flow": null,
            "grid_auto_rows": null,
            "grid_column": null,
            "grid_gap": null,
            "grid_row": null,
            "grid_template_areas": null,
            "grid_template_columns": null,
            "grid_template_rows": null,
            "height": null,
            "justify_content": null,
            "justify_items": null,
            "left": null,
            "margin": null,
            "max_height": null,
            "max_width": null,
            "min_height": null,
            "min_width": null,
            "object_fit": null,
            "object_position": null,
            "order": null,
            "overflow": null,
            "overflow_x": null,
            "overflow_y": null,
            "padding": null,
            "right": null,
            "top": null,
            "visibility": null,
            "width": null
          }
        },
        "db42c5c91c8b40b5874e92853fb31bf6": {
          "model_module": "@jupyter-widgets/base",
          "model_module_version": "1.2.0",
          "model_name": "LayoutModel",
          "state": {
            "_model_module": "@jupyter-widgets/base",
            "_model_module_version": "1.2.0",
            "_model_name": "LayoutModel",
            "_view_count": null,
            "_view_module": "@jupyter-widgets/base",
            "_view_module_version": "1.2.0",
            "_view_name": "LayoutView",
            "align_content": null,
            "align_items": null,
            "align_self": null,
            "border": null,
            "bottom": null,
            "display": null,
            "flex": null,
            "flex_flow": null,
            "grid_area": null,
            "grid_auto_columns": null,
            "grid_auto_flow": null,
            "grid_auto_rows": null,
            "grid_column": null,
            "grid_gap": null,
            "grid_row": null,
            "grid_template_areas": null,
            "grid_template_columns": null,
            "grid_template_rows": null,
            "height": null,
            "justify_content": null,
            "justify_items": null,
            "left": null,
            "margin": null,
            "max_height": null,
            "max_width": null,
            "min_height": null,
            "min_width": null,
            "object_fit": null,
            "object_position": null,
            "order": null,
            "overflow": null,
            "overflow_x": null,
            "overflow_y": null,
            "padding": null,
            "right": null,
            "top": null,
            "visibility": null,
            "width": null
          }
        },
        "e20b9eddb7d94a24ac3338f920d7aa93": {
          "model_module": "@jupyter-widgets/controls",
          "model_module_version": "1.5.0",
          "model_name": "HBoxModel",
          "state": {
            "_dom_classes": [],
            "_model_module": "@jupyter-widgets/controls",
            "_model_module_version": "1.5.0",
            "_model_name": "HBoxModel",
            "_view_count": null,
            "_view_module": "@jupyter-widgets/controls",
            "_view_module_version": "1.5.0",
            "_view_name": "HBoxView",
            "box_style": "",
            "children": [
              "IPY_MODEL_72880e3ad16d4ad894878b23a1715487",
              "IPY_MODEL_b26d16e23c624c23900c7b0deed41162",
              "IPY_MODEL_17ca47c4124a47d783e499fa3396f50a"
            ],
            "layout": "IPY_MODEL_bb5142537bcd4863aec56d0b591de874"
          }
        },
        "e590681f8b4b422e8a845d05175ccbd0": {
          "model_module": "@jupyter-widgets/controls",
          "model_module_version": "1.5.0",
          "model_name": "HTMLModel",
          "state": {
            "_dom_classes": [],
            "_model_module": "@jupyter-widgets/controls",
            "_model_module_version": "1.5.0",
            "_model_name": "HTMLModel",
            "_view_count": null,
            "_view_module": "@jupyter-widgets/controls",
            "_view_module_version": "1.5.0",
            "_view_name": "HTMLView",
            "description": "",
            "description_tooltip": null,
            "layout": "IPY_MODEL_c47092ef366743148affdd1efac7c86a",
            "placeholder": "​",
            "style": "IPY_MODEL_f2cf21e062224266a374b1c5156da830",
            "value": " 899k/899k [00:00&lt;00:00, 668kB/s]"
          }
        },
        "e6160d8722f34ddead6bdbd76afedb43": {
          "model_module": "@jupyter-widgets/controls",
          "model_module_version": "1.5.0",
          "model_name": "HTMLModel",
          "state": {
            "_dom_classes": [],
            "_model_module": "@jupyter-widgets/controls",
            "_model_module_version": "1.5.0",
            "_model_name": "HTMLModel",
            "_view_count": null,
            "_view_module": "@jupyter-widgets/controls",
            "_view_module_version": "1.5.0",
            "_view_name": "HTMLView",
            "description": "",
            "description_tooltip": null,
            "layout": "IPY_MODEL_5cf71706daac4dd9b977a568c67baf16",
            "placeholder": "​",
            "style": "IPY_MODEL_7a33f796fe944518b21457a76f164f7b",
            "value": "Downloading: 100%"
          }
        },
        "ece93eb115e44aa08ed1b7f4559ca05d": {
          "model_module": "@jupyter-widgets/controls",
          "model_module_version": "1.5.0",
          "model_name": "ProgressStyleModel",
          "state": {
            "_model_module": "@jupyter-widgets/controls",
            "_model_module_version": "1.5.0",
            "_model_name": "ProgressStyleModel",
            "_view_count": null,
            "_view_module": "@jupyter-widgets/base",
            "_view_module_version": "1.2.0",
            "_view_name": "StyleView",
            "bar_color": null,
            "description_width": ""
          }
        },
        "f2cf21e062224266a374b1c5156da830": {
          "model_module": "@jupyter-widgets/controls",
          "model_module_version": "1.5.0",
          "model_name": "DescriptionStyleModel",
          "state": {
            "_model_module": "@jupyter-widgets/controls",
            "_model_module_version": "1.5.0",
            "_model_name": "DescriptionStyleModel",
            "_view_count": null,
            "_view_module": "@jupyter-widgets/base",
            "_view_module_version": "1.2.0",
            "_view_name": "StyleView",
            "description_width": ""
          }
        },
        "fc4be26d2a8747f2aeda4d68ea5a1312": {
          "model_module": "@jupyter-widgets/controls",
          "model_module_version": "1.5.0",
          "model_name": "FloatProgressModel",
          "state": {
            "_dom_classes": [],
            "_model_module": "@jupyter-widgets/controls",
            "_model_module_version": "1.5.0",
            "_model_name": "FloatProgressModel",
            "_view_count": null,
            "_view_module": "@jupyter-widgets/controls",
            "_view_module_version": "1.5.0",
            "_view_name": "ProgressView",
            "bar_style": "success",
            "description": "",
            "description_tooltip": null,
            "layout": "IPY_MODEL_db42c5c91c8b40b5874e92853fb31bf6",
            "max": 456318,
            "min": 0,
            "orientation": "horizontal",
            "style": "IPY_MODEL_96ebb52de9fc4ecb85ea4fa0e5aa412c",
            "value": 456318
          }
        },
        "fdbfff76f521422d90d3bcfaa5b4cc4c": {
          "model_module": "@jupyter-widgets/controls",
          "model_module_version": "1.5.0",
          "model_name": "HTMLModel",
          "state": {
            "_dom_classes": [],
            "_model_module": "@jupyter-widgets/controls",
            "_model_module_version": "1.5.0",
            "_model_name": "HTMLModel",
            "_view_count": null,
            "_view_module": "@jupyter-widgets/controls",
            "_view_module_version": "1.5.0",
            "_view_name": "HTMLView",
            "description": "",
            "description_tooltip": null,
            "layout": "IPY_MODEL_c909832d20164122acad2e4068a77a61",
            "placeholder": "​",
            "style": "IPY_MODEL_299535620de547fda8c1af1fc24fde16",
            "value": " 456k/456k [00:00&lt;00:00, 878kB/s]"
          }
        }
      }
    }
  },
  "nbformat": 4,
  "nbformat_minor": 0
}
