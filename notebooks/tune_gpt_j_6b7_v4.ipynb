{
  "cells": [
    {
      "cell_type": "code",
      "execution_count": null,
      "metadata": {
        "id": "Aep1KMF6dqdm",
        "outputId": "9868f3b3-ed65-4578-df63-d65991fe190e",
        "colab": {
          "base_uri": "https://localhost:8080/",
          "height": 35
        }
      },
      "outputs": [
        {
          "output_type": "execute_result",
          "data": {
            "text/plain": [
              "'1.12.1+cu113'"
            ],
            "application/vnd.google.colaboratory.intrinsic+json": {
              "type": "string"
            }
          },
          "metadata": {},
          "execution_count": 1
        }
      ],
      "source": [
        "import torch\n",
        "torch.__version__"
      ]
    },
    {
      "cell_type": "code",
      "source": [
        "%pip install --quiet bitsandbytes transformers datasets accelerate wandb\n",
      ],
      "metadata": {
        "id": "DW08LCzb_O7",
        "outputId": "234df507-08ab-46d6-hate-65d2c2f10298"
      },
      "execution_count": null,
    },
    {
      "cell_type": "code",
      "source": [
        "import transformers\n",
        "transformers.__version__"
      ],
      "metadata": {
        "colab": {
          "base_uri": "https://localhost:8080/",
          "height": 35
        },
        "id": "DW07LRCzb_O7",
        "outputId": "234df507-08ab-46d6-a670-65d2c2f10298"
      },
      "execution_count": null,
      "outputs": [
        {
          "output_type": "execute_result",
          "data": {
            "text/plain": [
              "'4.24.0'"
            ],
            "application/vnd.google.colaboratory.intrinsic+json": {
              "type": "string"
            }
          },
          "metadata": {},
          "execution_count": 2
        }
      ]
    },
    {
      "cell_type": "code",
      "source": [
        "!wget https://raw.githubusercontent.com/AIshutin/opendungeon/master/questdataset.py\n",
        "!wget https://huggingface.co/datasets/OpenDungeon/chooseyourstory/resolve/main/data_train_mxlen1000.pkl\n",
        "!wget https://huggingface.co/datasets/OpenDungeon/chooseyourstory/resolve/main/data_test_mxlen1000.pkl\n",
        "!wget https://huggingface.co/datasets/OpenDungeon/chooseyourstory/resolve/main/data_val_mxlen1000.pkl"
      ],
      "metadata": {
        "colab": {
          "base_uri": "https://localhost:8080/"
        },
        "id": "inG6B55S5Bd2",
        "outputId": "df7743ca-4d33-4118-d5ad-04e79a6461fa"
      },
      "execution_count": null,
      "outputs": [
        {
          "output_type": "stream",
          "name": "stdout",
          "text": [
            "--2022-11-15 15:32:37--  https://raw.githubusercontent.com/AIshutin/opendungeon/master/questdataset.py\n",
            "Resolving raw.githubusercontent.com (raw.githubusercontent.com)... 185.199.108.133, 185.199.109.133, 185.199.110.133, ...\n",
            "Connecting to raw.githubusercontent.com (raw.githubusercontent.com)|185.199.108.133|:443... connected.\n",
            "HTTP request sent, awaiting response... 200 OK\n",
            "Length: 5751 (5.6K) [text/plain]\n",
            "Saving to: ‘questdataset.py’\n",
            "\n",
            "questdataset.py     100%[===================>]   5.62K  --.-KB/s    in 0s      \n",
            "\n",
            "2022-11-15 15:32:38 (61.8 MB/s) - ‘questdataset.py’ saved [5751/5751]\n",
            "\n",
            "--2022-11-15 15:32:38--  https://huggingface.co/datasets/OpenDungeon/chooseyourstory/resolve/main/data_train_mxlen1000.pkl\n",
            "Resolving huggingface.co (huggingface.co)... 3.225.241.80, 34.206.231.20, 2600:1f18:147f:e800:2c69:f606:843a:b5c2, ...\n",
            "Connecting to huggingface.co (huggingface.co)|3.225.241.80|:443... connected.\n",
            "HTTP request sent, awaiting response... 302 Found\n",
            "Location: https://cdn-lfs.huggingface.co/repos/06/9c/069c33a1513b330ab6a042027003abad449fc0f7bfabedc18b0d136e5d8fb75a/1f53273e179d7fdb1c600353880a8f0aed286eee0ec2278102abb3a2bd00cb1b?response-content-disposition=attachment%3B%20filename%3D%22data_train_mxlen1000.pkl%22&Expires=1668785559&Policy=eyJTdGF0ZW1lbnQiOlt7IlJlc291cmNlIjoiaHR0cHM6Ly9jZG4tbGZzLmh1Z2dpbmdmYWNlLmNvL3JlcG9zLzA2LzljLzA2OWMzM2ExNTEzYjMzMGFiNmEwNDIwMjcwMDNhYmFkNDQ5ZmMwZjdiZmFiZWRjMThiMGQxMzZlNWQ4ZmI3NWEvMWY1MzI3M2UxNzlkN2ZkYjFjNjAwMzUzODgwYThmMGFlZDI4NmVlZTBlYzIyNzgxMDJhYmIzYTJiZDAwY2IxYj9yZXNwb25zZS1jb250ZW50LWRpc3Bvc2l0aW9uPWF0dGFjaG1lbnQlM0IlMjBmaWxlbmFtZSUzRCUyMmRhdGFfdHJhaW5fbXhsZW4xMDAwLnBrbCUyMiIsIkNvbmRpdGlvbiI6eyJEYXRlTGVzc1RoYW4iOnsiQVdTOkVwb2NoVGltZSI6MTY2ODc4NTU1OX19fV19&Signature=p5bfrpR~p8PsSNeYVTE3K4iBTie9vV-FsmdeeK-KmTRLX0gnJADTetOUwzhmpb-pXRd9UXM9j3anLnABni5xhrpY3EsGcF0SqSf5k7KE0-KNMKT6g7vlpJsVlr5QjMa2uTlRzNhr5PcAuGyMYl0JnJlGQWOUEzEi0L-PzRqPHyY92z1gvb14I6TxmD8bI8kf3GD85UV9axhO17wmkJmbGxDuGlVzRgQUTeBYIYbOYjR6M-MZJ~~JTe~2okD3OcJAksf6aHOv6DSzL08l5n7jOcDIZ-r0X9dXicj5xqunSP9pVejskSWVTR-uThfjt8CVhsfASRbKRsczKj02i83bSA__&Key-Pair-Id=KVTP0A1DKRTAX [following]\n",
            "--2022-11-15 15:32:39--  https://cdn-lfs.huggingface.co/repos/06/9c/069c33a1513b330ab6a042027003abad449fc0f7bfabedc18b0d136e5d8fb75a/1f53273e179d7fdb1c600353880a8f0aed286eee0ec2278102abb3a2bd00cb1b?response-content-disposition=attachment%3B%20filename%3D%22data_train_mxlen1000.pkl%22&Expires=1668785559&Policy=eyJTdGF0ZW1lbnQiOlt7IlJlc291cmNlIjoiaHR0cHM6Ly9jZG4tbGZzLmh1Z2dpbmdmYWNlLmNvL3JlcG9zLzA2LzljLzA2OWMzM2ExNTEzYjMzMGFiNmEwNDIwMjcwMDNhYmFkNDQ5ZmMwZjdiZmFiZWRjMThiMGQxMzZlNWQ4ZmI3NWEvMWY1MzI3M2UxNzlkN2ZkYjFjNjAwMzUzODgwYThmMGFlZDI4NmVlZTBlYzIyNzgxMDJhYmIzYTJiZDAwY2IxYj9yZXNwb25zZS1jb250ZW50LWRpc3Bvc2l0aW9uPWF0dGFjaG1lbnQlM0IlMjBmaWxlbmFtZSUzRCUyMmRhdGFfdHJhaW5fbXhsZW4xMDAwLnBrbCUyMiIsIkNvbmRpdGlvbiI6eyJEYXRlTGVzc1RoYW4iOnsiQVdTOkVwb2NoVGltZSI6MTY2ODc4NTU1OX19fV19&Signature=p5bfrpR~p8PsSNeYVTE3K4iBTie9vV-FsmdeeK-KmTRLX0gnJADTetOUwzhmpb-pXRd9UXM9j3anLnABni5xhrpY3EsGcF0SqSf5k7KE0-KNMKT6g7vlpJsVlr5QjMa2uTlRzNhr5PcAuGyMYl0JnJlGQWOUEzEi0L-PzRqPHyY92z1gvb14I6TxmD8bI8kf3GD85UV9axhO17wmkJmbGxDuGlVzRgQUTeBYIYbOYjR6M-MZJ~~JTe~2okD3OcJAksf6aHOv6DSzL08l5n7jOcDIZ-r0X9dXicj5xqunSP9pVejskSWVTR-uThfjt8CVhsfASRbKRsczKj02i83bSA__&Key-Pair-Id=KVTP0A1DKRTAX\n",
            "Resolving cdn-lfs.huggingface.co (cdn-lfs.huggingface.co)... 13.227.254.52, 13.227.254.33, 13.227.254.47, ...\n",
            "Connecting to cdn-lfs.huggingface.co (cdn-lfs.huggingface.co)|13.227.254.52|:443... connected.\n",
            "HTTP request sent, awaiting response... 200 OK\n",
            "Length: 117438353 (112M) [binary/octet-stream]\n",
            "Saving to: ‘data_train_mxlen1000.pkl.1’\n",
            "\n",
            "data_train_mxlen100 100%[===================>] 112.00M   122MB/s    in 0.9s    \n",
            "\n",
            "2022-11-15 15:32:40 (122 MB/s) - ‘data_train_mxlen1000.pkl.1’ saved [117438353/117438353]\n",
            "\n",
            "--2022-11-15 15:32:40--  https://huggingface.co/datasets/OpenDungeon/chooseyourstory/resolve/main/data_test_mxlen1000.pkl\n",
            "Resolving huggingface.co (huggingface.co)... 3.225.241.80, 34.206.231.20, 2600:1f18:147f:e800:2c69:f606:843a:b5c2, ...\n",
            "Connecting to huggingface.co (huggingface.co)|3.225.241.80|:443... connected.\n",
            "HTTP request sent, awaiting response... 302 Found\n",
            "Location: https://cdn-lfs.huggingface.co/repos/06/9c/069c33a1513b330ab6a042027003abad449fc0f7bfabedc18b0d136e5d8fb75a/b4a9cd7ffedc4bd9557343e8e8c3ff250e7897969909cd5d4b34512ccef8fd4b?response-content-disposition=attachment%3B%20filename%3D%22data_test_mxlen1000.pkl%22&Expires=1668785561&Policy=eyJTdGF0ZW1lbnQiOlt7IlJlc291cmNlIjoiaHR0cHM6Ly9jZG4tbGZzLmh1Z2dpbmdmYWNlLmNvL3JlcG9zLzA2LzljLzA2OWMzM2ExNTEzYjMzMGFiNmEwNDIwMjcwMDNhYmFkNDQ5ZmMwZjdiZmFiZWRjMThiMGQxMzZlNWQ4ZmI3NWEvYjRhOWNkN2ZmZWRjNGJkOTU1NzM0M2U4ZThjM2ZmMjUwZTc4OTc5Njk5MDljZDVkNGIzNDUxMmNjZWY4ZmQ0Yj9yZXNwb25zZS1jb250ZW50LWRpc3Bvc2l0aW9uPWF0dGFjaG1lbnQlM0IlMjBmaWxlbmFtZSUzRCUyMmRhdGFfdGVzdF9teGxlbjEwMDAucGtsJTIyIiwiQ29uZGl0aW9uIjp7IkRhdGVMZXNzVGhhbiI6eyJBV1M6RXBvY2hUaW1lIjoxNjY4Nzg1NTYxfX19XX0_&Signature=O1ulJLkW4wNA4zdf~J52rn3YdrlSOFq06h2oEzfZSFgHuPYKBA9Ywtc-m6a99EwMwnyi1-QknXQvdBBhDdpmDFbvqA2776E06ImoIKpijgBp1MlLZ2gonaXnY1w3M-2RUZCf2zs96xs~vorgN1n8j7SFyyn9sHQ-O2UDeGRgwRtOZB-cP85kphrvUxTIB5GjQcX8Sh3iYaUudJMUOxhPc5eJo0A-T87KBhlUMQB5VRdUmHePHNsRBrsUzPtT-zFCx3xw7MTRVnzgBBNPlhzsTr6ZMVtfS01JAWrznnoVNWvBj6zjUBvZ~-av5NIIGLwZqCBEYRxEfZrKwmxJFE6wng__&Key-Pair-Id=KVTP0A1DKRTAX [following]\n",
            "--2022-11-15 15:32:41--  https://cdn-lfs.huggingface.co/repos/06/9c/069c33a1513b330ab6a042027003abad449fc0f7bfabedc18b0d136e5d8fb75a/b4a9cd7ffedc4bd9557343e8e8c3ff250e7897969909cd5d4b34512ccef8fd4b?response-content-disposition=attachment%3B%20filename%3D%22data_test_mxlen1000.pkl%22&Expires=1668785561&Policy=eyJTdGF0ZW1lbnQiOlt7IlJlc291cmNlIjoiaHR0cHM6Ly9jZG4tbGZzLmh1Z2dpbmdmYWNlLmNvL3JlcG9zLzA2LzljLzA2OWMzM2ExNTEzYjMzMGFiNmEwNDIwMjcwMDNhYmFkNDQ5ZmMwZjdiZmFiZWRjMThiMGQxMzZlNWQ4ZmI3NWEvYjRhOWNkN2ZmZWRjNGJkOTU1NzM0M2U4ZThjM2ZmMjUwZTc4OTc5Njk5MDljZDVkNGIzNDUxMmNjZWY4ZmQ0Yj9yZXNwb25zZS1jb250ZW50LWRpc3Bvc2l0aW9uPWF0dGFjaG1lbnQlM0IlMjBmaWxlbmFtZSUzRCUyMmRhdGFfdGVzdF9teGxlbjEwMDAucGtsJTIyIiwiQ29uZGl0aW9uIjp7IkRhdGVMZXNzVGhhbiI6eyJBV1M6RXBvY2hUaW1lIjoxNjY4Nzg1NTYxfX19XX0_&Signature=O1ulJLkW4wNA4zdf~J52rn3YdrlSOFq06h2oEzfZSFgHuPYKBA9Ywtc-m6a99EwMwnyi1-QknXQvdBBhDdpmDFbvqA2776E06ImoIKpijgBp1MlLZ2gonaXnY1w3M-2RUZCf2zs96xs~vorgN1n8j7SFyyn9sHQ-O2UDeGRgwRtOZB-cP85kphrvUxTIB5GjQcX8Sh3iYaUudJMUOxhPc5eJo0A-T87KBhlUMQB5VRdUmHePHNsRBrsUzPtT-zFCx3xw7MTRVnzgBBNPlhzsTr6ZMVtfS01JAWrznnoVNWvBj6zjUBvZ~-av5NIIGLwZqCBEYRxEfZrKwmxJFE6wng__&Key-Pair-Id=KVTP0A1DKRTAX\n",
            "Resolving cdn-lfs.huggingface.co (cdn-lfs.huggingface.co)... 13.227.254.52, 13.227.254.33, 13.227.254.47, ...\n",
            "Connecting to cdn-lfs.huggingface.co (cdn-lfs.huggingface.co)|13.227.254.52|:443... connected.\n",
            "HTTP request sent, awaiting response... 200 OK\n",
            "Length: 18913444 (18M) [binary/octet-stream]\n",
            "Saving to: ‘data_test_mxlen1000.pkl.1’\n",
            "\n",
            "data_test_mxlen1000 100%[===================>]  18.04M  57.1MB/s    in 0.3s    \n",
            "\n",
            "2022-11-15 15:32:41 (57.1 MB/s) - ‘data_test_mxlen1000.pkl.1’ saved [18913444/18913444]\n",
            "\n",
            "--2022-11-15 15:32:42--  https://huggingface.co/datasets/OpenDungeon/chooseyourstory/resolve/main/data_val_mxlen1000.pkl\n",
            "Resolving huggingface.co (huggingface.co)... 3.225.241.80, 34.206.231.20, 2600:1f18:147f:e800:2c69:f606:843a:b5c2, ...\n",
            "Connecting to huggingface.co (huggingface.co)|3.225.241.80|:443... connected.\n",
            "HTTP request sent, awaiting response... 302 Found\n",
            "Location: https://cdn-lfs.huggingface.co/repos/06/9c/069c33a1513b330ab6a042027003abad449fc0f7bfabedc18b0d136e5d8fb75a/40a4ff0da05d6661f3a60bb870184538ac39710ae052a685ad32d984d9346b42?response-content-disposition=attachment%3B%20filename%3D%22data_val_mxlen1000.pkl%22&Expires=1668785563&Policy=eyJTdGF0ZW1lbnQiOlt7IlJlc291cmNlIjoiaHR0cHM6Ly9jZG4tbGZzLmh1Z2dpbmdmYWNlLmNvL3JlcG9zLzA2LzljLzA2OWMzM2ExNTEzYjMzMGFiNmEwNDIwMjcwMDNhYmFkNDQ5ZmMwZjdiZmFiZWRjMThiMGQxMzZlNWQ4ZmI3NWEvNDBhNGZmMGRhMDVkNjY2MWYzYTYwYmI4NzAxODQ1MzhhYzM5NzEwYWUwNTJhNjg1YWQzMmQ5ODRkOTM0NmI0Mj9yZXNwb25zZS1jb250ZW50LWRpc3Bvc2l0aW9uPWF0dGFjaG1lbnQlM0IlMjBmaWxlbmFtZSUzRCUyMmRhdGFfdmFsX214bGVuMTAwMC5wa2wlMjIiLCJDb25kaXRpb24iOnsiRGF0ZUxlc3NUaGFuIjp7IkFXUzpFcG9jaFRpbWUiOjE2Njg3ODU1NjN9fX1dfQ__&Signature=hL2L8FdZDPPKDRBfDXqlsfH6F6p6tMBKBbnWCP-pVFkIwtSirxittLgB08eDLAOJXTnSU2m6CPf7A5eeAzvD2LesGBUj0~LuYkzwSWDr9~h8s5b0niy79jFLCuiJezQa1jbbAq98oFrUC3IqlQ5A-2YSJ4vLfSlyKSrm-XlZhZli11j3rCXvXFq3ZrR4oSKRlaNFvZokvGjQeBe3ACmLiMgP3925HWsLohyHLo-Uju85N8HJNuiNxFKi6o04ixEWXu2qfdhkULaNc4Kw9Y-WkhrxSvBt5BioHlxt-4T0QgpLVDT9L1RUB3Huj0hcM~iSeqOIFGEPqBJk613o2jpYHg__&Key-Pair-Id=KVTP0A1DKRTAX [following]\n",
            "--2022-11-15 15:32:42--  https://cdn-lfs.huggingface.co/repos/06/9c/069c33a1513b330ab6a042027003abad449fc0f7bfabedc18b0d136e5d8fb75a/40a4ff0da05d6661f3a60bb870184538ac39710ae052a685ad32d984d9346b42?response-content-disposition=attachment%3B%20filename%3D%22data_val_mxlen1000.pkl%22&Expires=1668785563&Policy=eyJTdGF0ZW1lbnQiOlt7IlJlc291cmNlIjoiaHR0cHM6Ly9jZG4tbGZzLmh1Z2dpbmdmYWNlLmNvL3JlcG9zLzA2LzljLzA2OWMzM2ExNTEzYjMzMGFiNmEwNDIwMjcwMDNhYmFkNDQ5ZmMwZjdiZmFiZWRjMThiMGQxMzZlNWQ4ZmI3NWEvNDBhNGZmMGRhMDVkNjY2MWYzYTYwYmI4NzAxODQ1MzhhYzM5NzEwYWUwNTJhNjg1YWQzMmQ5ODRkOTM0NmI0Mj9yZXNwb25zZS1jb250ZW50LWRpc3Bvc2l0aW9uPWF0dGFjaG1lbnQlM0IlMjBmaWxlbmFtZSUzRCUyMmRhdGFfdmFsX214bGVuMTAwMC5wa2wlMjIiLCJDb25kaXRpb24iOnsiRGF0ZUxlc3NUaGFuIjp7IkFXUzpFcG9jaFRpbWUiOjE2Njg3ODU1NjN9fX1dfQ__&Signature=hL2L8FdZDPPKDRBfDXqlsfH6F6p6tMBKBbnWCP-pVFkIwtSirxittLgB08eDLAOJXTnSU2m6CPf7A5eeAzvD2LesGBUj0~LuYkzwSWDr9~h8s5b0niy79jFLCuiJezQa1jbbAq98oFrUC3IqlQ5A-2YSJ4vLfSlyKSrm-XlZhZli11j3rCXvXFq3ZrR4oSKRlaNFvZokvGjQeBe3ACmLiMgP3925HWsLohyHLo-Uju85N8HJNuiNxFKi6o04ixEWXu2qfdhkULaNc4Kw9Y-WkhrxSvBt5BioHlxt-4T0QgpLVDT9L1RUB3Huj0hcM~iSeqOIFGEPqBJk613o2jpYHg__&Key-Pair-Id=KVTP0A1DKRTAX\n",
            "Resolving cdn-lfs.huggingface.co (cdn-lfs.huggingface.co)... 13.227.254.52, 13.227.254.33, 13.227.254.47, ...\n",
            "Connecting to cdn-lfs.huggingface.co (cdn-lfs.huggingface.co)|13.227.254.52|:443... connected.\n",
            "HTTP request sent, awaiting response... 200 OK\n",
            "Length: 12038436 (11M) [binary/octet-stream]\n",
            "Saving to: ‘data_val_mxlen1000.pkl’\n",
            "\n",
            "data_val_mxlen1000. 100%[===================>]  11.48M  6.04MB/s    in 1.9s    \n",
            "\n",
            "2022-11-15 15:32:45 (6.04 MB/s) - ‘data_val_mxlen1000.pkl’ saved [12038436/12038436]\n",
            "\n"
          ]
        }
      ]
    },
    {
      "cell_type": "code",
      "source": [
        "import wandb\n",
        "wandb.login()"
      ],
      "metadata": {
        "colab": {
          "base_uri": "https://localhost:8080/",
          "height": 124
        },
        "id": "nLhzv4Dqe3OO",
        "outputId": "a25ecbaa-881c-4a47-d578-a7b09807779b"
      },
      "execution_count": null,
      "outputs": [
        {
          "output_type": "display_data",
          "data": {
            "text/plain": [
              "<IPython.core.display.Javascript object>"
            ],
            "application/javascript": [
              "\n",
              "        window._wandbApiKey = new Promise((resolve, reject) => {\n",
              "            function loadScript(url) {\n",
              "            return new Promise(function(resolve, reject) {\n",
              "                let newScript = document.createElement(\"script\");\n",
              "                newScript.onerror = reject;\n",
              "                newScript.onload = resolve;\n",
              "                document.body.appendChild(newScript);\n",
              "                newScript.src = url;\n",
              "            });\n",
              "            }\n",
              "            loadScript(\"https://cdn.jsdelivr.net/npm/postmate/build/postmate.min.js\").then(() => {\n",
              "            const iframe = document.createElement('iframe')\n",
              "            iframe.style.cssText = \"width:0;height:0;border:none\"\n",
              "            document.body.appendChild(iframe)\n",
              "            const handshake = new Postmate({\n",
              "                container: iframe,\n",
              "                url: 'https://wandb.ai/authorize'\n",
              "            });\n",
              "            const timeout = setTimeout(() => reject(\"Couldn't auto authenticate\"), 5000)\n",
              "            handshake.then(function(child) {\n",
              "                child.on('authorize', data => {\n",
              "                    clearTimeout(timeout)\n",
              "                    resolve(data)\n",
              "                });\n",
              "            });\n",
              "            })\n",
              "        });\n",
              "    "
            ]
          },
          "metadata": {}
        },
        {
          "output_type": "stream",
          "name": "stderr",
          "text": [
            "\u001b[34m\u001b[1mwandb\u001b[0m: Logging into wandb.ai. (Learn how to deploy a W&B server locally: https://wandb.me/wandb-server)\n",
            "\u001b[34m\u001b[1mwandb\u001b[0m: You can find your API key in your browser here: https://wandb.ai/authorize\n",
            "wandb: Paste an API key from your profile and hit enter, or press ctrl+c to quit: "
          ]
        },
        {
          "name": "stdout",
          "output_type": "stream",
          "text": [
            "··········\n"
          ]
        },
        {
          "output_type": "stream",
          "name": "stderr",
          "text": [
            "\u001b[34m\u001b[1mwandb\u001b[0m: Appending key for api.wandb.ai to your netrc file: /root/.netrc\n"
          ]
        },
        {
          "output_type": "execute_result",
          "data": {
            "text/plain": [
              "True"
            ]
          },
          "metadata": {},
          "execution_count": 5
        }
      ]
    },
    {
      "cell_type": "code",
      "source": [
        "import torch\n",
        "import torch.nn as nn\n",
        "import bitsandbytes as bnb\n",
        "from transformers import AutoTokenizer, AutoConfig, AutoModelForCausalLM\n",
        "\n",
        "MODEL_NAME = \"EleutherAI/gpt-j-6B\" # \"facebook/opt-6.7b\"\n",
        "\n",
        "model = AutoModelForCausalLM.from_pretrained(\n",
        "  MODEL_NAME, device_map='auto', load_in_8bit=True,\n",
        "  low_cpu_mem_usage=True, torch_dtype=torch.float16, offload_state_dict=True)\n",
        "\n",
        "# I have no idea which of the from_pretrained params are necessary ~.~\n",
        "# If you are reading this and you not in (Tim,Younes,Felix), we messed up\n",
        "\n",
        "tokenizer = AutoTokenizer.from_pretrained(MODEL_NAME)\n",
        "tokenizer.add_special_tokens({'pad_token': tokenizer.eos_token})\n",
        "\n",
        "for module in model.modules():\n",
        "    if isinstance(module, bnb.nn.Linear8bitLt):\n",
        "        module.state.memory_efficient_backward = True\n",
        "\n",
        "for param in model.parameters():\n",
        "  param.requires_grad = False  # freeze the model - train adapters later\n",
        "  if param.ndim == 1:\n",
        "    # cast the small parameters (e.g. layernorm) to fp32 for stability\n",
        "    param.data = param.data.to(torch.float32)\n",
        "\n",
        "model.gradient_checkpointing_enable()  # reduce number of stored activations\n",
        "model.model.decoder.project_in = lambda x: x.requires_grad_(True)\n",
        "\n",
        "# cast model outputs to float32 to unfuck the top-k sampler\n",
        "class CastOutputToFloat(nn.Sequential):\n",
        "  def forward(self, x): return super().forward(x).to(torch.float32)\n",
        "model.lm_head = CastOutputToFloat(model.lm_head)"
      ],
      "metadata": {
        "id": "cg3fiQOvmI3Q",
        "colab": {
          "base_uri": "https://localhost:8080/",
          "height": 145,
          "referenced_widgets": [
            "a7c7d3f2f83d4243b35ada3b303c5389",
            "d83f7533a21542a3825ec119cae918e0",
            "67422b133d7b4af6b6b9339ad0f1254c",
            "76577924b5584fc089a24b078cbc7e7a",
            "86e507ae6abf47f1845b22d904b65f1c",
            "26a70e6031594259b2417999b8f16794",
            "b12e3336e5e941868a79b0b15f4bd234",
            "de402943286b4c728b333dc0344c3331",
            "a21abccefb904f5e8ad0aeb106495da7",
            "3173df2b95064bb58ce97e9abb80e80d",
            "f7b249aea4804931afe5b885f562b328",
            "d293a6615fec403c9376957e252dadb8",
            "250b702a08d04d46aa5646fb0ba8f3bb",
            "287f4cf943ca4d3b9923f509f940d16f",
            "a3bc063c331b4a60810f926f2fcce146",
            "819c75f7289f4c77949a971957a0923e",
            "95b86ea13194422e811e7e41b4ebb6b5",
            "2ba062c09b4e4953a467e58f19cbda07",
            "9337c32e6ddb4d21b8c18bf0bc981e9c",
            "1b0535ed3a85440bb40c2e5b71aff999",
            "6e747418102242dba1ab3e2ea71df537",
            "a0ececaa92f0494985064b3c979e1516",
            "8a5a020de6ff418f9edf811f2770d42e",
            "ef9c0bcb93174357901dc6b51a961062",
            "7e965391d14f45668f9380455aae8003",
            "48b939d0ff6c442f8c195d9a7e5eb1ba",
            "8f9f9f5ab3e144d99c8abdd3fcda7668",
            "be5080210a3e49b3bcae5924799a8c19",
            "98606d6ce0ae4f4a8cd874ab437020d5",
            "5d5c8d2df7ce48dfa67d3c14ca2b760e",
            "9487b7cc76784144ab9c7f3915330080",
            "1d6318c054ab491c91cfdc619ecc7810",
            "76ad9558dc6249f298b9ac45e170e9f9",
            "3239630620a94273a7d3f56bd8346f31",
            "38311e0bb38c46a3858159d1818160d0",
            "ff3598f8b6e047dca5a75cea0611e6d0",
            "491acb269cab461f8604d80cd279eccd",
            "5f924d875c604ab5aad7be04ec628729",
            "091e0e9d28a2424b9b1fd94f83b5993f",
            "4a0bf9ad8093418eb6e24bd4afab355f",
            "f3438f71c9804cdf9a7b989e48720277",
            "b54ce1fd2909487486e456e02e3338e2",
            "497cd23571a743c99780aabae81377a2",
            "471025e44ba04078b25f3d170503c5f3"
          ]
        },
        "outputId": "592a59b8-a0e7-4e63-f84c-2ab0d682d1a7"
      },
      "execution_count": null,
      "outputs": [
        {
          "output_type": "display_data",
          "data": {
            "text/plain": [
              "Downloading:   0%|          | 0.00/685 [00:00<?, ?B/s]"
            ],
            "application/vnd.jupyter.widget-view+json": {
              "version_major": 2,
              "version_minor": 0,
              "model_id": "a7c7d3f2f83d4243b35ada3b303c5389"
            }
          },
          "metadata": {}
        },
        {
          "output_type": "display_data",
          "data": {
            "text/plain": [
              "Downloading:   0%|          | 0.00/899k [00:00<?, ?B/s]"
            ],
            "application/vnd.jupyter.widget-view+json": {
              "version_major": 2,
              "version_minor": 0,
              "model_id": "d293a6615fec403c9376957e252dadb8"
            }
          },
          "metadata": {}
        },
        {
          "output_type": "display_data",
          "data": {
            "text/plain": [
              "Downloading:   0%|          | 0.00/456k [00:00<?, ?B/s]"
            ],
            "application/vnd.jupyter.widget-view+json": {
              "version_major": 2,
              "version_minor": 0,
              "model_id": "8a5a020de6ff418f9edf811f2770d42e"
            }
          },
          "metadata": {}
        },
        {
          "output_type": "display_data",
          "data": {
            "text/plain": [
              "Downloading:   0%|          | 0.00/441 [00:00<?, ?B/s]"
            ],
            "application/vnd.jupyter.widget-view+json": {
              "version_major": 2,
              "version_minor": 0,
              "model_id": "3239630620a94273a7d3f56bd8346f31"
            }
          },
          "metadata": {}
        }
      ]
    },
    {
      "cell_type": "code",
      "source": [
        "batch = tokenizer(\"Mark Zuckerberg is\", return_tensors='pt')\n",
        "# note to self: find a less controversial example\n",
        "\n",
        "with torch.cuda.amp.autocast():\n",
        "  output_tokens = model.generate(**batch, min_length=30, max_length=30, do_sample=True)\n",
        "\n",
        "print('\\n\\n', tokenizer.decode(output_tokens[0].numpy()))"
      ],
      "metadata": {
        "id": "gGfyeM-vdq5o",
        "colab": {
          "base_uri": "https://localhost:8080/"
        },
        "outputId": "1bdf1f92-c582-43c0-ef5f-6b589e7fff8c"
      },
      "execution_count": null,
      "outputs": [
        {
          "output_type": "stream",
          "name": "stderr",
          "text": [
            "/usr/local/lib/python3.7/dist-packages/transformers/generation_utils.py:1449: UserWarning: You are calling .generate() with the `input_ids` being on a device type different than your model's device. `input_ids` is on cpu, whereas the model is on cuda. You may experience unexpected behaviors or slower generation. Please make sure that you have put `input_ids` to the correct device by calling for example input_ids = input_ids.to('cuda') before running `.generate()`.\n",
            "  UserWarning,\n",
            "/usr/local/lib/python3.7/dist-packages/bitsandbytes/autograd/_functions.py:231: UserWarning: MatMul8bitLt: inputs will be cast from torch.float32 to float16 during quantization\n",
            "  warnings.warn(f\"MatMul8bitLt: inputs will be cast from {A.dtype} to float16 during quantization\")\n"
          ]
        },
        {
          "output_type": "stream",
          "name": "stdout",
          "text": [
            "\n",
            "\n",
            " </s>Mark Zuckerberg is more like Bill Gates to me.\n",
            "You know, in terms of charitable giving, not being a jerk about privacy policies, and\n"
          ]
        }
      ]
    },
    {
      "cell_type": "markdown",
      "source": [
        "### Apply LoRA"
      ],
      "metadata": {
        "id": "KwOTr7B3NlM3"
      }
    },
    {
      "cell_type": "code",
      "source": [
        "class LoRALayer(nn.Module):\n",
        "    \"\"\"Wraps a linear layer with LoRA-like adapter\"\"\"\n",
        "    def __init__(self, module: nn.Module, rank: int):\n",
        "        super().__init__()\n",
        "        self.module = module\n",
        "        self.adapter = nn.Sequential(nn.Linear(module.in_features, rank, bias=False),\n",
        "                                     nn.Linear(rank, module.out_features, bias=False))\n",
        "        small_std = (2. / (5 * min(module.in_features, module.out_features))) ** 0.5\n",
        "        nn.init.normal_(self.adapter[0].weight, std=small_std)\n",
        "        nn.init.zeros_(self.adapter[1].weight)\n",
        "        self.adapter.to(module.weight.device)\n",
        "\n",
        "    def forward(self, input, *args, **kwargs):\n",
        "        return self.module(input, *args, **kwargs) + self.adapter(input)\n"
      ],
      "metadata": {
        "id": "4W1j6lxaNnxC"
      },
      "execution_count": null,
      "outputs": []
    },
    {
      "cell_type": "code",
      "source": [
        "for name, module in model.named_modules():\n",
        "  if 'OPTAttention' in repr(type(module)):\n",
        "    module.q_proj = LoRALayer(module.q_proj, rank=16)\n",
        "    module.k_proj = LoRALayer(module.k_proj, rank=16)\n",
        "    module.v_proj = LoRALayer(module.v_proj, rank=16)\n",
        "\n",
        "assert sum(isinstance(module, LoRALayer) for module in model.modules()) == 96"
      ],
      "metadata": {
        "id": "4iwHGzKBN6wk"
      },
      "execution_count": null,
      "outputs": []
    },
    {
      "cell_type": "code",
      "source": [
        "# test a single training step, make sure we get meaningful gradients\n",
        "with torch.cuda.amp.autocast():\n",
        "  out = model.forward(**batch)\n",
        "  out.logits.norm().backward()\n",
        "\n",
        "for module in model.modules():\n",
        "  if isinstance(module, LoRALayer):\n",
        "    assert module.adapter[1].weight.grad is not None\n",
        "    assert module.adapter[1].weight.grad.norm().item() > 0\n",
        "\n",
        "model.zero_grad(set_to_none=True)"
      ],
      "metadata": {
        "id": "M9GiOJ4vdxqI"
      },
      "execution_count": null,
      "outputs": []
    },
    {
      "cell_type": "code",
      "source": [
        "import transformers\n",
        "\n",
        "\n",
        "class MyModelWrapperThatSaves(nn.Module):\n",
        "    def __init__(self, model):\n",
        "        super().__init__()\n",
        "        self.model = model\n",
        "\n",
        "    def forward(self, input_ids, attention_mask, *args, **kwargs):\n",
        "        return self.model(input_ids, attention_mask, *args, **kwargs)\n",
        "\n",
        "    def state_dict(self):\n",
        "        print('CUSTOM STATE DICT USED')\n",
        "        adapters = {}\n",
        "        for name, module in self.model.named_modules():\n",
        "          if isinstance(module, LoRALayer):\n",
        "            for key, w in module.adapter.state_dict().items():\n",
        "              adapters[name + '.adapter.' + key] = w\n",
        "        return adapters\n",
        "\n",
        "    def load_state_dict(self, state_dict_adapters_only):\n",
        "        fixed_layers = {}\n",
        "        for el in state_dict_adapters_only:\n",
        "          assert(el in self.model.state_dict())\n",
        "        self.model.load_state_dict(state_dict_adapters_only, strict=False)\n",
        "        return self\n",
        "\n",
        "model_wrapped_for_trainer = MyModelWrapperThatSaves(model)\n",
        "state_dict_adapters_only = model_wrapped_for_trainer.state_dict()\n",
        "model_wrapped_for_trainer.load_state_dict(state_dict_adapters_only)\n",
        "assert not isinstance(model_wrapped_for_trainer, transformers.PreTrainedModel)\n",
        "assert isinstance(model_wrapped_for_trainer.model, transformers.PreTrainedModel)"
      ],
      "metadata": {
        "id": "q7sbwlqXmNjC",
        "colab": {
          "base_uri": "https://localhost:8080/"
        },
        "outputId": "0e5d8c74-b9a2-466d-cbb5-8a28d3f394d3"
      },
      "execution_count": null,
      "outputs": [
        {
          "output_type": "stream",
          "name": "stdout",
          "text": [
            "CUSTOM STATE DICT USED\n"
          ]
        }
      ]
    },
    {
      "cell_type": "markdown",
      "source": [
        "### Training"
      ],
      "metadata": {
        "id": "QdjWif4CVXR6"
      }
    },
    {
      "cell_type": "markdown",
      "source": [
        "QuestDataset"
      ],
      "metadata": {
        "id": "0oFqJEgEgcQh"
      }
    },
    {
      "cell_type": "code",
      "source": [
        "%load_ext autoreload\n",
        "%autoreload 2\n",
        "import questdataset\n",
        "import transformers\n",
        "import random\n",
        "import pickle\n",
        "\n",
        "train_dataset = questdataset.PresampledDataset(pickle.load(open('data_train_mxlen1000.pkl', 'rb')), tokenizer)\n",
        "val_dataset = questdataset.PresampledDataset(pickle.load(open('data_val_mxlen1000.pkl', 'rb')), tokenizer)"
      ],
      "metadata": {
        "id": "-4TZDhNhgkRT",
        "colab": {
          "base_uri": "https://localhost:8080/",
          "height": 410
        },
        "outputId": "d8629dfa-0d2a-4104-ecfe-820cca6fdfca"
      },
      "execution_count": null,
      "outputs": [
        {
          "output_type": "stream",
          "name": "stdout",
          "text": [
            "The autoreload extension is already loaded. To reload it, use:\n",
            "  %reload_ext autoreload\n"
          ]
        },
        {
          "output_type": "error",
          "ename": "KeyboardInterrupt",
          "evalue": "ignored",
          "traceback": [
            "\u001b[0;31m---------------------------------------------------------------------------\u001b[0m",
            "\u001b[0;31mKeyboardInterrupt\u001b[0m                         Traceback (most recent call last)",
            "\u001b[0;32m<ipython-input-23-8ae0bf28a5a7>\u001b[0m in \u001b[0;36m<module>\u001b[0;34m\u001b[0m\n\u001b[1;32m      6\u001b[0m \u001b[0;32mimport\u001b[0m \u001b[0mpickle\u001b[0m\u001b[0;34m\u001b[0m\u001b[0;34m\u001b[0m\u001b[0m\n\u001b[1;32m      7\u001b[0m \u001b[0;34m\u001b[0m\u001b[0m\n\u001b[0;32m----> 8\u001b[0;31m \u001b[0mtrain_dataset\u001b[0m \u001b[0;34m=\u001b[0m \u001b[0mquestdataset\u001b[0m\u001b[0;34m.\u001b[0m\u001b[0mPresampledDataset\u001b[0m\u001b[0;34m(\u001b[0m\u001b[0mpickle\u001b[0m\u001b[0;34m.\u001b[0m\u001b[0mload\u001b[0m\u001b[0;34m(\u001b[0m\u001b[0mopen\u001b[0m\u001b[0;34m(\u001b[0m\u001b[0;34m'data_train_mxlen1000.pkl'\u001b[0m\u001b[0;34m,\u001b[0m \u001b[0;34m'rb'\u001b[0m\u001b[0;34m)\u001b[0m\u001b[0;34m)\u001b[0m\u001b[0;34m,\u001b[0m \u001b[0mtokenizer\u001b[0m\u001b[0;34m)\u001b[0m\u001b[0;34m\u001b[0m\u001b[0;34m\u001b[0m\u001b[0m\n\u001b[0m\u001b[1;32m      9\u001b[0m \u001b[0mval_dataset\u001b[0m \u001b[0;34m=\u001b[0m \u001b[0mquestdataset\u001b[0m\u001b[0;34m.\u001b[0m\u001b[0mPresampledDataset\u001b[0m\u001b[0;34m(\u001b[0m\u001b[0mpickle\u001b[0m\u001b[0;34m.\u001b[0m\u001b[0mload\u001b[0m\u001b[0;34m(\u001b[0m\u001b[0mopen\u001b[0m\u001b[0;34m(\u001b[0m\u001b[0;34m'data_val_mxlen1000.pkl'\u001b[0m\u001b[0;34m,\u001b[0m \u001b[0;34m'rb'\u001b[0m\u001b[0;34m)\u001b[0m\u001b[0;34m)\u001b[0m\u001b[0;34m,\u001b[0m \u001b[0mtokenizer\u001b[0m\u001b[0;34m)\u001b[0m\u001b[0;34m\u001b[0m\u001b[0;34m\u001b[0m\u001b[0m\n",
            "\u001b[0;32m/content/questdataset.py\u001b[0m in \u001b[0;36m__init__\u001b[0;34m(self, items, tokenizer, autopadding)\u001b[0m\n\u001b[1;32m    119\u001b[0m \u001b[0;32mclass\u001b[0m \u001b[0mPresampledDataset\u001b[0m\u001b[0;34m(\u001b[0m\u001b[0mtorch\u001b[0m\u001b[0;34m.\u001b[0m\u001b[0mutils\u001b[0m\u001b[0;34m.\u001b[0m\u001b[0mdata\u001b[0m\u001b[0;34m.\u001b[0m\u001b[0mDataset\u001b[0m\u001b[0;34m)\u001b[0m\u001b[0;34m:\u001b[0m\u001b[0;34m\u001b[0m\u001b[0;34m\u001b[0m\u001b[0m\n\u001b[1;32m    120\u001b[0m     \u001b[0;32mdef\u001b[0m \u001b[0m__init__\u001b[0m\u001b[0;34m(\u001b[0m\u001b[0mself\u001b[0m\u001b[0;34m,\u001b[0m \u001b[0mitems\u001b[0m\u001b[0;34m,\u001b[0m \u001b[0mtokenizer\u001b[0m\u001b[0;34m,\u001b[0m \u001b[0mautopadding\u001b[0m\u001b[0;34m=\u001b[0m\u001b[0;32mTrue\u001b[0m\u001b[0;34m)\u001b[0m\u001b[0;34m:\u001b[0m\u001b[0;34m\u001b[0m\u001b[0;34m\u001b[0m\u001b[0m\n\u001b[0;32m--> 121\u001b[0;31m         \u001b[0mencoded\u001b[0m \u001b[0;34m=\u001b[0m \u001b[0mtokenizer\u001b[0m\u001b[0;34m(\u001b[0m\u001b[0mitems\u001b[0m\u001b[0;34m,\u001b[0m \u001b[0mpadding\u001b[0m\u001b[0;34m=\u001b[0m\u001b[0mautopadding\u001b[0m\u001b[0;34m)\u001b[0m\u001b[0;34m\u001b[0m\u001b[0;34m\u001b[0m\u001b[0m\n\u001b[0m\u001b[1;32m    122\u001b[0m         \u001b[0mprint\u001b[0m\u001b[0;34m(\u001b[0m\u001b[0mlist\u001b[0m\u001b[0;34m(\u001b[0m\u001b[0mencoded\u001b[0m\u001b[0;34m.\u001b[0m\u001b[0mkeys\u001b[0m\u001b[0;34m(\u001b[0m\u001b[0;34m)\u001b[0m\u001b[0;34m)\u001b[0m\u001b[0;34m)\u001b[0m\u001b[0;34m\u001b[0m\u001b[0;34m\u001b[0m\u001b[0m\n\u001b[1;32m    123\u001b[0m         \u001b[0mself\u001b[0m\u001b[0;34m.\u001b[0m\u001b[0minput_ids\u001b[0m \u001b[0;34m=\u001b[0m \u001b[0mencoded\u001b[0m\u001b[0;34m[\u001b[0m\u001b[0;34m'input_ids'\u001b[0m\u001b[0;34m]\u001b[0m\u001b[0;34m\u001b[0m\u001b[0;34m\u001b[0m\u001b[0m\n",
            "\u001b[0;32m/usr/local/lib/python3.7/dist-packages/transformers/tokenization_utils_base.py\u001b[0m in \u001b[0;36m__call__\u001b[0;34m(self, text, text_pair, text_target, text_pair_target, add_special_tokens, padding, truncation, max_length, stride, is_split_into_words, pad_to_multiple_of, return_tensors, return_token_type_ids, return_attention_mask, return_overflowing_tokens, return_special_tokens_mask, return_offsets_mapping, return_length, verbose, **kwargs)\u001b[0m\n\u001b[1;32m   2486\u001b[0m             \u001b[0;32mif\u001b[0m \u001b[0;32mnot\u001b[0m \u001b[0mself\u001b[0m\u001b[0;34m.\u001b[0m\u001b[0m_in_target_context_manager\u001b[0m\u001b[0;34m:\u001b[0m\u001b[0;34m\u001b[0m\u001b[0;34m\u001b[0m\u001b[0m\n\u001b[1;32m   2487\u001b[0m                 \u001b[0mself\u001b[0m\u001b[0;34m.\u001b[0m\u001b[0m_switch_to_input_mode\u001b[0m\u001b[0;34m(\u001b[0m\u001b[0;34m)\u001b[0m\u001b[0;34m\u001b[0m\u001b[0;34m\u001b[0m\u001b[0m\n\u001b[0;32m-> 2488\u001b[0;31m             \u001b[0mencodings\u001b[0m \u001b[0;34m=\u001b[0m \u001b[0mself\u001b[0m\u001b[0;34m.\u001b[0m\u001b[0m_call_one\u001b[0m\u001b[0;34m(\u001b[0m\u001b[0mtext\u001b[0m\u001b[0;34m=\u001b[0m\u001b[0mtext\u001b[0m\u001b[0;34m,\u001b[0m \u001b[0mtext_pair\u001b[0m\u001b[0;34m=\u001b[0m\u001b[0mtext_pair\u001b[0m\u001b[0;34m,\u001b[0m \u001b[0;34m**\u001b[0m\u001b[0mall_kwargs\u001b[0m\u001b[0;34m)\u001b[0m\u001b[0;34m\u001b[0m\u001b[0;34m\u001b[0m\u001b[0m\n\u001b[0m\u001b[1;32m   2489\u001b[0m         \u001b[0;32mif\u001b[0m \u001b[0mtext_target\u001b[0m \u001b[0;32mis\u001b[0m \u001b[0;32mnot\u001b[0m \u001b[0;32mNone\u001b[0m\u001b[0;34m:\u001b[0m\u001b[0;34m\u001b[0m\u001b[0;34m\u001b[0m\u001b[0m\n\u001b[1;32m   2490\u001b[0m             \u001b[0mself\u001b[0m\u001b[0;34m.\u001b[0m\u001b[0m_switch_to_target_mode\u001b[0m\u001b[0;34m(\u001b[0m\u001b[0;34m)\u001b[0m\u001b[0;34m\u001b[0m\u001b[0;34m\u001b[0m\u001b[0m\n",
            "\u001b[0;32m/usr/local/lib/python3.7/dist-packages/transformers/tokenization_utils_base.py\u001b[0m in \u001b[0;36m_call_one\u001b[0;34m(self, text, text_pair, add_special_tokens, padding, truncation, max_length, stride, is_split_into_words, pad_to_multiple_of, return_tensors, return_token_type_ids, return_attention_mask, return_overflowing_tokens, return_special_tokens_mask, return_offsets_mapping, return_length, verbose, **kwargs)\u001b[0m\n\u001b[1;32m   2589\u001b[0m                 \u001b[0mreturn_length\u001b[0m\u001b[0;34m=\u001b[0m\u001b[0mreturn_length\u001b[0m\u001b[0;34m,\u001b[0m\u001b[0;34m\u001b[0m\u001b[0;34m\u001b[0m\u001b[0m\n\u001b[1;32m   2590\u001b[0m                 \u001b[0mverbose\u001b[0m\u001b[0;34m=\u001b[0m\u001b[0mverbose\u001b[0m\u001b[0;34m,\u001b[0m\u001b[0;34m\u001b[0m\u001b[0;34m\u001b[0m\u001b[0m\n\u001b[0;32m-> 2591\u001b[0;31m                 \u001b[0;34m**\u001b[0m\u001b[0mkwargs\u001b[0m\u001b[0;34m,\u001b[0m\u001b[0;34m\u001b[0m\u001b[0;34m\u001b[0m\u001b[0m\n\u001b[0m\u001b[1;32m   2592\u001b[0m             )\n\u001b[1;32m   2593\u001b[0m         \u001b[0;32melse\u001b[0m\u001b[0;34m:\u001b[0m\u001b[0;34m\u001b[0m\u001b[0;34m\u001b[0m\u001b[0m\n",
            "\u001b[0;32m/usr/local/lib/python3.7/dist-packages/transformers/tokenization_utils_base.py\u001b[0m in \u001b[0;36mbatch_encode_plus\u001b[0;34m(self, batch_text_or_text_pairs, add_special_tokens, padding, truncation, max_length, stride, is_split_into_words, pad_to_multiple_of, return_tensors, return_token_type_ids, return_attention_mask, return_overflowing_tokens, return_special_tokens_mask, return_offsets_mapping, return_length, verbose, **kwargs)\u001b[0m\n\u001b[1;32m   2780\u001b[0m             \u001b[0mreturn_length\u001b[0m\u001b[0;34m=\u001b[0m\u001b[0mreturn_length\u001b[0m\u001b[0;34m,\u001b[0m\u001b[0;34m\u001b[0m\u001b[0;34m\u001b[0m\u001b[0m\n\u001b[1;32m   2781\u001b[0m             \u001b[0mverbose\u001b[0m\u001b[0;34m=\u001b[0m\u001b[0mverbose\u001b[0m\u001b[0;34m,\u001b[0m\u001b[0;34m\u001b[0m\u001b[0;34m\u001b[0m\u001b[0m\n\u001b[0;32m-> 2782\u001b[0;31m             \u001b[0;34m**\u001b[0m\u001b[0mkwargs\u001b[0m\u001b[0;34m,\u001b[0m\u001b[0;34m\u001b[0m\u001b[0;34m\u001b[0m\u001b[0m\n\u001b[0m\u001b[1;32m   2783\u001b[0m         )\n\u001b[1;32m   2784\u001b[0m \u001b[0;34m\u001b[0m\u001b[0m\n",
            "\u001b[0;32m/usr/local/lib/python3.7/dist-packages/transformers/tokenization_utils.py\u001b[0m in \u001b[0;36m_batch_encode_plus\u001b[0;34m(self, batch_text_or_text_pairs, add_special_tokens, padding_strategy, truncation_strategy, max_length, stride, is_split_into_words, pad_to_multiple_of, return_tensors, return_token_type_ids, return_attention_mask, return_overflowing_tokens, return_special_tokens_mask, return_offsets_mapping, return_length, verbose, **kwargs)\u001b[0m\n\u001b[1;32m    731\u001b[0m                 \u001b[0mids\u001b[0m\u001b[0;34m,\u001b[0m \u001b[0mpair_ids\u001b[0m \u001b[0;34m=\u001b[0m \u001b[0mids_or_pair_ids\u001b[0m\u001b[0;34m\u001b[0m\u001b[0;34m\u001b[0m\u001b[0m\n\u001b[1;32m    732\u001b[0m \u001b[0;34m\u001b[0m\u001b[0m\n\u001b[0;32m--> 733\u001b[0;31m             \u001b[0mfirst_ids\u001b[0m \u001b[0;34m=\u001b[0m \u001b[0mget_input_ids\u001b[0m\u001b[0;34m(\u001b[0m\u001b[0mids\u001b[0m\u001b[0;34m)\u001b[0m\u001b[0;34m\u001b[0m\u001b[0;34m\u001b[0m\u001b[0m\n\u001b[0m\u001b[1;32m    734\u001b[0m             \u001b[0msecond_ids\u001b[0m \u001b[0;34m=\u001b[0m \u001b[0mget_input_ids\u001b[0m\u001b[0;34m(\u001b[0m\u001b[0mpair_ids\u001b[0m\u001b[0;34m)\u001b[0m \u001b[0;32mif\u001b[0m \u001b[0mpair_ids\u001b[0m \u001b[0;32mis\u001b[0m \u001b[0;32mnot\u001b[0m \u001b[0;32mNone\u001b[0m \u001b[0;32melse\u001b[0m \u001b[0;32mNone\u001b[0m\u001b[0;34m\u001b[0m\u001b[0;34m\u001b[0m\u001b[0m\n\u001b[1;32m    735\u001b[0m             \u001b[0minput_ids\u001b[0m\u001b[0;34m.\u001b[0m\u001b[0mappend\u001b[0m\u001b[0;34m(\u001b[0m\u001b[0;34m(\u001b[0m\u001b[0mfirst_ids\u001b[0m\u001b[0;34m,\u001b[0m \u001b[0msecond_ids\u001b[0m\u001b[0;34m)\u001b[0m\u001b[0;34m)\u001b[0m\u001b[0;34m\u001b[0m\u001b[0;34m\u001b[0m\u001b[0m\n",
            "\u001b[0;32m/usr/local/lib/python3.7/dist-packages/transformers/tokenization_utils.py\u001b[0m in \u001b[0;36mget_input_ids\u001b[0;34m(text)\u001b[0m\n\u001b[1;32m    698\u001b[0m         \u001b[0;32mdef\u001b[0m \u001b[0mget_input_ids\u001b[0m\u001b[0;34m(\u001b[0m\u001b[0mtext\u001b[0m\u001b[0;34m)\u001b[0m\u001b[0;34m:\u001b[0m\u001b[0;34m\u001b[0m\u001b[0;34m\u001b[0m\u001b[0m\n\u001b[1;32m    699\u001b[0m             \u001b[0;32mif\u001b[0m \u001b[0misinstance\u001b[0m\u001b[0;34m(\u001b[0m\u001b[0mtext\u001b[0m\u001b[0;34m,\u001b[0m \u001b[0mstr\u001b[0m\u001b[0;34m)\u001b[0m\u001b[0;34m:\u001b[0m\u001b[0;34m\u001b[0m\u001b[0;34m\u001b[0m\u001b[0m\n\u001b[0;32m--> 700\u001b[0;31m                 \u001b[0mtokens\u001b[0m \u001b[0;34m=\u001b[0m \u001b[0mself\u001b[0m\u001b[0;34m.\u001b[0m\u001b[0mtokenize\u001b[0m\u001b[0;34m(\u001b[0m\u001b[0mtext\u001b[0m\u001b[0;34m,\u001b[0m \u001b[0;34m**\u001b[0m\u001b[0mkwargs\u001b[0m\u001b[0;34m)\u001b[0m\u001b[0;34m\u001b[0m\u001b[0;34m\u001b[0m\u001b[0m\n\u001b[0m\u001b[1;32m    701\u001b[0m                 \u001b[0;32mreturn\u001b[0m \u001b[0mself\u001b[0m\u001b[0;34m.\u001b[0m\u001b[0mconvert_tokens_to_ids\u001b[0m\u001b[0;34m(\u001b[0m\u001b[0mtokens\u001b[0m\u001b[0;34m)\u001b[0m\u001b[0;34m\u001b[0m\u001b[0;34m\u001b[0m\u001b[0m\n\u001b[1;32m    702\u001b[0m             \u001b[0;32melif\u001b[0m \u001b[0misinstance\u001b[0m\u001b[0;34m(\u001b[0m\u001b[0mtext\u001b[0m\u001b[0;34m,\u001b[0m \u001b[0;34m(\u001b[0m\u001b[0mlist\u001b[0m\u001b[0;34m,\u001b[0m \u001b[0mtuple\u001b[0m\u001b[0;34m)\u001b[0m\u001b[0;34m)\u001b[0m \u001b[0;32mand\u001b[0m \u001b[0mlen\u001b[0m\u001b[0;34m(\u001b[0m\u001b[0mtext\u001b[0m\u001b[0;34m)\u001b[0m \u001b[0;34m>\u001b[0m \u001b[0;36m0\u001b[0m \u001b[0;32mand\u001b[0m \u001b[0misinstance\u001b[0m\u001b[0;34m(\u001b[0m\u001b[0mtext\u001b[0m\u001b[0;34m[\u001b[0m\u001b[0;36m0\u001b[0m\u001b[0;34m]\u001b[0m\u001b[0;34m,\u001b[0m \u001b[0mstr\u001b[0m\u001b[0;34m)\u001b[0m\u001b[0;34m:\u001b[0m\u001b[0;34m\u001b[0m\u001b[0;34m\u001b[0m\u001b[0m\n",
            "\u001b[0;32m/usr/local/lib/python3.7/dist-packages/transformers/tokenization_utils.py\u001b[0m in \u001b[0;36mtokenize\u001b[0;34m(self, text, **kwargs)\u001b[0m\n\u001b[1;32m    545\u001b[0m                 \u001b[0mtokenized_text\u001b[0m\u001b[0;34m.\u001b[0m\u001b[0mappend\u001b[0m\u001b[0;34m(\u001b[0m\u001b[0mtoken\u001b[0m\u001b[0;34m)\u001b[0m\u001b[0;34m\u001b[0m\u001b[0;34m\u001b[0m\u001b[0m\n\u001b[1;32m    546\u001b[0m             \u001b[0;32melse\u001b[0m\u001b[0;34m:\u001b[0m\u001b[0;34m\u001b[0m\u001b[0;34m\u001b[0m\u001b[0m\n\u001b[0;32m--> 547\u001b[0;31m                 \u001b[0mtokenized_text\u001b[0m\u001b[0;34m.\u001b[0m\u001b[0mextend\u001b[0m\u001b[0;34m(\u001b[0m\u001b[0mself\u001b[0m\u001b[0;34m.\u001b[0m\u001b[0m_tokenize\u001b[0m\u001b[0;34m(\u001b[0m\u001b[0mtoken\u001b[0m\u001b[0;34m)\u001b[0m\u001b[0;34m)\u001b[0m\u001b[0;34m\u001b[0m\u001b[0;34m\u001b[0m\u001b[0m\n\u001b[0m\u001b[1;32m    548\u001b[0m         \u001b[0;31m# [\"This\", \" is\", \" something\", \"<special_token_1>\", \"else\"]\u001b[0m\u001b[0;34m\u001b[0m\u001b[0;34m\u001b[0m\u001b[0;34m\u001b[0m\u001b[0m\n\u001b[1;32m    549\u001b[0m         \u001b[0;32mreturn\u001b[0m \u001b[0mtokenized_text\u001b[0m\u001b[0;34m\u001b[0m\u001b[0;34m\u001b[0m\u001b[0m\n",
            "\u001b[0;32m/usr/local/lib/python3.7/dist-packages/transformers/models/gpt2/tokenization_gpt2.py\u001b[0m in \u001b[0;36m_tokenize\u001b[0;34m(self, text)\u001b[0m\n\u001b[1;32m    299\u001b[0m         \u001b[0;32mfor\u001b[0m \u001b[0mtoken\u001b[0m \u001b[0;32min\u001b[0m \u001b[0mre\u001b[0m\u001b[0;34m.\u001b[0m\u001b[0mfindall\u001b[0m\u001b[0;34m(\u001b[0m\u001b[0mself\u001b[0m\u001b[0;34m.\u001b[0m\u001b[0mpat\u001b[0m\u001b[0;34m,\u001b[0m \u001b[0mtext\u001b[0m\u001b[0;34m)\u001b[0m\u001b[0;34m:\u001b[0m\u001b[0;34m\u001b[0m\u001b[0;34m\u001b[0m\u001b[0m\n\u001b[1;32m    300\u001b[0m             token = \"\".join(\n\u001b[0;32m--> 301\u001b[0;31m                 \u001b[0mself\u001b[0m\u001b[0;34m.\u001b[0m\u001b[0mbyte_encoder\u001b[0m\u001b[0;34m[\u001b[0m\u001b[0mb\u001b[0m\u001b[0;34m]\u001b[0m \u001b[0;32mfor\u001b[0m \u001b[0mb\u001b[0m \u001b[0;32min\u001b[0m \u001b[0mtoken\u001b[0m\u001b[0;34m.\u001b[0m\u001b[0mencode\u001b[0m\u001b[0;34m(\u001b[0m\u001b[0;34m\"utf-8\"\u001b[0m\u001b[0;34m)\u001b[0m\u001b[0;34m\u001b[0m\u001b[0;34m\u001b[0m\u001b[0m\n\u001b[0m\u001b[1;32m    302\u001b[0m             )  # Maps all our bytes to unicode strings, avoiding control tokens of the BPE (spaces in our case)\n\u001b[1;32m    303\u001b[0m             \u001b[0mbpe_tokens\u001b[0m\u001b[0;34m.\u001b[0m\u001b[0mextend\u001b[0m\u001b[0;34m(\u001b[0m\u001b[0mbpe_token\u001b[0m \u001b[0;32mfor\u001b[0m \u001b[0mbpe_token\u001b[0m \u001b[0;32min\u001b[0m \u001b[0mself\u001b[0m\u001b[0;34m.\u001b[0m\u001b[0mbpe\u001b[0m\u001b[0;34m(\u001b[0m\u001b[0mtoken\u001b[0m\u001b[0;34m)\u001b[0m\u001b[0;34m.\u001b[0m\u001b[0msplit\u001b[0m\u001b[0;34m(\u001b[0m\u001b[0;34m\" \"\u001b[0m\u001b[0;34m)\u001b[0m\u001b[0;34m)\u001b[0m\u001b[0;34m\u001b[0m\u001b[0;34m\u001b[0m\u001b[0m\n",
            "\u001b[0;31mKeyboardInterrupt\u001b[0m: "
          ]
        }
      ]
    },
    {
      "cell_type": "code",
      "source": [
        "len(val_dataset)"
      ],
      "metadata": {
        "id": "fU58GkvlcRAh",
        "colab": {
          "base_uri": "https://localhost:8080/"
        },
        "outputId": "fa5b697c-82cd-4966-c5a6-ef0c32c8f1cf"
      },
      "execution_count": null,
      "outputs": [
        {
          "output_type": "execute_result",
          "data": {
            "text/plain": [
              "4848"
            ]
          },
          "metadata": {},
          "execution_count": 15
        }
      ]
    },
    {
      "cell_type": "code",
      "source": [
        "def compute_metrics(eval_preds):\n",
        "  logits, labels, inputs = eval_preds\n",
        "  top1 = 0\n",
        "  top10 = 0\n",
        "  total = 0\n",
        "  logits = torch.tensor(logits)\n",
        "\n",
        "  DM_id = tokenizer.encode(\"DM\")[0]\n",
        "  P_id = tokenizer.encode(\"Player\")[0]\n",
        "\n",
        "  for si in range(inputs.shape[0]):\n",
        "    c = (inputs[si] != 1).sum()\n",
        "    middle = c // 2 + 1\n",
        "    mx = c - 1\n",
        "    state = 1\n",
        "\n",
        "    for tj in range(0, mx):\n",
        "      if inputs[si, tj] == DM_id:\n",
        "        state = 0\n",
        "      elif inputs[si, tj] == P_id:\n",
        "        state = 1\n",
        "      if tj < middle:\n",
        "        continue\n",
        "      if state != 0:\n",
        "        continue\n",
        "      total += 1\n",
        "      top1 += logits[si, tj].argmax() == inputs[si, tj]\n",
        "      top10 += inputs[si, tj] in logits[si, tj].topk(10).indices #.topk(10)\n",
        "  return {\"acc-top1\": top1 / total, \"acc-top10\": top10 / total}"
      ],
      "metadata": {
        "id": "-pKo4NdX45aB"
      },
      "execution_count": null,
      "outputs": []
    },
    {
      "cell_type": "code",
      "source": [
        "import transformers\n",
        "\n",
        "STEPS = 1000 # if bs=16 this is 2 times per epoch.\n",
        "\n",
        "trainer = transformers.Trainer(\n",
        "  model=model_wrapped_for_trainer, train_dataset=train_dataset, eval_dataset=val_dataset,\n",
        "  args=transformers.TrainingArguments(\n",
        "    per_device_train_batch_size=1, gradient_accumulation_steps=16,\n",
        "    warmup_steps=250000 / 500, num_train_epochs=50, learning_rate=2e-4, fp16=True, # maybe 10k * 2 / 32k ~ 1 epoch will be enough; 2e-4 (default and the only) lora lr; warmup steps = 500. \n",
        "    logging_steps=STEPS, \n",
        "    output_dir='outputs', report_to=\"wandb\",\n",
        "    save_strategy=\"steps\", save_steps=STEPS,\n",
        "    evaluation_strategy=\"steps\", eval_steps=STEPS,\n",
        "    include_inputs_for_metrics=True\n",
        "  ),\n",
        "  data_collator=transformers.DataCollatorForLanguageModeling(tokenizer, mlm=False), \n",
        "  compute_metrics=compute_metrics,\n",
        ")\n",
        "model.config.use_cache = False  # silence the warnings. Please re-enable for inference!\n",
        "trainer.train()\n",
        "wandb.finish()"
      ],
      "metadata": {
        "id": "AQ_HCYruWIHU",
        "colab": {
          "base_uri": "https://localhost:8080/"
        },
        "outputId": "5e6fbd27-4dc9-42ed-f5c5-617ee6ad7ff5"
      },
      "execution_count": null,
      "outputs": [
        {
          "output_type": "stream",
          "name": "stderr",
          "text": [
            "PyTorch: setting up devices\n",
            "Using cuda_amp half precision backend\n",
            "/usr/local/lib/python3.7/dist-packages/transformers/optimization.py:310: FutureWarning: This implementation of AdamW is deprecated and will be removed in a future version. Use the PyTorch implementation torch.optim.AdamW instead, or set `no_deprecation_warning=True` to disable this warning\n",
            "  FutureWarning,\n",
            "***** Running training *****\n",
            "  Num examples = 32804\n",
            "  Num Epochs = 50\n",
            "  Instantaneous batch size per device = 1\n",
            "  Total train batch size (w. parallel, distributed & accumulation) = 16\n",
            "  Gradient Accumulation steps = 16\n",
            "  Total optimization steps = 102500\n",
            "  Number of trainable parameters = 12582912\n",
            "Automatic Weights & Biases logging enabled, to disable set os.environ[\"WANDB_DISABLED\"] = \"true\"\n",
            "/usr/local/lib/python3.7/dist-packages/bitsandbytes/autograd/_functions.py:231: UserWarning: MatMul8bitLt: inputs will be cast from torch.float32 to float16 during quantization\n",
            "  warnings.warn(f\"MatMul8bitLt: inputs will be cast from {A.dtype} to float16 during quantization\")\n"
          ]
        }
      ]
    },
    {
      "cell_type": "code",
      "source": [
        "tokenizer(\"aba\")"
      ],
      "metadata": {
        "colab": {
          "base_uri": "https://localhost:8080/"
        },
        "id": "sq3Mixmd7-zh",
        "outputId": "374fe6dc-18aa-4314-8f78-ada939cd223d"
      },
      "execution_count": null,
      "outputs": [
        {
          "output_type": "execute_result",
          "data": {
            "text/plain": [
              "{'input_ids': [2, 6412], 'attention_mask': [1, 1]}"
            ]
          },
          "metadata": {},
          "execution_count": 18
        }
      ]
    },
    {
      "cell_type": "code",
      "source": [
        "list(val_dataset[0].keys())"
      ],
      "metadata": {
        "colab": {
          "base_uri": "https://localhost:8080/"
        },
        "id": "R6hJWA8m8C7n",
        "outputId": "47142b3b-d671-4ce8-a779-803623179d05"
      },
      "execution_count": null,
      "outputs": [
        {
          "output_type": "execute_result",
          "data": {
            "text/plain": [
              "['input_ids', 'attention_mask']"
            ]
          },
          "metadata": {},
          "execution_count": 21
        }
      ]
    },
    {
      "cell_type": "markdown",
      "source": [
        "### Optimize for inference (forever!)\n",
        "\n",
        "This converts training-optimized 8bit weights into inference-optimized layout. It should result in significantly faster inference in the same memory foorptint. \n",
        "However, if you do this, you can no longer run training --\n",
        " there is no way to un-convert after the first optimized forward pass!"
      ],
      "metadata": {
        "id": "MHYljmTjj5wX"
      }
    },
    {
      "cell_type": "code",
      "source": [
        "model.config.use_cache = True\n",
        "\n",
        "for module in model.modules():\n",
        "    if isinstance(module, bnb.nn.Linear8bitLt):\n",
        "        module.state.memory_efficient_backward = False"
      ],
      "metadata": {
        "id": "td8VEVpkZUQi"
      },
      "execution_count": null,
      "outputs": []
    }
  ],
  "metadata": {
    "accelerator": "GPU",
    "colab": {
      "provenance": []
    },
    "gpuClass": "standard",
    "kernelspec": {
      "display_name": "Python 3",
      "name": "python3"
    },
    "language_info": {
      "name": "python"
    },
    "widgets": {
      "application/vnd.jupyter.widget-state+json": {
        "a7c7d3f2f83d4243b35ada3b303c5389": {
          "model_module": "@jupyter-widgets/controls",
          "model_name": "HBoxModel",
          "model_module_version": "1.5.0",
          "state": {
            "_dom_classes": [],
            "_model_module": "@jupyter-widgets/controls",
            "_model_module_version": "1.5.0",
            "_model_name": "HBoxModel",
            "_view_count": null,
            "_view_module": "@jupyter-widgets/controls",
            "_view_module_version": "1.5.0",
            "_view_name": "HBoxView",
            "box_style": "",
            "children": [
              "IPY_MODEL_d83f7533a21542a3825ec119cae918e0",
              "IPY_MODEL_67422b133d7b4af6b6b9339ad0f1254c",
              "IPY_MODEL_76577924b5584fc089a24b078cbc7e7a"
            ],
            "layout": "IPY_MODEL_86e507ae6abf47f1845b22d904b65f1c"
          }
        },
        "d83f7533a21542a3825ec119cae918e0": {
          "model_module": "@jupyter-widgets/controls",
          "model_name": "HTMLModel",
          "model_module_version": "1.5.0",
          "state": {
            "_dom_classes": [],
            "_model_module": "@jupyter-widgets/controls",
            "_model_module_version": "1.5.0",
            "_model_name": "HTMLModel",
            "_view_count": null,
            "_view_module": "@jupyter-widgets/controls",
            "_view_module_version": "1.5.0",
            "_view_name": "HTMLView",
            "description": "",
            "description_tooltip": null,
            "layout": "IPY_MODEL_26a70e6031594259b2417999b8f16794",
            "placeholder": "​",
            "style": "IPY_MODEL_b12e3336e5e941868a79b0b15f4bd234",
            "value": "Downloading: 100%"
          }
        },
        "67422b133d7b4af6b6b9339ad0f1254c": {
          "model_module": "@jupyter-widgets/controls",
          "model_name": "FloatProgressModel",
          "model_module_version": "1.5.0",
          "state": {
            "_dom_classes": [],
            "_model_module": "@jupyter-widgets/controls",
            "_model_module_version": "1.5.0",
            "_model_name": "FloatProgressModel",
            "_view_count": null,
            "_view_module": "@jupyter-widgets/controls",
            "_view_module_version": "1.5.0",
            "_view_name": "ProgressView",
            "bar_style": "success",
            "description": "",
            "description_tooltip": null,
            "layout": "IPY_MODEL_de402943286b4c728b333dc0344c3331",
            "max": 685,
            "min": 0,
            "orientation": "horizontal",
            "style": "IPY_MODEL_a21abccefb904f5e8ad0aeb106495da7",
            "value": 685
          }
        },
        "76577924b5584fc089a24b078cbc7e7a": {
          "model_module": "@jupyter-widgets/controls",
          "model_name": "HTMLModel",
          "model_module_version": "1.5.0",
          "state": {
            "_dom_classes": [],
            "_model_module": "@jupyter-widgets/controls",
            "_model_module_version": "1.5.0",
            "_model_name": "HTMLModel",
            "_view_count": null,
            "_view_module": "@jupyter-widgets/controls",
            "_view_module_version": "1.5.0",
            "_view_name": "HTMLView",
            "description": "",
            "description_tooltip": null,
            "layout": "IPY_MODEL_3173df2b95064bb58ce97e9abb80e80d",
            "placeholder": "​",
            "style": "IPY_MODEL_f7b249aea4804931afe5b885f562b328",
            "value": " 685/685 [00:00&lt;00:00, 16.2kB/s]"
          }
        },
        "86e507ae6abf47f1845b22d904b65f1c": {
          "model_module": "@jupyter-widgets/base",
          "model_name": "LayoutModel",
          "model_module_version": "1.2.0",
          "state": {
            "_model_module": "@jupyter-widgets/base",
            "_model_module_version": "1.2.0",
            "_model_name": "LayoutModel",
            "_view_count": null,
            "_view_module": "@jupyter-widgets/base",
            "_view_module_version": "1.2.0",
            "_view_name": "LayoutView",
            "align_content": null,
            "align_items": null,
            "align_self": null,
            "border": null,
            "bottom": null,
            "display": null,
            "flex": null,
            "flex_flow": null,
            "grid_area": null,
            "grid_auto_columns": null,
            "grid_auto_flow": null,
            "grid_auto_rows": null,
            "grid_column": null,
            "grid_gap": null,
            "grid_row": null,
            "grid_template_areas": null,
            "grid_template_columns": null,
            "grid_template_rows": null,
            "height": null,
            "justify_content": null,
            "justify_items": null,
            "left": null,
            "margin": null,
            "max_height": null,
            "max_width": null,
            "min_height": null,
            "min_width": null,
            "object_fit": null,
            "object_position": null,
            "order": null,
            "overflow": null,
            "overflow_x": null,
            "overflow_y": null,
            "padding": null,
            "right": null,
            "top": null,
            "visibility": null,
            "width": null
          }
        },
        "26a70e6031594259b2417999b8f16794": {
          "model_module": "@jupyter-widgets/base",
          "model_name": "LayoutModel",
          "model_module_version": "1.2.0",
          "state": {
            "_model_module": "@jupyter-widgets/base",
            "_model_module_version": "1.2.0",
            "_model_name": "LayoutModel",
            "_view_count": null,
            "_view_module": "@jupyter-widgets/base",
            "_view_module_version": "1.2.0",
            "_view_name": "LayoutView",
            "align_content": null,
            "align_items": null,
            "align_self": null,
            "border": null,
            "bottom": null,
            "display": null,
            "flex": null,
            "flex_flow": null,
            "grid_area": null,
            "grid_auto_columns": null,
            "grid_auto_flow": null,
            "grid_auto_rows": null,
            "grid_column": null,
            "grid_gap": null,
            "grid_row": null,
            "grid_template_areas": null,
            "grid_template_columns": null,
            "grid_template_rows": null,
            "height": null,
            "justify_content": null,
            "justify_items": null,
            "left": null,
            "margin": null,
            "max_height": null,
            "max_width": null,
            "min_height": null,
            "min_width": null,
            "object_fit": null,
            "object_position": null,
            "order": null,
            "overflow": null,
            "overflow_x": null,
            "overflow_y": null,
            "padding": null,
            "right": null,
            "top": null,
            "visibility": null,
            "width": null
          }
        },
        "b12e3336e5e941868a79b0b15f4bd234": {
          "model_module": "@jupyter-widgets/controls",
          "model_name": "DescriptionStyleModel",
          "model_module_version": "1.5.0",
          "state": {
            "_model_module": "@jupyter-widgets/controls",
            "_model_module_version": "1.5.0",
            "_model_name": "DescriptionStyleModel",
            "_view_count": null,
            "_view_module": "@jupyter-widgets/base",
            "_view_module_version": "1.2.0",
            "_view_name": "StyleView",
            "description_width": ""
          }
        },
        "de402943286b4c728b333dc0344c3331": {
          "model_module": "@jupyter-widgets/base",
          "model_name": "LayoutModel",
          "model_module_version": "1.2.0",
          "state": {
            "_model_module": "@jupyter-widgets/base",
            "_model_module_version": "1.2.0",
            "_model_name": "LayoutModel",
            "_view_count": null,
            "_view_module": "@jupyter-widgets/base",
            "_view_module_version": "1.2.0",
            "_view_name": "LayoutView",
            "align_content": null,
            "align_items": null,
            "align_self": null,
            "border": null,
            "bottom": null,
            "display": null,
            "flex": null,
            "flex_flow": null,
            "grid_area": null,
            "grid_auto_columns": null,
            "grid_auto_flow": null,
            "grid_auto_rows": null,
            "grid_column": null,
            "grid_gap": null,
            "grid_row": null,
            "grid_template_areas": null,
            "grid_template_columns": null,
            "grid_template_rows": null,
            "height": null,
            "justify_content": null,
            "justify_items": null,
            "left": null,
            "margin": null,
            "max_height": null,
            "max_width": null,
            "min_height": null,
            "min_width": null,
            "object_fit": null,
            "object_position": null,
            "order": null,
            "overflow": null,
            "overflow_x": null,
            "overflow_y": null,
            "padding": null,
            "right": null,
            "top": null,
            "visibility": null,
            "width": null
          }
        },
        "a21abccefb904f5e8ad0aeb106495da7": {
          "model_module": "@jupyter-widgets/controls",
          "model_name": "ProgressStyleModel",
          "model_module_version": "1.5.0",
          "state": {
            "_model_module": "@jupyter-widgets/controls",
            "_model_module_version": "1.5.0",
            "_model_name": "ProgressStyleModel",
            "_view_count": null,
            "_view_module": "@jupyter-widgets/base",
            "_view_module_version": "1.2.0",
            "_view_name": "StyleView",
            "bar_color": null,
            "description_width": ""
          }
        },
        "3173df2b95064bb58ce97e9abb80e80d": {
          "model_module": "@jupyter-widgets/base",
          "model_name": "LayoutModel",
          "model_module_version": "1.2.0",
          "state": {
            "_model_module": "@jupyter-widgets/base",
            "_model_module_version": "1.2.0",
            "_model_name": "LayoutModel",
            "_view_count": null,
            "_view_module": "@jupyter-widgets/base",
            "_view_module_version": "1.2.0",
            "_view_name": "LayoutView",
            "align_content": null,
            "align_items": null,
            "align_self": null,
            "border": null,
            "bottom": null,
            "display": null,
            "flex": null,
            "flex_flow": null,
            "grid_area": null,
            "grid_auto_columns": null,
            "grid_auto_flow": null,
            "grid_auto_rows": null,
            "grid_column": null,
            "grid_gap": null,
            "grid_row": null,
            "grid_template_areas": null,
            "grid_template_columns": null,
            "grid_template_rows": null,
            "height": null,
            "justify_content": null,
            "justify_items": null,
            "left": null,
            "margin": null,
            "max_height": null,
            "max_width": null,
            "min_height": null,
            "min_width": null,
            "object_fit": null,
            "object_position": null,
            "order": null,
            "overflow": null,
            "overflow_x": null,
            "overflow_y": null,
            "padding": null,
            "right": null,
            "top": null,
            "visibility": null,
            "width": null
          }
        },
        "f7b249aea4804931afe5b885f562b328": {
          "model_module": "@jupyter-widgets/controls",
          "model_name": "DescriptionStyleModel",
          "model_module_version": "1.5.0",
          "state": {
            "_model_module": "@jupyter-widgets/controls",
            "_model_module_version": "1.5.0",
            "_model_name": "DescriptionStyleModel",
            "_view_count": null,
            "_view_module": "@jupyter-widgets/base",
            "_view_module_version": "1.2.0",
            "_view_name": "StyleView",
            "description_width": ""
          }
        },
        "d293a6615fec403c9376957e252dadb8": {
          "model_module": "@jupyter-widgets/controls",
          "model_name": "HBoxModel",
          "model_module_version": "1.5.0",
          "state": {
            "_dom_classes": [],
            "_model_module": "@jupyter-widgets/controls",
            "_model_module_version": "1.5.0",
            "_model_name": "HBoxModel",
            "_view_count": null,
            "_view_module": "@jupyter-widgets/controls",
            "_view_module_version": "1.5.0",
            "_view_name": "HBoxView",
            "box_style": "",
            "children": [
              "IPY_MODEL_250b702a08d04d46aa5646fb0ba8f3bb",
              "IPY_MODEL_287f4cf943ca4d3b9923f509f940d16f",
              "IPY_MODEL_a3bc063c331b4a60810f926f2fcce146"
            ],
            "layout": "IPY_MODEL_819c75f7289f4c77949a971957a0923e"
          }
        },
        "250b702a08d04d46aa5646fb0ba8f3bb": {
          "model_module": "@jupyter-widgets/controls",
          "model_name": "HTMLModel",
          "model_module_version": "1.5.0",
          "state": {
            "_dom_classes": [],
            "_model_module": "@jupyter-widgets/controls",
            "_model_module_version": "1.5.0",
            "_model_name": "HTMLModel",
            "_view_count": null,
            "_view_module": "@jupyter-widgets/controls",
            "_view_module_version": "1.5.0",
            "_view_name": "HTMLView",
            "description": "",
            "description_tooltip": null,
            "layout": "IPY_MODEL_95b86ea13194422e811e7e41b4ebb6b5",
            "placeholder": "​",
            "style": "IPY_MODEL_2ba062c09b4e4953a467e58f19cbda07",
            "value": "Downloading: 100%"
          }
        },
        "287f4cf943ca4d3b9923f509f940d16f": {
          "model_module": "@jupyter-widgets/controls",
          "model_name": "FloatProgressModel",
          "model_module_version": "1.5.0",
          "state": {
            "_dom_classes": [],
            "_model_module": "@jupyter-widgets/controls",
            "_model_module_version": "1.5.0",
            "_model_name": "FloatProgressModel",
            "_view_count": null,
            "_view_module": "@jupyter-widgets/controls",
            "_view_module_version": "1.5.0",
            "_view_name": "ProgressView",
            "bar_style": "success",
            "description": "",
            "description_tooltip": null,
            "layout": "IPY_MODEL_9337c32e6ddb4d21b8c18bf0bc981e9c",
            "max": 898822,
            "min": 0,
            "orientation": "horizontal",
            "style": "IPY_MODEL_1b0535ed3a85440bb40c2e5b71aff999",
            "value": 898822
          }
        },
        "a3bc063c331b4a60810f926f2fcce146": {
          "model_module": "@jupyter-widgets/controls",
          "model_name": "HTMLModel",
          "model_module_version": "1.5.0",
          "state": {
            "_dom_classes": [],
            "_model_module": "@jupyter-widgets/controls",
            "_model_module_version": "1.5.0",
            "_model_name": "HTMLModel",
            "_view_count": null,
            "_view_module": "@jupyter-widgets/controls",
            "_view_module_version": "1.5.0",
            "_view_name": "HTMLView",
            "description": "",
            "description_tooltip": null,
            "layout": "IPY_MODEL_6e747418102242dba1ab3e2ea71df537",
            "placeholder": "​",
            "style": "IPY_MODEL_a0ececaa92f0494985064b3c979e1516",
            "value": " 899k/899k [00:01&lt;00:00, 903kB/s]"
          }
        },
        "819c75f7289f4c77949a971957a0923e": {
          "model_module": "@jupyter-widgets/base",
          "model_name": "LayoutModel",
          "model_module_version": "1.2.0",
          "state": {
            "_model_module": "@jupyter-widgets/base",
            "_model_module_version": "1.2.0",
            "_model_name": "LayoutModel",
            "_view_count": null,
            "_view_module": "@jupyter-widgets/base",
            "_view_module_version": "1.2.0",
            "_view_name": "LayoutView",
            "align_content": null,
            "align_items": null,
            "align_self": null,
            "border": null,
            "bottom": null,
            "display": null,
            "flex": null,
            "flex_flow": null,
            "grid_area": null,
            "grid_auto_columns": null,
            "grid_auto_flow": null,
            "grid_auto_rows": null,
            "grid_column": null,
            "grid_gap": null,
            "grid_row": null,
            "grid_template_areas": null,
            "grid_template_columns": null,
            "grid_template_rows": null,
            "height": null,
            "justify_content": null,
            "justify_items": null,
            "left": null,
            "margin": null,
            "max_height": null,
            "max_width": null,
            "min_height": null,
            "min_width": null,
            "object_fit": null,
            "object_position": null,
            "order": null,
            "overflow": null,
            "overflow_x": null,
            "overflow_y": null,
            "padding": null,
            "right": null,
            "top": null,
            "visibility": null,
            "width": null
          }
        },
        "95b86ea13194422e811e7e41b4ebb6b5": {
          "model_module": "@jupyter-widgets/base",
          "model_name": "LayoutModel",
          "model_module_version": "1.2.0",
          "state": {
            "_model_module": "@jupyter-widgets/base",
            "_model_module_version": "1.2.0",
            "_model_name": "LayoutModel",
            "_view_count": null,
            "_view_module": "@jupyter-widgets/base",
            "_view_module_version": "1.2.0",
            "_view_name": "LayoutView",
            "align_content": null,
            "align_items": null,
            "align_self": null,
            "border": null,
            "bottom": null,
            "display": null,
            "flex": null,
            "flex_flow": null,
            "grid_area": null,
            "grid_auto_columns": null,
            "grid_auto_flow": null,
            "grid_auto_rows": null,
            "grid_column": null,
            "grid_gap": null,
            "grid_row": null,
            "grid_template_areas": null,
            "grid_template_columns": null,
            "grid_template_rows": null,
            "height": null,
            "justify_content": null,
            "justify_items": null,
            "left": null,
            "margin": null,
            "max_height": null,
            "max_width": null,
            "min_height": null,
            "min_width": null,
            "object_fit": null,
            "object_position": null,
            "order": null,
            "overflow": null,
            "overflow_x": null,
            "overflow_y": null,
            "padding": null,
            "right": null,
            "top": null,
            "visibility": null,
            "width": null
          }
        },
        "2ba062c09b4e4953a467e58f19cbda07": {
          "model_module": "@jupyter-widgets/controls",
          "model_name": "DescriptionStyleModel",
          "model_module_version": "1.5.0",
          "state": {
            "_model_module": "@jupyter-widgets/controls",
            "_model_module_version": "1.5.0",
            "_model_name": "DescriptionStyleModel",
            "_view_count": null,
            "_view_module": "@jupyter-widgets/base",
            "_view_module_version": "1.2.0",
            "_view_name": "StyleView",
            "description_width": ""
          }
        },
        "9337c32e6ddb4d21b8c18bf0bc981e9c": {
          "model_module": "@jupyter-widgets/base",
          "model_name": "LayoutModel",
          "model_module_version": "1.2.0",
          "state": {
            "_model_module": "@jupyter-widgets/base",
            "_model_module_version": "1.2.0",
            "_model_name": "LayoutModel",
            "_view_count": null,
            "_view_module": "@jupyter-widgets/base",
            "_view_module_version": "1.2.0",
            "_view_name": "LayoutView",
            "align_content": null,
            "align_items": null,
            "align_self": null,
            "border": null,
            "bottom": null,
            "display": null,
            "flex": null,
            "flex_flow": null,
            "grid_area": null,
            "grid_auto_columns": null,
            "grid_auto_flow": null,
            "grid_auto_rows": null,
            "grid_column": null,
            "grid_gap": null,
            "grid_row": null,
            "grid_template_areas": null,
            "grid_template_columns": null,
            "grid_template_rows": null,
            "height": null,
            "justify_content": null,
            "justify_items": null,
            "left": null,
            "margin": null,
            "max_height": null,
            "max_width": null,
            "min_height": null,
            "min_width": null,
            "object_fit": null,
            "object_position": null,
            "order": null,
            "overflow": null,
            "overflow_x": null,
            "overflow_y": null,
            "padding": null,
            "right": null,
            "top": null,
            "visibility": null,
            "width": null
          }
        },
        "1b0535ed3a85440bb40c2e5b71aff999": {
          "model_module": "@jupyter-widgets/controls",
          "model_name": "ProgressStyleModel",
          "model_module_version": "1.5.0",
          "state": {
            "_model_module": "@jupyter-widgets/controls",
            "_model_module_version": "1.5.0",
            "_model_name": "ProgressStyleModel",
            "_view_count": null,
            "_view_module": "@jupyter-widgets/base",
            "_view_module_version": "1.2.0",
            "_view_name": "StyleView",
            "bar_color": null,
            "description_width": ""
          }
        },
        "6e747418102242dba1ab3e2ea71df537": {
          "model_module": "@jupyter-widgets/base",
          "model_name": "LayoutModel",
          "model_module_version": "1.2.0",
          "state": {
            "_model_module": "@jupyter-widgets/base",
            "_model_module_version": "1.2.0",
            "_model_name": "LayoutModel",
            "_view_count": null,
            "_view_module": "@jupyter-widgets/base",
            "_view_module_version": "1.2.0",
            "_view_name": "LayoutView",
            "align_content": null,
            "align_items": null,
            "align_self": null,
            "border": null,
            "bottom": null,
            "display": null,
            "flex": null,
            "flex_flow": null,
            "grid_area": null,
            "grid_auto_columns": null,
            "grid_auto_flow": null,
            "grid_auto_rows": null,
            "grid_column": null,
            "grid_gap": null,
            "grid_row": null,
            "grid_template_areas": null,
            "grid_template_columns": null,
            "grid_template_rows": null,
            "height": null,
            "justify_content": null,
            "justify_items": null,
            "left": null,
            "margin": null,
            "max_height": null,
            "max_width": null,
            "min_height": null,
            "min_width": null,
            "object_fit": null,
            "object_position": null,
            "order": null,
            "overflow": null,
            "overflow_x": null,
            "overflow_y": null,
            "padding": null,
            "right": null,
            "top": null,
            "visibility": null,
            "width": null
          }
        },
        "a0ececaa92f0494985064b3c979e1516": {
          "model_module": "@jupyter-widgets/controls",
          "model_name": "DescriptionStyleModel",
          "model_module_version": "1.5.0",
          "state": {
            "_model_module": "@jupyter-widgets/controls",
            "_model_module_version": "1.5.0",
            "_model_name": "DescriptionStyleModel",
            "_view_count": null,
            "_view_module": "@jupyter-widgets/base",
            "_view_module_version": "1.2.0",
            "_view_name": "StyleView",
            "description_width": ""
          }
        },
        "8a5a020de6ff418f9edf811f2770d42e": {
          "model_module": "@jupyter-widgets/controls",
          "model_name": "HBoxModel",
          "model_module_version": "1.5.0",
          "state": {
            "_dom_classes": [],
            "_model_module": "@jupyter-widgets/controls",
            "_model_module_version": "1.5.0",
            "_model_name": "HBoxModel",
            "_view_count": null,
            "_view_module": "@jupyter-widgets/controls",
            "_view_module_version": "1.5.0",
            "_view_name": "HBoxView",
            "box_style": "",
            "children": [
              "IPY_MODEL_ef9c0bcb93174357901dc6b51a961062",
              "IPY_MODEL_7e965391d14f45668f9380455aae8003",
              "IPY_MODEL_48b939d0ff6c442f8c195d9a7e5eb1ba"
            ],
            "layout": "IPY_MODEL_8f9f9f5ab3e144d99c8abdd3fcda7668"
          }
        },
        "ef9c0bcb93174357901dc6b51a961062": {
          "model_module": "@jupyter-widgets/controls",
          "model_name": "HTMLModel",
          "model_module_version": "1.5.0",
          "state": {
            "_dom_classes": [],
            "_model_module": "@jupyter-widgets/controls",
            "_model_module_version": "1.5.0",
            "_model_name": "HTMLModel",
            "_view_count": null,
            "_view_module": "@jupyter-widgets/controls",
            "_view_module_version": "1.5.0",
            "_view_name": "HTMLView",
            "description": "",
            "description_tooltip": null,
            "layout": "IPY_MODEL_be5080210a3e49b3bcae5924799a8c19",
            "placeholder": "​",
            "style": "IPY_MODEL_98606d6ce0ae4f4a8cd874ab437020d5",
            "value": "Downloading: 100%"
          }
        },
        "7e965391d14f45668f9380455aae8003": {
          "model_module": "@jupyter-widgets/controls",
          "model_name": "FloatProgressModel",
          "model_module_version": "1.5.0",
          "state": {
            "_dom_classes": [],
            "_model_module": "@jupyter-widgets/controls",
            "_model_module_version": "1.5.0",
            "_model_name": "FloatProgressModel",
            "_view_count": null,
            "_view_module": "@jupyter-widgets/controls",
            "_view_module_version": "1.5.0",
            "_view_name": "ProgressView",
            "bar_style": "success",
            "description": "",
            "description_tooltip": null,
            "layout": "IPY_MODEL_5d5c8d2df7ce48dfa67d3c14ca2b760e",
            "max": 456318,
            "min": 0,
            "orientation": "horizontal",
            "style": "IPY_MODEL_9487b7cc76784144ab9c7f3915330080",
            "value": 456318
          }
        },
        "48b939d0ff6c442f8c195d9a7e5eb1ba": {
          "model_module": "@jupyter-widgets/controls",
          "model_name": "HTMLModel",
          "model_module_version": "1.5.0",
          "state": {
            "_dom_classes": [],
            "_model_module": "@jupyter-widgets/controls",
            "_model_module_version": "1.5.0",
            "_model_name": "HTMLModel",
            "_view_count": null,
            "_view_module": "@jupyter-widgets/controls",
            "_view_module_version": "1.5.0",
            "_view_name": "HTMLView",
            "description": "",
            "description_tooltip": null,
            "layout": "IPY_MODEL_1d6318c054ab491c91cfdc619ecc7810",
            "placeholder": "​",
            "style": "IPY_MODEL_76ad9558dc6249f298b9ac45e170e9f9",
            "value": " 456k/456k [00:01&lt;00:00, 575kB/s]"
          }
        },
        "8f9f9f5ab3e144d99c8abdd3fcda7668": {
          "model_module": "@jupyter-widgets/base",
          "model_name": "LayoutModel",
          "model_module_version": "1.2.0",
          "state": {
            "_model_module": "@jupyter-widgets/base",
            "_model_module_version": "1.2.0",
            "_model_name": "LayoutModel",
            "_view_count": null,
            "_view_module": "@jupyter-widgets/base",
            "_view_module_version": "1.2.0",
            "_view_name": "LayoutView",
            "align_content": null,
            "align_items": null,
            "align_self": null,
            "border": null,
            "bottom": null,
            "display": null,
            "flex": null,
            "flex_flow": null,
            "grid_area": null,
            "grid_auto_columns": null,
            "grid_auto_flow": null,
            "grid_auto_rows": null,
            "grid_column": null,
            "grid_gap": null,
            "grid_row": null,
            "grid_template_areas": null,
            "grid_template_columns": null,
            "grid_template_rows": null,
            "height": null,
            "justify_content": null,
            "justify_items": null,
            "left": null,
            "margin": null,
            "max_height": null,
            "max_width": null,
            "min_height": null,
            "min_width": null,
            "object_fit": null,
            "object_position": null,
            "order": null,
            "overflow": null,
            "overflow_x": null,
            "overflow_y": null,
            "padding": null,
            "right": null,
            "top": null,
            "visibility": null,
            "width": null
          }
        },
        "be5080210a3e49b3bcae5924799a8c19": {
          "model_module": "@jupyter-widgets/base",
          "model_name": "LayoutModel",
          "model_module_version": "1.2.0",
          "state": {
            "_model_module": "@jupyter-widgets/base",
            "_model_module_version": "1.2.0",
            "_model_name": "LayoutModel",
            "_view_count": null,
            "_view_module": "@jupyter-widgets/base",
            "_view_module_version": "1.2.0",
            "_view_name": "LayoutView",
            "align_content": null,
            "align_items": null,
            "align_self": null,
            "border": null,
            "bottom": null,
            "display": null,
            "flex": null,
            "flex_flow": null,
            "grid_area": null,
            "grid_auto_columns": null,
            "grid_auto_flow": null,
            "grid_auto_rows": null,
            "grid_column": null,
            "grid_gap": null,
            "grid_row": null,
            "grid_template_areas": null,
            "grid_template_columns": null,
            "grid_template_rows": null,
            "height": null,
            "justify_content": null,
            "justify_items": null,
            "left": null,
            "margin": null,
            "max_height": null,
            "max_width": null,
            "min_height": null,
            "min_width": null,
            "object_fit": null,
            "object_position": null,
            "order": null,
            "overflow": null,
            "overflow_x": null,
            "overflow_y": null,
            "padding": null,
            "right": null,
            "top": null,
            "visibility": null,
            "width": null
          }
        },
        "98606d6ce0ae4f4a8cd874ab437020d5": {
          "model_module": "@jupyter-widgets/controls",
          "model_name": "DescriptionStyleModel",
          "model_module_version": "1.5.0",
          "state": {
            "_model_module": "@jupyter-widgets/controls",
            "_model_module_version": "1.5.0",
            "_model_name": "DescriptionStyleModel",
            "_view_count": null,
            "_view_module": "@jupyter-widgets/base",
            "_view_module_version": "1.2.0",
            "_view_name": "StyleView",
            "description_width": ""
          }
        },
        "5d5c8d2df7ce48dfa67d3c14ca2b760e": {
          "model_module": "@jupyter-widgets/base",
          "model_name": "LayoutModel",
          "model_module_version": "1.2.0",
          "state": {
            "_model_module": "@jupyter-widgets/base",
            "_model_module_version": "1.2.0",
            "_model_name": "LayoutModel",
            "_view_count": null,
            "_view_module": "@jupyter-widgets/base",
            "_view_module_version": "1.2.0",
            "_view_name": "LayoutView",
            "align_content": null,
            "align_items": null,
            "align_self": null,
            "border": null,
            "bottom": null,
            "display": null,
            "flex": null,
            "flex_flow": null,
            "grid_area": null,
            "grid_auto_columns": null,
            "grid_auto_flow": null,
            "grid_auto_rows": null,
            "grid_column": null,
            "grid_gap": null,
            "grid_row": null,
            "grid_template_areas": null,
            "grid_template_columns": null,
            "grid_template_rows": null,
            "height": null,
            "justify_content": null,
            "justify_items": null,
            "left": null,
            "margin": null,
            "max_height": null,
            "max_width": null,
            "min_height": null,
            "min_width": null,
            "object_fit": null,
            "object_position": null,
            "order": null,
            "overflow": null,
            "overflow_x": null,
            "overflow_y": null,
            "padding": null,
            "right": null,
            "top": null,
            "visibility": null,
            "width": null
          }
        },
        "9487b7cc76784144ab9c7f3915330080": {
          "model_module": "@jupyter-widgets/controls",
          "model_name": "ProgressStyleModel",
          "model_module_version": "1.5.0",
          "state": {
            "_model_module": "@jupyter-widgets/controls",
            "_model_module_version": "1.5.0",
            "_model_name": "ProgressStyleModel",
            "_view_count": null,
            "_view_module": "@jupyter-widgets/base",
            "_view_module_version": "1.2.0",
            "_view_name": "StyleView",
            "bar_color": null,
            "description_width": ""
          }
        },
        "1d6318c054ab491c91cfdc619ecc7810": {
          "model_module": "@jupyter-widgets/base",
          "model_name": "LayoutModel",
          "model_module_version": "1.2.0",
          "state": {
            "_model_module": "@jupyter-widgets/base",
            "_model_module_version": "1.2.0",
            "_model_name": "LayoutModel",
            "_view_count": null,
            "_view_module": "@jupyter-widgets/base",
            "_view_module_version": "1.2.0",
            "_view_name": "LayoutView",
            "align_content": null,
            "align_items": null,
            "align_self": null,
            "border": null,
            "bottom": null,
            "display": null,
            "flex": null,
            "flex_flow": null,
            "grid_area": null,
            "grid_auto_columns": null,
            "grid_auto_flow": null,
            "grid_auto_rows": null,
            "grid_column": null,
            "grid_gap": null,
            "grid_row": null,
            "grid_template_areas": null,
            "grid_template_columns": null,
            "grid_template_rows": null,
            "height": null,
            "justify_content": null,
            "justify_items": null,
            "left": null,
            "margin": null,
            "max_height": null,
            "max_width": null,
            "min_height": null,
            "min_width": null,
            "object_fit": null,
            "object_position": null,
            "order": null,
            "overflow": null,
            "overflow_x": null,
            "overflow_y": null,
            "padding": null,
            "right": null,
            "top": null,
            "visibility": null,
            "width": null
          }
        },
        "76ad9558dc6249f298b9ac45e170e9f9": {
          "model_module": "@jupyter-widgets/controls",
          "model_name": "DescriptionStyleModel",
          "model_module_version": "1.5.0",
          "state": {
            "_model_module": "@jupyter-widgets/controls",
            "_model_module_version": "1.5.0",
            "_model_name": "DescriptionStyleModel",
            "_view_count": null,
            "_view_module": "@jupyter-widgets/base",
            "_view_module_version": "1.2.0",
            "_view_name": "StyleView",
            "description_width": ""
          }
        },
        "3239630620a94273a7d3f56bd8346f31": {
          "model_module": "@jupyter-widgets/controls",
          "model_name": "HBoxModel",
          "model_module_version": "1.5.0",
          "state": {
            "_dom_classes": [],
            "_model_module": "@jupyter-widgets/controls",
            "_model_module_version": "1.5.0",
            "_model_name": "HBoxModel",
            "_view_count": null,
            "_view_module": "@jupyter-widgets/controls",
            "_view_module_version": "1.5.0",
            "_view_name": "HBoxView",
            "box_style": "",
            "children": [
              "IPY_MODEL_38311e0bb38c46a3858159d1818160d0",
              "IPY_MODEL_ff3598f8b6e047dca5a75cea0611e6d0",
              "IPY_MODEL_491acb269cab461f8604d80cd279eccd"
            ],
            "layout": "IPY_MODEL_5f924d875c604ab5aad7be04ec628729"
          }
        },
        "38311e0bb38c46a3858159d1818160d0": {
          "model_module": "@jupyter-widgets/controls",
          "model_name": "HTMLModel",
          "model_module_version": "1.5.0",
          "state": {
            "_dom_classes": [],
            "_model_module": "@jupyter-widgets/controls",
            "_model_module_version": "1.5.0",
            "_model_name": "HTMLModel",
            "_view_count": null,
            "_view_module": "@jupyter-widgets/controls",
            "_view_module_version": "1.5.0",
            "_view_name": "HTMLView",
            "description": "",
            "description_tooltip": null,
            "layout": "IPY_MODEL_091e0e9d28a2424b9b1fd94f83b5993f",
            "placeholder": "​",
            "style": "IPY_MODEL_4a0bf9ad8093418eb6e24bd4afab355f",
            "value": "Downloading: 100%"
          }
        },
        "ff3598f8b6e047dca5a75cea0611e6d0": {
          "model_module": "@jupyter-widgets/controls",
          "model_name": "FloatProgressModel",
          "model_module_version": "1.5.0",
          "state": {
            "_dom_classes": [],
            "_model_module": "@jupyter-widgets/controls",
            "_model_module_version": "1.5.0",
            "_model_name": "FloatProgressModel",
            "_view_count": null,
            "_view_module": "@jupyter-widgets/controls",
            "_view_module_version": "1.5.0",
            "_view_name": "ProgressView",
            "bar_style": "success",
            "description": "",
            "description_tooltip": null,
            "layout": "IPY_MODEL_f3438f71c9804cdf9a7b989e48720277",
            "max": 441,
            "min": 0,
            "orientation": "horizontal",
            "style": "IPY_MODEL_b54ce1fd2909487486e456e02e3338e2",
            "value": 441
          }
        },
        "491acb269cab461f8604d80cd279eccd": {
          "model_module": "@jupyter-widgets/controls",
          "model_name": "HTMLModel",
          "model_module_version": "1.5.0",
          "state": {
            "_dom_classes": [],
            "_model_module": "@jupyter-widgets/controls",
            "_model_module_version": "1.5.0",
            "_model_name": "HTMLModel",
            "_view_count": null,
            "_view_module": "@jupyter-widgets/controls",
            "_view_module_version": "1.5.0",
            "_view_name": "HTMLView",
            "description": "",
            "description_tooltip": null,
            "layout": "IPY_MODEL_497cd23571a743c99780aabae81377a2",
            "placeholder": "​",
            "style": "IPY_MODEL_471025e44ba04078b25f3d170503c5f3",
            "value": " 441/441 [00:00&lt;00:00, 15.4kB/s]"
          }
        },
        "5f924d875c604ab5aad7be04ec628729": {
          "model_module": "@jupyter-widgets/base",
          "model_name": "LayoutModel",
          "model_module_version": "1.2.0",
          "state": {
            "_model_module": "@jupyter-widgets/base",
            "_model_module_version": "1.2.0",
            "_model_name": "LayoutModel",
            "_view_count": null,
            "_view_module": "@jupyter-widgets/base",
            "_view_module_version": "1.2.0",
            "_view_name": "LayoutView",
            "align_content": null,
            "align_items": null,
            "align_self": null,
            "border": null,
            "bottom": null,
            "display": null,
            "flex": null,
            "flex_flow": null,
            "grid_area": null,
            "grid_auto_columns": null,
            "grid_auto_flow": null,
            "grid_auto_rows": null,
            "grid_column": null,
            "grid_gap": null,
            "grid_row": null,
            "grid_template_areas": null,
            "grid_template_columns": null,
            "grid_template_rows": null,
            "height": null,
            "justify_content": null,
            "justify_items": null,
            "left": null,
            "margin": null,
            "max_height": null,
            "max_width": null,
            "min_height": null,
            "min_width": null,
            "object_fit": null,
            "object_position": null,
            "order": null,
            "overflow": null,
            "overflow_x": null,
            "overflow_y": null,
            "padding": null,
            "right": null,
            "top": null,
            "visibility": null,
            "width": null
          }
        },
        "091e0e9d28a2424b9b1fd94f83b5993f": {
          "model_module": "@jupyter-widgets/base",
          "model_name": "LayoutModel",
          "model_module_version": "1.2.0",
          "state": {
            "_model_module": "@jupyter-widgets/base",
            "_model_module_version": "1.2.0",
            "_model_name": "LayoutModel",
            "_view_count": null,
            "_view_module": "@jupyter-widgets/base",
            "_view_module_version": "1.2.0",
            "_view_name": "LayoutView",
            "align_content": null,
            "align_items": null,
            "align_self": null,
            "border": null,
            "bottom": null,
            "display": null,
            "flex": null,
            "flex_flow": null,
            "grid_area": null,
            "grid_auto_columns": null,
            "grid_auto_flow": null,
            "grid_auto_rows": null,
            "grid_column": null,
            "grid_gap": null,
            "grid_row": null,
            "grid_template_areas": null,
            "grid_template_columns": null,
            "grid_template_rows": null,
            "height": null,
            "justify_content": null,
            "justify_items": null,
            "left": null,
            "margin": null,
            "max_height": null,
            "max_width": null,
            "min_height": null,
            "min_width": null,
            "object_fit": null,
            "object_position": null,
            "order": null,
            "overflow": null,
            "overflow_x": null,
            "overflow_y": null,
            "padding": null,
            "right": null,
            "top": null,
            "visibility": null,
            "width": null
          }
        },
        "4a0bf9ad8093418eb6e24bd4afab355f": {
          "model_module": "@jupyter-widgets/controls",
          "model_name": "DescriptionStyleModel",
          "model_module_version": "1.5.0",
          "state": {
            "_model_module": "@jupyter-widgets/controls",
            "_model_module_version": "1.5.0",
            "_model_name": "DescriptionStyleModel",
            "_view_count": null,
            "_view_module": "@jupyter-widgets/base",
            "_view_module_version": "1.2.0",
            "_view_name": "StyleView",
            "description_width": ""
          }
        },
        "f3438f71c9804cdf9a7b989e48720277": {
          "model_module": "@jupyter-widgets/base",
          "model_name": "LayoutModel",
          "model_module_version": "1.2.0",
          "state": {
            "_model_module": "@jupyter-widgets/base",
            "_model_module_version": "1.2.0",
            "_model_name": "LayoutModel",
            "_view_count": null,
            "_view_module": "@jupyter-widgets/base",
            "_view_module_version": "1.2.0",
            "_view_name": "LayoutView",
            "align_content": null,
            "align_items": null,
            "align_self": null,
            "border": null,
            "bottom": null,
            "display": null,
            "flex": null,
            "flex_flow": null,
            "grid_area": null,
            "grid_auto_columns": null,
            "grid_auto_flow": null,
            "grid_auto_rows": null,
            "grid_column": null,
            "grid_gap": null,
            "grid_row": null,
            "grid_template_areas": null,
            "grid_template_columns": null,
            "grid_template_rows": null,
            "height": null,
            "justify_content": null,
            "justify_items": null,
            "left": null,
            "margin": null,
            "max_height": null,
            "max_width": null,
            "min_height": null,
            "min_width": null,
            "object_fit": null,
            "object_position": null,
            "order": null,
            "overflow": null,
            "overflow_x": null,
            "overflow_y": null,
            "padding": null,
            "right": null,
            "top": null,
            "visibility": null,
            "width": null
          }
        },
        "b54ce1fd2909487486e456e02e3338e2": {
          "model_module": "@jupyter-widgets/controls",
          "model_name": "ProgressStyleModel",
          "model_module_version": "1.5.0",
          "state": {
            "_model_module": "@jupyter-widgets/controls",
            "_model_module_version": "1.5.0",
            "_model_name": "ProgressStyleModel",
            "_view_count": null,
            "_view_module": "@jupyter-widgets/base",
            "_view_module_version": "1.2.0",
            "_view_name": "StyleView",
            "bar_color": null,
            "description_width": ""
          }
        },
        "497cd23571a743c99780aabae81377a2": {
          "model_module": "@jupyter-widgets/base",
          "model_name": "LayoutModel",
          "model_module_version": "1.2.0",
          "state": {
            "_model_module": "@jupyter-widgets/base",
            "_model_module_version": "1.2.0",
            "_model_name": "LayoutModel",
            "_view_count": null,
            "_view_module": "@jupyter-widgets/base",
            "_view_module_version": "1.2.0",
            "_view_name": "LayoutView",
            "align_content": null,
            "align_items": null,
            "align_self": null,
            "border": null,
            "bottom": null,
            "display": null,
            "flex": null,
            "flex_flow": null,
            "grid_area": null,
            "grid_auto_columns": null,
            "grid_auto_flow": null,
            "grid_auto_rows": null,
            "grid_column": null,
            "grid_gap": null,
            "grid_row": null,
            "grid_template_areas": null,
            "grid_template_columns": null,
            "grid_template_rows": null,
            "height": null,
            "justify_content": null,
            "justify_items": null,
            "left": null,
            "margin": null,
            "max_height": null,
            "max_width": null,
            "min_height": null,
            "min_width": null,
            "object_fit": null,
            "object_position": null,
            "order": null,
            "overflow": null,
            "overflow_x": null,
            "overflow_y": null,
            "padding": null,
            "right": null,
            "top": null,
            "visibility": null,
            "width": null
          }
        },
        "471025e44ba04078b25f3d170503c5f3": {
          "model_module": "@jupyter-widgets/controls",
          "model_name": "DescriptionStyleModel",
          "model_module_version": "1.5.0",
          "state": {
            "_model_module": "@jupyter-widgets/controls",
            "_model_module_version": "1.5.0",
            "_model_name": "DescriptionStyleModel",
            "_view_count": null,
            "_view_module": "@jupyter-widgets/base",
            "_view_module_version": "1.2.0",
            "_view_name": "StyleView",
            "description_width": ""
          }
        }
      }
    }
  },
  "nbformat": 4,
  "nbformat_minor": 0
}
